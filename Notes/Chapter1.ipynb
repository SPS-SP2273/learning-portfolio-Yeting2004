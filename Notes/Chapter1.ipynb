{
 "cells": [
  {
   "cell_type": "markdown",
   "id": "d8bdc64b-2107-4a05-8ebb-6195a208dc6a",
   "metadata": {},
   "source": [
    "## Syntax"
   ]
  },
  {
   "cell_type": "markdown",
   "id": "a0789cb9-62c7-4166-8a5b-2f7cbeafeceb",
   "metadata": {},
   "source": [
    "**bold** or __bold__ "
   ]
  },
  {
   "cell_type": "markdown",
   "id": "f9ea4b5c-a026-4785-b4d7-456f4cd57827",
   "metadata": {},
   "source": [
    "*italic* or _italic_"
   ]
  },
  {
   "cell_type": "markdown",
   "id": "0fdd1dab-3c18-4e68-ad62-e4f90285b1c0",
   "metadata": {},
   "source": [
    "***bold and italic*** or ___bold and italic___"
   ]
  },
  {
   "cell_type": "markdown",
   "id": "e0d2f1a6-c264-41b9-bada-e3efe68b079e",
   "metadata": {},
   "source": [
    "<sub>subscript</sub>"
   ]
  },
  {
   "cell_type": "markdown",
   "id": "d3da22a4-c270-4ba8-9efd-8b2ac6498186",
   "metadata": {},
   "source": [
    "<sup>supscript</sup>"
   ]
  },
  {
   "cell_type": "markdown",
   "id": "907761ac-4b64-4dc3-bd42-0b7967e00689",
   "metadata": {},
   "source": [
    "Use this [website](https://www.cmor-faculty.rice.edu/~heinken/latex/symbols.pdf) for math symbols"
   ]
  },
  {
   "cell_type": "markdown",
   "id": "8efa7a1a-8f0e-46dd-a1c3-f09206f5a529",
   "metadata": {},
   "source": [
    "## Heading"
   ]
  },
  {
   "cell_type": "markdown",
   "id": "53eec837-3fd3-4dc0-bd0f-454ac2665997",
   "metadata": {},
   "source": [
    "# The largest heading\n",
    "\n",
    "## The second-largest heading\n",
    "\n",
    "### The third-largest heading\n",
    "\n",
    "#### The smallest heading\n"
   ]
  },
  {
   "cell_type": "markdown",
   "id": "c6b85203-e3ef-42b2-80f1-33586daf04ee",
   "metadata": {},
   "source": [
    "## Display code"
   ]
  },
  {
   "cell_type": "markdown",
   "id": "9c4ddaf9-01a5-4e53-99d8-d68e063aa09d",
   "metadata": {},
   "source": [
    "`print('show code inline')`"
   ]
  },
  {
   "cell_type": "markdown",
   "id": "e82e5b90-bce9-4c6d-907f-8a58dc7369f9",
   "metadata": {},
   "source": [
    "```python\n",
    "print('show block of code')\n",
    "```"
   ]
  },
  {
   "cell_type": "markdown",
   "id": "06942fb5-f53c-4d65-93ea-9858fe25a7eb",
   "metadata": {},
   "source": [
    "## Link"
   ]
  },
  {
   "cell_type": "markdown",
   "id": "dbc5f230-7b16-4aa4-b8ac-5d7c9ebb35e1",
   "metadata": {},
   "source": [
    "[Website](link)"
   ]
  },
  {
   "cell_type": "markdown",
   "id": "2ca7768d-49d6-467d-ac90-7e9576f1f21e",
   "metadata": {},
   "source": [
    "## Photo"
   ]
  },
  {
   "cell_type": "markdown",
   "id": "04257de4-7b08-416f-b4ef-3363a3277303",
   "metadata": {},
   "source": [
    "![](Link)"
   ]
  },
  {
   "cell_type": "markdown",
   "id": "f62a4e3b-05ca-4e49-84c6-e5c24d00f9fc",
   "metadata": {},
   "source": [
    "## Tables"
   ]
  },
  {
   "cell_type": "markdown",
   "id": "580c0e5f-d3b3-47bf-97dd-74ae32032861",
   "metadata": {},
   "source": [
    "| A    |  B   |    C |\r\n",
    "| :--- | :--: | ---: |\r\n",
    "| a1   |  b1  |   c1 |\r\n",
    "| a2   |  b2  |   c2 |\r\n",
    "| a3   |  b3  |   c3 |"
   ]
  },
  {
   "cell_type": "markdown",
   "id": "72ae16b3-40be-402e-84bb-0176f6baae47",
   "metadata": {},
   "source": [
    "Use this [website](https://www.tablesgenerator.com/)"
   ]
  },
  {
   "cell_type": "markdown",
   "id": "01f149b9-de7f-4707-a70b-a369e10d7ef8",
   "metadata": {},
   "source": [
    "## Lists"
   ]
  },
  {
   "cell_type": "markdown",
   "id": "2bf43182-3580-48ed-95b5-a6fc035964f0",
   "metadata": {},
   "source": [
    "1. Number\n",
    "1. Number"
   ]
  },
  {
   "cell_type": "markdown",
   "id": "e75a486e-3b06-41c8-9e45-4a99e41a297d",
   "metadata": {},
   "source": [
    "- Unnumber\n",
    "- Unnumber\n",
    "- Unnumber"
   ]
  },
  {
   "cell_type": "markdown",
   "id": "ec96d97c-e9f6-4637-98f9-0b9ddb721359",
   "metadata": {},
   "source": [
    "1. Number-Number\n",
    "    1. Number-Number\n",
    "    1. Number-Number\n",
    "1. Number-Number"
   ]
  },
  {
   "cell_type": "markdown",
   "id": "2e3518c7-8e05-4b0d-b70b-a02b9f87196a",
   "metadata": {},
   "source": [
    "1. Number-Unnumber\n",
    "    - Number-Unnumber\n",
    "    - Number-Unnumber\n",
    "1. Number-Unnumber"
   ]
  },
  {
   "cell_type": "markdown",
   "id": "e9202ed2-1d84-4ca7-9bb8-353c795ada00",
   "metadata": {},
   "source": [
    "## Equations"
   ]
  },
  {
   "cell_type": "markdown",
   "id": "9fbefd28-086a-46ba-a67c-c6eb69b48859",
   "metadata": {},
   "source": [
    "Inline: $\\sqrt{b^2-4ac}$ "
   ]
  },
  {
   "cell_type": "markdown",
   "id": "38e17e50-a41f-4c91-8362-d27f616c6b73",
   "metadata": {},
   "source": [
    "Math Block: $$\r\n",
    "x = \\dfrac{-b \\pm \\sqrt{b^2-4ac}}{2a}\r\n",
    "$$"
   ]
  }
 ],
 "metadata": {
  "kernelspec": {
   "display_name": "Python 3 (ipykernel)",
   "language": "python",
   "name": "python3"
  },
  "language_info": {
   "codemirror_mode": {
    "name": "ipython",
    "version": 3
   },
   "file_extension": ".py",
   "mimetype": "text/x-python",
   "name": "python",
   "nbconvert_exporter": "python",
   "pygments_lexer": "ipython3",
   "version": "3.12.1"
  }
 },
 "nbformat": 4,
 "nbformat_minor": 5
}
