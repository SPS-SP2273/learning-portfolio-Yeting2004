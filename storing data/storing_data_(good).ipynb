{
 "cells": [
  {
   "attachments": {},
   "cell_type": "markdown",
   "id": "123456",
   "metadata": {},
   "source": [
    "<div style=\"text-align:left;font-size:2em\"><span style=\"font-weight:bolder;font-size:1.25em\">SP2273 | Learning Portfolio</span><br><br><span style=\"font-weight:bold;color:darkred\">Storing Data (Good)</span></div>"
   ]
  },
  {
   "attachments": {},
   "cell_type": "markdown",
   "id": "7ced28c7",
   "metadata": {},
   "source": [
    "# What to expect in this chapter"
   ]
  },
  {
   "cell_type": "markdown",
   "id": "f90fc96e-e100-42db-9a59-5ea7de7e0c11",
   "metadata": {},
   "source": [
    "Accessing and modifying lists, arrays and dictionaries and gain a better understanding of the differences and similarities between lists, NumPy arrays and dictionaries."
   ]
  },
  {
   "attachments": {},
   "cell_type": "markdown",
   "id": "0bfa0110",
   "metadata": {},
   "source": [
    "# 1 Subsetting: Indexing and Slicing"
   ]
  },
  {
   "cell_type": "markdown",
   "id": "cb8d1a9d-d7f1-4f9d-8f4b-1df172bf4189",
   "metadata": {},
   "source": [
    "Subsetting means to ‘select’:\n",
    "1. **Indexing** refers to selecting one element.\n",
    "2. **Slicing** refers to selecting a range of elements."
   ]
  },
  {
   "cell_type": "markdown",
   "id": "3befbafe-abfc-4516-878f-160ccd1d139b",
   "metadata": {},
   "source": [
    "## 1.1 Lists & Arrays in 1D | Subsetting & Indexing"
   ]
  },
  {
   "cell_type": "markdown",
   "id": "0c770536-023b-42f5-b0d6-8de8f66ea481",
   "metadata": {},
   "source": [
    "Works for both lists and arrays: **If you slice with [i:j], the slice will start at i and end at j-1, giving you a total of j-i elements.**"
   ]
  },
  {
   "cell_type": "markdown",
   "id": "1b51f9f3-9d75-4c7c-81a8-7a07984e17fc",
   "metadata": {},
   "source": [
    "| Syntax    | Result                          |                                 |\n",
    "|-----------|---------------------------------|---------------------------------|\n",
    "| x[0]      | First element                   | 'a1'                            |\n",
    "| x[-1]     | Last element                    | 'j10'                           |\n",
    "| x[0:3]    | Index 0 to 2                    | ['a1','b2','c3']                |\n",
    "| x[1:6]    | Index 1 to 5                    | ['b2','c3','d4','e5','f6']      |\n",
    "| x[1:6:2]  | Index 1 to 5 in steps of 2      | ['b2','d4','f6']                |\n",
    "| x[5:]     | Index 5 to the end              | ['f6','g7','h8','i9','j10']     |\n",
    "| x[:5]     | Index 0 to 5                    | ['a1','b2','c3','d4','e5']      |\n",
    "| x[5:2:-1] | Index 5 to 3 (i.e., in reverse) | ['f6','e5','d4']                |\n",
    "| x[::-1]   | Reverses the list               | ['j10','i9','h8',...,'b2','a1'] |"
   ]
  },
  {
   "cell_type": "code",
   "execution_count": 8,
   "id": "2b89f5af-10c0-466f-9cae-d50fb8177fc5",
   "metadata": {},
   "outputs": [
    {
     "name": "stdout",
     "output_type": "stream",
     "text": [
      "Andy\n",
      "Harry\n",
      "['Andy', 'Benny', 'Carrie', 'Daniel']\n",
      "['Benny' 'Carrie' 'Daniel']\n",
      "['Andy', 'Carrie']\n",
      "['Daniel' 'Effie' 'Fedrick' 'Garry' 'Harry']\n",
      "['Andy', 'Benny', 'Carrie']\n",
      "['Garry' 'Fedrick' 'Effie' 'Daniel' 'Carrie']\n",
      "['Garry', 'Effie', 'Carrie']\n",
      "[]\n",
      "[]\n",
      "['Harry', 'Garry', 'Fedrick', 'Effie', 'Daniel', 'Carrie', 'Benny', 'Andy']\n"
     ]
    }
   ],
   "source": [
    "import numpy as np\n",
    "name_list = [\"Andy\", \"Benny\", \"Carrie\", \"Daniel\", \"Effie\", \"Fedrick\", \"Garry\", \"Harry\"]\n",
    "name_array = np.array(name_list)\n",
    "\n",
    "print(name_list[0])\n",
    "print(name_array[-1])\n",
    "print(name_list[0:4])\n",
    "print(name_array[1:4])\n",
    "print(name_list[0:3:2])\n",
    "print(name_array[3:])\n",
    "print(name_list[:3])\n",
    "print(name_array[6:1:-1])\n",
    "print(name_list[6:1:-2])\n",
    "print(name_list[6:1:1]) #Does not work\n",
    "print(name_array[6:1]) #Does not work\n",
    "print(name_list[::-1])"
   ]
  },
  {
   "attachments": {},
   "cell_type": "markdown",
   "id": "1bdcca3b",
   "metadata": {},
   "source": [
    "## 1.2 Arrays only | Subsetting by masking"
   ]
  },
  {
   "cell_type": "markdown",
   "id": "4cf0a8fc-aa22-4361-a52c-818914059cc8",
   "metadata": {},
   "source": [
    "Numpy Masking only allows the true subset to be seen:"
   ]
  },
  {
   "cell_type": "code",
   "execution_count": 67,
   "id": "f2b4799a-184a-4f9c-9cea-7c17ee22b8a1",
   "metadata": {},
   "outputs": [
    {
     "data": {
      "text/plain": [
       "array([False, False, False, False, False,  True,  True,  True,  True,\n",
       "        True])"
      ]
     },
     "execution_count": 67,
     "metadata": {},
     "output_type": "execute_result"
    }
   ],
   "source": [
    "import numpy as np\n",
    "np_array = np.array([2,4,6,8,10,12,14,16,18,20])\n",
    "my_mask = np_array > 10\n",
    "my_mask #True is element more than 10"
   ]
  },
  {
   "cell_type": "code",
   "execution_count": 19,
   "id": "3aaecf3f-3ee4-4f53-aa27-05a7377a3bbc",
   "metadata": {},
   "outputs": [
    {
     "data": {
      "text/plain": [
       "array([12, 14, 16, 18, 20])"
      ]
     },
     "execution_count": 19,
     "metadata": {},
     "output_type": "execute_result"
    }
   ],
   "source": [
    "np_array[my_mask]"
   ]
  },
  {
   "cell_type": "markdown",
   "id": "56ff71b5-4c5d-4143-8940-e454bc875282",
   "metadata": {},
   "source": [
    "Shorthand:"
   ]
  },
  {
   "cell_type": "code",
   "execution_count": 20,
   "id": "3b4e2dda-b94a-434d-990f-5ce2d7b5e254",
   "metadata": {},
   "outputs": [
    {
     "data": {
      "text/plain": [
       "array([12, 14, 16, 18, 20])"
      ]
     },
     "execution_count": 20,
     "metadata": {},
     "output_type": "execute_result"
    }
   ],
   "source": [
    "np_array[np_array > 10]"
   ]
  },
  {
   "cell_type": "code",
   "execution_count": 23,
   "id": "e42c69ad-b0ab-410e-825d-4764639cc299",
   "metadata": {},
   "outputs": [
    {
     "data": {
      "text/plain": [
       "array([ 2,  4,  6,  8, 10])"
      ]
     },
     "execution_count": 23,
     "metadata": {},
     "output_type": "execute_result"
    }
   ],
   "source": [
    "np_array[~(np_array > 10)] #Invert our mask by using the ~ (Bitwise Not operator)"
   ]
  },
  {
   "cell_type": "code",
   "execution_count": 28,
   "id": "8af1c98b-c6fb-4ed5-a906-1998a8f7de4f",
   "metadata": {},
   "outputs": [
    {
     "data": {
      "text/plain": [
       "array([12])"
      ]
     },
     "execution_count": 28,
     "metadata": {},
     "output_type": "execute_result"
    }
   ],
   "source": [
    "np_array[(np_array>10) & (np_array<14)] # & means and"
   ]
  },
  {
   "cell_type": "code",
   "execution_count": 30,
   "id": "5e7fc7dd-177f-45e1-bfaf-937a89242b02",
   "metadata": {},
   "outputs": [
    {
     "data": {
      "text/plain": [
       "array([ 2,  4, 12, 14, 16, 18, 20])"
      ]
     },
     "execution_count": 30,
     "metadata": {},
     "output_type": "execute_result"
    }
   ],
   "source": [
    "np_array[(np_array>10) | (np_array<6)] # | means or"
   ]
  },
  {
   "cell_type": "markdown",
   "id": "f2cd8a49-a63e-4bb6-a753-c7d701e535e4",
   "metadata": {},
   "source": [
    "- Bitwise Not (~)\n",
    "- Bitwise And (&)\n",
    "- Bitwise Or (|)"
   ]
  },
  {
   "attachments": {},
   "cell_type": "markdown",
   "id": "3d1fa087",
   "metadata": {},
   "source": [
    "## 1.3 Lists & Arrays in 2D | Indexing & Slicing"
   ]
  },
  {
   "cell_type": "code",
   "execution_count": 37,
   "id": "b886fe60-9da3-4504-ab8a-c59613eb368d",
   "metadata": {},
   "outputs": [
    {
     "name": "stdout",
     "output_type": "stream",
     "text": [
      "[4, 'Daniel']\n",
      "['4' 'Daniel']\n"
     ]
    }
   ],
   "source": [
    "list_2d = [[1, \"Andy\"], [2, \"Benny\"], [3, \"Carrie\"], [4, \"Daniel\"], [5, \"Effie\"], [6, \"Fedrick\"]]\n",
    "array_2d = np.array(list_2d)\n",
    "#Index 3 (same syntax)\n",
    "print(list_2d[3])\n",
    "print(array_2d[3])"
   ]
  },
  {
   "cell_type": "code",
   "execution_count": 36,
   "id": "26f1513d-1e33-4723-8991-f3d5eaa5bedb",
   "metadata": {},
   "outputs": [
    {
     "name": "stdout",
     "output_type": "stream",
     "text": [
      "4\n",
      "4\n"
     ]
    }
   ],
   "source": [
    "#First element of index 3 (different syntax)\n",
    "print(list_2d[3][0])\n",
    "print(array_2d[3,0]) #Only one square bracket"
   ]
  },
  {
   "cell_type": "code",
   "execution_count": 38,
   "id": "bc2f8d4a-5326-4b02-90f2-74c617db8870",
   "metadata": {},
   "outputs": [
    {
     "name": "stdout",
     "output_type": "stream",
     "text": [
      "Daniel\n",
      "Daniel\n"
     ]
    }
   ],
   "source": [
    "#Second element of index 3 (different syntax)\n",
    "print(list_2d[3][1])\n",
    "print(array_2d[3,1]) #Only one square bracket"
   ]
  },
  {
   "cell_type": "code",
   "execution_count": 35,
   "id": "c5960b89-5dc9-43cc-9b50-ce63fbe2e930",
   "metadata": {},
   "outputs": [
    {
     "name": "stdout",
     "output_type": "stream",
     "text": [
      "[[1, 'Andy'], [2, 'Benny'], [3, 'Carrie']]\n",
      "[['1' 'Andy']\n",
      " ['2' 'Benny']\n",
      " ['3' 'Carrie']]\n"
     ]
    }
   ],
   "source": [
    "#First 3 elements (same syntax)\n",
    "print(list_2d[:3])\n",
    "print(array_2d[:3])"
   ]
  },
  {
   "cell_type": "code",
   "execution_count": 40,
   "id": "a8039828-e712-4482-82f5-2815a21473d2",
   "metadata": {},
   "outputs": [
    {
     "name": "stdout",
     "output_type": "stream",
     "text": [
      "[1, 'Andy']\n",
      "['1' '2' '3']\n"
     ]
    }
   ],
   "source": [
    "#First element of first 3 sub-list\n",
    "print(list_2d[:3][0]) #takes first of the list from list_2d[:3]\n",
    "print(array_2d[:3,0])"
   ]
  },
  {
   "cell_type": "code",
   "execution_count": 42,
   "id": "f556536b-aefc-4937-8b19-1dea2e9dfd56",
   "metadata": {},
   "outputs": [
    {
     "name": "stdout",
     "output_type": "stream",
     "text": [
      "[4, 'Daniel']\n",
      "['4' '5' '6']\n"
     ]
    }
   ],
   "source": [
    "#First element of Index 3-6\n",
    "print(list_2d[3:6][0]) #takes first of the list from list_2d[3]\n",
    "print(array_2d[3:6,0])"
   ]
  },
  {
   "cell_type": "code",
   "execution_count": 45,
   "id": "09c73268-7652-4710-8002-5633f87962b9",
   "metadata": {},
   "outputs": [
    {
     "name": "stdout",
     "output_type": "stream",
     "text": [
      "['1' '2' '3' '4' '5' '6']\n",
      "['Andy' 'Benny' 'Carrie' 'Daniel' 'Effie' 'Fedrick']\n"
     ]
    }
   ],
   "source": [
    "print(array_2d[:,0])\n",
    "print(array_2d[:,1])"
   ]
  },
  {
   "attachments": {},
   "cell_type": "markdown",
   "id": "e38346c7",
   "metadata": {},
   "source": [
    "## 1.4 Growing lists"
   ]
  },
  {
   "cell_type": "markdown",
   "id": "c819eb2d-8a57-465e-acab-e8a869718b71",
   "metadata": {},
   "source": [
    "Arrays hard to grow, lists are easier for this"
   ]
  },
  {
   "cell_type": "code",
   "execution_count": 48,
   "id": "8316b2d4-57d8-4845-83ac-424fa017199c",
   "metadata": {},
   "outputs": [
    {
     "name": "stdout",
     "output_type": "stream",
     "text": [
      "['Horse', 'Pony', 'Horse', 'Pony', 'Horse', 'Pony', 'Horse', 'Pony', 'Horse', 'Pony']\n"
     ]
    }
   ],
   "source": [
    "x = [\"Horse\", \"Pony\"]*5\n",
    "print(x)"
   ]
  },
  {
   "cell_type": "markdown",
   "id": "b267a155-6606-475c-b894-620ef244cc34",
   "metadata": {},
   "source": [
    "**Growing list by adding one element at a time:**"
   ]
  },
  {
   "cell_type": "code",
   "execution_count": 50,
   "id": "4911573f-d0bf-4a38-bf8a-9012ee3dde2e",
   "metadata": {},
   "outputs": [
    {
     "data": {
      "text/plain": [
       "['Andy', 'Bobby', 'Carrie']"
      ]
     },
     "execution_count": 50,
     "metadata": {},
     "output_type": "execute_result"
    }
   ],
   "source": [
    "# Method 1:\n",
    "x = [\"Andy\"]\n",
    "x = x + [\"Bobby\"]\n",
    "x = x + [\"Carrie\"]\n",
    "x"
   ]
  },
  {
   "cell_type": "code",
   "execution_count": 52,
   "id": "bfcf8e2a-8827-4486-88e6-f48690d0d2cb",
   "metadata": {},
   "outputs": [
    {
     "data": {
      "text/plain": [
       "['Andy', 'Bobby', 'Carrie']"
      ]
     },
     "execution_count": 52,
     "metadata": {},
     "output_type": "execute_result"
    }
   ],
   "source": [
    "# Method 2:\n",
    "x = [\"Andy\"]\n",
    "x += [\"Bobby\"]\n",
    "x += [\"Carrie\"]\n",
    "x"
   ]
  },
  {
   "cell_type": "code",
   "execution_count": 56,
   "id": "95376a67-87a3-4ec0-9d88-f1940d5c4966",
   "metadata": {},
   "outputs": [
    {
     "data": {
      "text/plain": [
       "['Andy', 'Bobby', 'Carrie']"
      ]
     },
     "execution_count": 56,
     "metadata": {},
     "output_type": "execute_result"
    }
   ],
   "source": [
    "# Method 3: (runs faster)\n",
    "x = [\"Andy\"]\n",
    "x.append(\"Bobby\") #Need to use curve bracket\n",
    "x.append(\"Carrie\")\n",
    "x"
   ]
  },
  {
   "cell_type": "markdown",
   "id": "84e08544-61e1-43f1-9992-a40a31bb2bdf",
   "metadata": {},
   "source": [
    "**Growing lists more than one element at a time**"
   ]
  },
  {
   "cell_type": "code",
   "execution_count": 58,
   "id": "3a870bd7-c47b-4b11-919e-9ec746afecf5",
   "metadata": {},
   "outputs": [
    {
     "data": {
      "text/plain": [
       "['Andy', 'Bobby', 'Carrie', 'Daniel', 'Effie']"
      ]
     },
     "execution_count": 58,
     "metadata": {},
     "output_type": "execute_result"
    }
   ],
   "source": [
    "# Method 1:\n",
    "x = ['Andy', 'Bobby', 'Carrie']\n",
    "x += [\"Daniel\", \"Effie\"]\n",
    "x"
   ]
  },
  {
   "cell_type": "code",
   "execution_count": 59,
   "id": "723e452d-184c-42ec-8968-cb1ed3693d92",
   "metadata": {},
   "outputs": [
    {
     "data": {
      "text/plain": [
       "['Andy', 'Bobby', 'Carrie', 'Daniel', 'Effie']"
      ]
     },
     "execution_count": 59,
     "metadata": {},
     "output_type": "execute_result"
    }
   ],
   "source": [
    "# Method 2:\n",
    "x = ['Andy', 'Bobby', 'Carrie']\n",
    "x.extend([\"Daniel\", \"Effie\"])\n",
    "x"
   ]
  },
  {
   "cell_type": "code",
   "execution_count": 61,
   "id": "83a153c7-0e64-40d8-9037-639b9034b54a",
   "metadata": {},
   "outputs": [
    {
     "data": {
      "text/plain": [
       "['Andy', 'Bobby', 'Carrie', ['Andy', 'Bobby', 'Carrie']]"
      ]
     },
     "execution_count": 61,
     "metadata": {},
     "output_type": "execute_result"
    }
   ],
   "source": [
    "# Method 3:\n",
    "x = ['Andy', 'Bobby', 'Carrie']\n",
    "x.append(['Andy', 'Bobby', 'Carrie']) #Will produce list within list\n",
    "x"
   ]
  },
  {
   "attachments": {},
   "cell_type": "markdown",
   "id": "ec189a28",
   "metadata": {},
   "source": [
    "# Some loose ends"
   ]
  },
  {
   "attachments": {},
   "cell_type": "markdown",
   "id": "70269f5a",
   "metadata": {},
   "source": [
    "## 1.5 Tuples"
   ]
  },
  {
   "cell_type": "markdown",
   "id": "01f933e9-05d1-4d41-9ed2-a7137a412402",
   "metadata": {},
   "source": [
    "Tuples are similar to lists but use ( ) and cannot be changed after creation (immutable)"
   ]
  },
  {
   "cell_type": "code",
   "execution_count": 64,
   "id": "3c76d891-c788-4fe3-9601-3cda1fbd2423",
   "metadata": {},
   "outputs": [
    {
     "data": {
      "text/plain": [
       "'Andy'"
      ]
     },
     "execution_count": 64,
     "metadata": {},
     "output_type": "execute_result"
    }
   ],
   "source": [
    "tubule_names = ('Andy', 'Bobby', 'Carrie')\n",
    "tubule_names[0]"
   ]
  },
  {
   "cell_type": "code",
   "execution_count": null,
   "id": "d173e212-c5d9-4520-82c1-ad9d14aae553",
   "metadata": {},
   "outputs": [],
   "source": []
  },
  {
   "attachments": {},
   "cell_type": "markdown",
   "id": "9e1aa2f2",
   "metadata": {},
   "source": [
    "# Exercises & Self-Assessment"
   ]
  },
  {
   "attachments": {},
   "cell_type": "markdown",
   "id": "8ec44774",
   "metadata": {},
   "source": [
    "## 1.6 Be VERY careful when copying lists and arrays"
   ]
  },
  {
   "cell_type": "code",
   "execution_count": 66,
   "id": "65ee9923",
   "metadata": {},
   "outputs": [
    {
     "name": "stdout",
     "output_type": "stream",
     "text": [
      "['Andy', 'Bobby', 'Carrie']\n",
      "['Andy', 'Bobby', 'Carrie']\n"
     ]
    }
   ],
   "source": [
    "x = ['Andy', 'Bobby', 'Carrie']\n",
    "y = x.copy()\n",
    "z = x.copy()\n",
    "print(y)\n",
    "print(z)"
   ]
  },
  {
   "attachments": {},
   "cell_type": "markdown",
   "id": "352002b2",
   "metadata": {},
   "source": [
    "## Footnotes"
   ]
  }
 ],
 "metadata": {
  "kernelspec": {
   "display_name": "Python 3 (ipykernel)",
   "language": "python",
   "name": "python3"
  },
  "language_info": {
   "codemirror_mode": {
    "name": "ipython",
    "version": 3
   },
   "file_extension": ".py",
   "mimetype": "text/x-python",
   "name": "python",
   "nbconvert_exporter": "python",
   "pygments_lexer": "ipython3",
   "version": "3.12.1"
  },
  "toc": {
   "base_numbering": 1,
   "nav_menu": {},
   "number_sections": true,
   "sideBar": true,
   "skip_h1_title": false,
   "title_cell": "Table of Contents",
   "title_sidebar": "Contents",
   "toc_cell": false,
   "toc_position": {},
   "toc_section_display": true,
   "toc_window_display": false
  },
  "vscode": {
   "interpreter": {
    "hash": "31f2aee4e71d21fbe5cf8b01ff0e069b9275f58929596ceb00d14d90e3e16cd6"
   }
  }
 },
 "nbformat": 4,
 "nbformat_minor": 5
}
