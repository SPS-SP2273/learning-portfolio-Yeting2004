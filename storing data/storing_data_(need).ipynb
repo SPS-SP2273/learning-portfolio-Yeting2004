{
 "cells": [
  {
   "attachments": {},
   "cell_type": "markdown",
   "id": "123456",
   "metadata": {},
   "source": [
    "<div style=\"text-align:left;font-size:2em\"><span style=\"font-weight:bolder;font-size:1.25em\">SP2273 | Learning Portfolio</span><br><br><span style=\"font-weight:bold;color:darkred\">Storing Data (Need)</span></div>"
   ]
  },
  {
   "attachments": {},
   "cell_type": "markdown",
   "id": "ec3487e6",
   "metadata": {},
   "source": [
    "# What to expect in this chapter"
   ]
  },
  {
   "cell_type": "markdown",
   "id": "56cd4535-3d11-470b-8a69-fe4e8f3a30bb",
   "metadata": {},
   "source": [
    "Using Python to solve scientific problems. We must hence transform, store and minipulate data to yield a solution like Lists, \n",
    "Numpy array, \r\n",
    "Dictionari, s\r\n",
    "Tup, es\r\n",
    "Datafr and mes\r\n",
    "Classes"
   ]
  },
  {
   "attachments": {},
   "cell_type": "markdown",
   "id": "656dd7a1",
   "metadata": {},
   "source": [
    "# 1 Lists, Arrays & Dictionaries"
   ]
  },
  {
   "attachments": {},
   "cell_type": "markdown",
   "id": "8145c4c5",
   "metadata": {},
   "source": [
    "## 1.1 Let’s compare"
   ]
  },
  {
   "cell_type": "markdown",
   "id": "e9c9719d-7f9d-491a-88df-b93078e4c0b4",
   "metadata": {},
   "source": [
    "#### Python Lists"
   ]
  },
  {
   "cell_type": "code",
   "execution_count": 9,
   "id": "4222684c-603b-4b96-987e-a231b8331d71",
   "metadata": {},
   "outputs": [],
   "source": [
    "horse_names = [\"Jessie\", \"Woody\", \"lighter\"]\n",
    "horse_info = [\"fast horse\", \"middle horse\", \"slow horse\"]"
   ]
  },
  {
   "cell_type": "markdown",
   "id": "786f9c18-a32b-4b4f-8e9a-79383f07071b",
   "metadata": {},
   "source": [
    "#### Numpy Arrays"
   ]
  },
  {
   "cell_type": "code",
   "execution_count": 11,
   "id": "fae3e820-d173-411f-9ab6-8a7c7fb9a294",
   "metadata": {},
   "outputs": [],
   "source": [
    "import numpy as np\n",
    "np_horse_names = np.array([\"Jessie\", \"Woody\", \"lighter\"])\n",
    "np_pony_names = np.array([\"fast horse\", \"middle horse\", \"slow horse\",])"
   ]
  },
  {
   "cell_type": "markdown",
   "id": "a1987579-dd90-4688-b125-6519fa0268e9",
   "metadata": {},
   "source": [
    "#### Dictionaries"
   ]
  },
  {
   "cell_type": "code",
   "execution_count": 12,
   "id": "ece959c4-cf02-455c-b1fc-c9a1db13d624",
   "metadata": {},
   "outputs": [],
   "source": [
    "horse_info = { \n",
    "    \"Jessie\": \"fast horse\", #Jessie is key, fast horse is value\n",
    "    \"Woody\": \"middle horse\",\n",
    "    \"lighter\": \"slow horse\"\n",
    "\n",
    "}"
   ]
  },
  {
   "cell_type": "markdown",
   "id": "9efbbbbd-d859-40a1-90cf-d996b9f9ea37",
   "metadata": {},
   "source": [
    "- Dictionaries use a key and an associated value separated by a :\r",
    "- Dictionaries easier than arrays\n",
    "- \r\n",
    "For lists and arrays, the order matters. I.e.Jessiean’ must be in the same position asfast horserk’ for things to work."
   ]
  },
  {
   "attachments": {},
   "cell_type": "markdown",
   "id": "2295fdaf",
   "metadata": {},
   "source": [
    "## 1.2 Accessing data from a list (or array)"
   ]
  },
  {
   "cell_type": "markdown",
   "id": "17a2c3ea-637e-486b-866f-7eaeaf4ba585",
   "metadata": {},
   "source": [
    "Python starts counting at 0. To access particular element in the list or array, need to specify the relevant index starting from zero. \n",
    "![Photo](https://phyweb.physics.nus.edu.sg/~chammika/sp2273/docs/python_basics/03_storing-data/python-zero-indexed-counting.png)\r\n",
    "\r\n"
   ]
  },
  {
   "cell_type": "code",
   "execution_count": 14,
   "id": "faa04f43-1378-4852-bbab-e8fce37487cd",
   "metadata": {},
   "outputs": [
    {
     "data": {
      "text/plain": [
       "'Jessie'"
      ]
     },
     "execution_count": 14,
     "metadata": {},
     "output_type": "execute_result"
    }
   ],
   "source": [
    "horse_names[0]"
   ]
  },
  {
   "cell_type": "code",
   "execution_count": 15,
   "id": "de84e263-5761-4f6f-981c-805331905a1f",
   "metadata": {},
   "outputs": [
    {
     "data": {
      "text/plain": [
       "'Woody'"
      ]
     },
     "execution_count": 15,
     "metadata": {},
     "output_type": "execute_result"
    }
   ],
   "source": [
    "horse_names[1]"
   ]
  },
  {
   "cell_type": "markdown",
   "id": "ffca2f53-bea5-4793-acca-9d8a6e3553ca",
   "metadata": {},
   "source": [
    "Use negative index to count from the back of the list (no need to know list size)"
   ]
  },
  {
   "cell_type": "code",
   "execution_count": 17,
   "id": "81f9a6f9-b500-4e85-a104-f08fbcb38b9c",
   "metadata": {},
   "outputs": [
    {
     "data": {
      "text/plain": [
       "'lighter'"
      ]
     },
     "execution_count": 17,
     "metadata": {},
     "output_type": "execute_result"
    }
   ],
   "source": [
    "horse_names[2]"
   ]
  },
  {
   "cell_type": "code",
   "execution_count": 18,
   "id": "b4371a4c-d023-4d74-b3fc-7fa2afae3404",
   "metadata": {},
   "outputs": [
    {
     "data": {
      "text/plain": [
       "'lighter'"
      ]
     },
     "execution_count": 18,
     "metadata": {},
     "output_type": "execute_result"
    }
   ],
   "source": [
    "horse_names[-1]"
   ]
  },
  {
   "attachments": {},
   "cell_type": "markdown",
   "id": "27bd14a0",
   "metadata": {},
   "source": [
    "## 1.3 Accessing data from a dictionary"
   ]
  },
  {
   "cell_type": "code",
   "execution_count": 19,
   "id": "e3be0bdb-f103-49a9-b322-52b7d513a305",
   "metadata": {},
   "outputs": [
    {
     "data": {
      "text/plain": [
       "'fast horse'"
      ]
     },
     "execution_count": 19,
     "metadata": {},
     "output_type": "execute_result"
    }
   ],
   "source": [
    "horse_info[\"Jessie\"]"
   ]
  },
  {
   "cell_type": "code",
   "execution_count": 20,
   "id": "0035e6b4-0b5d-41de-a767-0c0bfe461350",
   "metadata": {},
   "outputs": [
    {
     "data": {
      "text/plain": [
       "'middle horse'"
      ]
     },
     "execution_count": 20,
     "metadata": {},
     "output_type": "execute_result"
    }
   ],
   "source": [
    "horse_info[\"Woody\"]"
   ]
  },
  {
   "cell_type": "markdown",
   "id": "77753711-5d01-4e09-bd23-2d36bc3b242a",
   "metadata": {},
   "source": [
    "### Access all Keys"
   ]
  },
  {
   "cell_type": "code",
   "execution_count": 21,
   "id": "26c1329e-34f7-49a8-87cb-97bf06894e8d",
   "metadata": {},
   "outputs": [
    {
     "data": {
      "text/plain": [
       "dict_keys(['Jessie', 'Woody', 'lighter'])"
      ]
     },
     "execution_count": 21,
     "metadata": {},
     "output_type": "execute_result"
    }
   ],
   "source": [
    "horse_info.keys()"
   ]
  },
  {
   "cell_type": "markdown",
   "id": "524eec3b-2b10-473e-8003-ecdf330588f2",
   "metadata": {},
   "source": [
    "### Access all values"
   ]
  },
  {
   "cell_type": "code",
   "execution_count": 22,
   "id": "3e5a459b-3318-40b7-9f44-dd51f649bc76",
   "metadata": {},
   "outputs": [
    {
     "data": {
      "text/plain": [
       "dict_values(['fast horse', 'middle horse', 'slow horse'])"
      ]
     },
     "execution_count": 22,
     "metadata": {},
     "output_type": "execute_result"
    }
   ],
   "source": [
    "horse_info.values()"
   ]
  },
  {
   "attachments": {},
   "cell_type": "markdown",
   "id": "07649df5",
   "metadata": {},
   "source": [
    "## 1.4 Higher dimensional lists"
   ]
  },
  {
   "cell_type": "markdown",
   "id": "4668fe6d-de1d-4336-922c-5d83934a318d",
   "metadata": {},
   "source": [
    "### 2D Lists"
   ]
  },
  {
   "cell_type": "code",
   "execution_count": 26,
   "id": "4f759c03-d329-46c1-b730-4162bbbd0028",
   "metadata": {},
   "outputs": [],
   "source": [
    "two_list_horse_info = [[\"Jessie\", \"Fast Horse\"],\n",
    "                       [\"Woody\", \"Middle Horse\"],\n",
    "                       [\"lighter\", \"Slow Horse\"]]"
   ]
  },
  {
   "attachments": {},
   "cell_type": "markdown",
   "id": "07ef54cb",
   "metadata": {},
   "source": [
    "# 2 Lists vs. Arrays"
   ]
  },
  {
   "attachments": {},
   "cell_type": "markdown",
   "id": "13fb8ff4",
   "metadata": {},
   "source": [
    "## 2.1 Size"
   ]
  },
  {
   "cell_type": "markdown",
   "id": "7c0fc06c-673b-4c4a-bf03-bc31cc5178c2",
   "metadata": {},
   "source": [
    "Use the len() function to know how many elements for lists and arrays"
   ]
  },
  {
   "cell_type": "code",
   "execution_count": 28,
   "id": "fa9cddcb-c341-42d1-a1ad-2da4ed8c1a27",
   "metadata": {},
   "outputs": [],
   "source": [
    "list_names = [[1, \"Andy\"], [2, \"Bobby\"], [3, \"Carrie\"], [4, \"Daniel\"]]"
   ]
  },
  {
   "cell_type": "code",
   "execution_count": 30,
   "id": "55fe5b03-0cfa-41ff-94f5-1a528c50f45a",
   "metadata": {},
   "outputs": [
    {
     "data": {
      "text/plain": [
       "4"
      ]
     },
     "execution_count": 30,
     "metadata": {},
     "output_type": "execute_result"
    }
   ],
   "source": [
    "len(list_names)"
   ]
  },
  {
   "cell_type": "code",
   "execution_count": 29,
   "id": "add14400-1cf3-43ff-a3ee-670e29c4bd08",
   "metadata": {},
   "outputs": [],
   "source": [
    "array_names = np.array(list_names) #convert list to array"
   ]
  },
  {
   "cell_type": "code",
   "execution_count": 31,
   "id": "90782435-314f-401d-b41e-f6689e3745c7",
   "metadata": {},
   "outputs": [
    {
     "data": {
      "text/plain": [
       "4"
      ]
     },
     "execution_count": 31,
     "metadata": {},
     "output_type": "execute_result"
    }
   ],
   "source": [
    "len(array_names)"
   ]
  },
  {
   "cell_type": "code",
   "execution_count": 33,
   "id": "2f6d3f15-36c5-4e2e-a9e4-7a83af863afc",
   "metadata": {},
   "outputs": [
    {
     "data": {
      "text/plain": [
       "(4, 2)"
      ]
     },
     "execution_count": 33,
     "metadata": {},
     "output_type": "execute_result"
    }
   ],
   "source": [
    "array_names.shape #no bracket because shape not function but is attribute of numpy"
   ]
  },
  {
   "attachments": {},
   "cell_type": "markdown",
   "id": "28e94adb",
   "metadata": {},
   "source": [
    "## 2.2 Arrays are fussy about type"
   ]
  },
  {
   "cell_type": "markdown",
   "id": "df5ac8f3-0d09-4617-9a28-284cc8abc07d",
   "metadata": {},
   "source": [
    "- **Arrays only a single data type**\n",
    "- lists >1 data type"
   ]
  },
  {
   "cell_type": "code",
   "execution_count": 35,
   "id": "8ff721f4-6242-4de0-b209-b46743067fcd",
   "metadata": {},
   "outputs": [],
   "source": [
    "list_letters = [1, 2, 3, \"Y\", \"E\"]\n",
    "array_letters = np.array(list_letters)"
   ]
  },
  {
   "cell_type": "code",
   "execution_count": 37,
   "id": "11548fdf-2204-406e-a178-ece673cc1234",
   "metadata": {},
   "outputs": [
    {
     "data": {
      "text/plain": [
       "[1, 2, 3, 'Y', 'E']"
      ]
     },
     "execution_count": 37,
     "metadata": {},
     "output_type": "execute_result"
    }
   ],
   "source": [
    "list_letters #List retains original data type"
   ]
  },
  {
   "cell_type": "code",
   "execution_count": 38,
   "id": "427200f9-4893-4180-9a8e-927b11ac108b",
   "metadata": {},
   "outputs": [
    {
     "data": {
      "text/plain": [
       "array(['1', '2', '3', 'Y', 'E'], dtype='<U11')"
      ]
     },
     "execution_count": 38,
     "metadata": {},
     "output_type": "execute_result"
    }
   ],
   "source": [
    "array_letters #Array cause numbers to be converted to english"
   ]
  },
  {
   "attachments": {},
   "cell_type": "markdown",
   "id": "b7ba80b6",
   "metadata": {},
   "source": [
    "## 2.3 Adding a number"
   ]
  },
  {
   "cell_type": "markdown",
   "id": "60dde162-5fdf-49b4-a24f-2ecb1b052759",
   "metadata": {},
   "source": [
    "**Only array can add numbers**"
   ]
  },
  {
   "cell_type": "code",
   "execution_count": 46,
   "id": "ec3c2f01-6c16-4ce3-8328-eec8bd4a41f6",
   "metadata": {},
   "outputs": [],
   "source": [
    "list_numbers = [2, 4, 6, 8]\n",
    "array_numbers = np.array(list_numbers)"
   ]
  },
  {
   "cell_type": "code",
   "execution_count": 43,
   "id": "d4775e5a-ff95-49cd-aab7-97e277008055",
   "metadata": {},
   "outputs": [
    {
     "ename": "TypeError",
     "evalue": "can only concatenate list (not \"int\") to list",
     "output_type": "error",
     "traceback": [
      "\u001b[1;31m---------------------------------------------------------------------------\u001b[0m",
      "\u001b[1;31mTypeError\u001b[0m                                 Traceback (most recent call last)",
      "Cell \u001b[1;32mIn[43], line 1\u001b[0m\n\u001b[1;32m----> 1\u001b[0m \u001b[43mlist_numbers\u001b[49m\u001b[43m \u001b[49m\u001b[38;5;241;43m+\u001b[39;49m\u001b[43m \u001b[49m\u001b[38;5;241;43m10\u001b[39;49m\n",
      "\u001b[1;31mTypeError\u001b[0m: can only concatenate list (not \"int\") to list"
     ]
    }
   ],
   "source": [
    "list_numbers + 10"
   ]
  },
  {
   "cell_type": "code",
   "execution_count": 48,
   "id": "87f2cb00-ba7d-46a1-8a2d-460fba337da7",
   "metadata": {},
   "outputs": [
    {
     "data": {
      "text/plain": [
       "array([12, 14, 16, 18])"
      ]
     },
     "execution_count": 48,
     "metadata": {},
     "output_type": "execute_result"
    }
   ],
   "source": [
    "array_numbers + 10 #array can add numbers "
   ]
  },
  {
   "attachments": {},
   "cell_type": "markdown",
   "id": "24fcbde1",
   "metadata": {},
   "source": [
    "## 2.4 Adding another list"
   ]
  },
  {
   "cell_type": "code",
   "execution_count": 52,
   "id": "b9ac593e-89cb-487e-a667-36b03f237bd5",
   "metadata": {},
   "outputs": [],
   "source": [
    "list_1 = [2, 4, 6, 8, 10]\n",
    "list_2 = [20, 40, 60, 80, 100]\n",
    "array_1 = np.array(list_1)\n",
    "array_2 = np.array(list_2)"
   ]
  },
  {
   "cell_type": "markdown",
   "id": "e5c1043f-226a-4c52-9646-717f46e04efe",
   "metadata": {},
   "source": [
    "**Adding lists causes them to grow:**"
   ]
  },
  {
   "cell_type": "code",
   "execution_count": 53,
   "id": "796d648a-169b-4b27-9a6c-b62272674e1f",
   "metadata": {},
   "outputs": [
    {
     "data": {
      "text/plain": [
       "[2, 4, 6, 8, 10, 20, 40, 60, 80, 100]"
      ]
     },
     "execution_count": 53,
     "metadata": {},
     "output_type": "execute_result"
    }
   ],
   "source": [
    "list_1 + list_2"
   ]
  },
  {
   "cell_type": "markdown",
   "id": "3b9ad9a2-c313-4f86-8919-2a9961540bc0",
   "metadata": {},
   "source": [
    "**Adding arrays is an mathematical operation:**"
   ]
  },
  {
   "cell_type": "code",
   "execution_count": 54,
   "id": "364a6038-4b4b-4403-b398-4c7c4d7fdbf0",
   "metadata": {},
   "outputs": [
    {
     "data": {
      "text/plain": [
       "array([ 22,  44,  66,  88, 110])"
      ]
     },
     "execution_count": 54,
     "metadata": {},
     "output_type": "execute_result"
    }
   ],
   "source": [
    "array_1 + array_2"
   ]
  },
  {
   "attachments": {},
   "cell_type": "markdown",
   "id": "615525d6",
   "metadata": {},
   "source": [
    "## 2.5 Multiplying by a Number"
   ]
  },
  {
   "cell_type": "markdown",
   "id": "c6350ca3-a6c6-447f-a934-ea879b08f45c",
   "metadata": {},
   "source": [
    "**list grows**"
   ]
  },
  {
   "cell_type": "code",
   "execution_count": 55,
   "id": "165c54f7-a649-4a0f-8b6f-8efc3845e4b0",
   "metadata": {},
   "outputs": [
    {
     "data": {
      "text/plain": [
       "[2, 4, 6, 8, 10, 2, 4, 6, 8, 10]"
      ]
     },
     "execution_count": 55,
     "metadata": {},
     "output_type": "execute_result"
    }
   ],
   "source": [
    "list_1*2"
   ]
  },
  {
   "cell_type": "markdown",
   "id": "e4f8ab39-f05e-4c74-b590-0b56ca6dcd34",
   "metadata": {},
   "source": [
    "**Array multipies elements by number**"
   ]
  },
  {
   "cell_type": "code",
   "execution_count": 57,
   "id": "e7b397b6-7ed3-4bd8-8b5b-c5d83a41c129",
   "metadata": {},
   "outputs": [
    {
     "data": {
      "text/plain": [
       "array([ 4,  8, 12, 16, 20])"
      ]
     },
     "execution_count": 57,
     "metadata": {},
     "output_type": "execute_result"
    }
   ],
   "source": [
    "array_1*2"
   ]
  },
  {
   "attachments": {},
   "cell_type": "markdown",
   "id": "c49ebb6b",
   "metadata": {},
   "source": [
    "## 2.6 Squaring"
   ]
  },
  {
   "cell_type": "markdown",
   "id": "ec46c0f4-8914-495e-8097-36453c69c22e",
   "metadata": {},
   "source": [
    "**Cannot square lists, only can sqaure arrays**"
   ]
  },
  {
   "cell_type": "code",
   "execution_count": 59,
   "id": "5cf7f2a2-6f85-4cc5-a5f8-3c52c2b60142",
   "metadata": {},
   "outputs": [
    {
     "ename": "TypeError",
     "evalue": "unsupported operand type(s) for ** or pow(): 'list' and 'int'",
     "output_type": "error",
     "traceback": [
      "\u001b[1;31m---------------------------------------------------------------------------\u001b[0m",
      "\u001b[1;31mTypeError\u001b[0m                                 Traceback (most recent call last)",
      "Cell \u001b[1;32mIn[59], line 1\u001b[0m\n\u001b[1;32m----> 1\u001b[0m \u001b[43mlist_1\u001b[49m\u001b[38;5;241;43m*\u001b[39;49m\u001b[38;5;241;43m*\u001b[39;49m\u001b[38;5;241;43m2\u001b[39;49m\n",
      "\u001b[1;31mTypeError\u001b[0m: unsupported operand type(s) for ** or pow(): 'list' and 'int'"
     ]
    }
   ],
   "source": [
    "list_1**2"
   ]
  },
  {
   "cell_type": "code",
   "execution_count": 60,
   "id": "a5cab135-8a1c-40c5-89c8-4b8a1ba91824",
   "metadata": {},
   "outputs": [
    {
     "data": {
      "text/plain": [
       "array([  4,  16,  36,  64, 100])"
      ]
     },
     "execution_count": 60,
     "metadata": {},
     "output_type": "execute_result"
    }
   ],
   "source": [
    "array_1**2"
   ]
  },
  {
   "attachments": {},
   "cell_type": "markdown",
   "id": "f02a44b8",
   "metadata": {},
   "source": [
    "## 2.7 Asking questions"
   ]
  },
  {
   "cell_type": "markdown",
   "id": "e9ba45ed-5ee6-446b-a64b-ad7aa6e798c7",
   "metadata": {},
   "source": [
    "**Lists:**"
   ]
  },
  {
   "cell_type": "code",
   "execution_count": 61,
   "id": "bda39ce5-72e2-4a8e-9205-3e306ae55be2",
   "metadata": {},
   "outputs": [
    {
     "data": {
      "text/plain": [
       "False"
      ]
     },
     "execution_count": 61,
     "metadata": {},
     "output_type": "execute_result"
    }
   ],
   "source": [
    "list_1 == 4 #Works but it is asking whether list_1 is integer 4"
   ]
  },
  {
   "cell_type": "code",
   "execution_count": 62,
   "id": "ecc61020-0925-4dc4-9e3a-58499d3c397d",
   "metadata": {},
   "outputs": [
    {
     "data": {
      "text/plain": [
       "True"
      ]
     },
     "execution_count": 62,
     "metadata": {},
     "output_type": "execute_result"
    }
   ],
   "source": [
    "list_1 == [2, 4, 6, 8, 10]"
   ]
  },
  {
   "cell_type": "code",
   "execution_count": 64,
   "id": "0a7cb260-28e1-4a42-89e3-01ef6fce6071",
   "metadata": {},
   "outputs": [
    {
     "ename": "TypeError",
     "evalue": "'>' not supported between instances of 'list' and 'int'",
     "output_type": "error",
     "traceback": [
      "\u001b[1;31m---------------------------------------------------------------------------\u001b[0m",
      "\u001b[1;31mTypeError\u001b[0m                                 Traceback (most recent call last)",
      "Cell \u001b[1;32mIn[64], line 1\u001b[0m\n\u001b[1;32m----> 1\u001b[0m \u001b[43mlist_1\u001b[49m\u001b[43m \u001b[49m\u001b[38;5;241;43m>\u001b[39;49m\u001b[43m \u001b[49m\u001b[38;5;241;43m2\u001b[39;49m\n",
      "\u001b[1;31mTypeError\u001b[0m: '>' not supported between instances of 'list' and 'int'"
     ]
    }
   ],
   "source": [
    "list_1 > 2 #Does not work"
   ]
  },
  {
   "cell_type": "markdown",
   "id": "aeadb874-0e72-47f3-9a87-09d0c63dda32",
   "metadata": {},
   "source": [
    "**Arrays:**"
   ]
  },
  {
   "cell_type": "code",
   "execution_count": 66,
   "id": "646c74ea-8a4c-4ad6-afac-9cbc47782f3e",
   "metadata": {},
   "outputs": [
    {
     "data": {
      "text/plain": [
       "array([ True, False, False, False, False])"
      ]
     },
     "execution_count": 66,
     "metadata": {},
     "output_type": "execute_result"
    }
   ],
   "source": [
    "array_1 == 2 #Asking whether each element is 2"
   ]
  },
  {
   "cell_type": "code",
   "execution_count": 68,
   "id": "8eaf2260-5841-4da6-8c00-8525368f2092",
   "metadata": {},
   "outputs": [
    {
     "data": {
      "text/plain": [
       "array([False, False,  True,  True,  True])"
      ]
     },
     "execution_count": 68,
     "metadata": {},
     "output_type": "execute_result"
    }
   ],
   "source": [
    "array_1 > 5 #Asking whether each element more than 5"
   ]
  },
  {
   "attachments": {},
   "cell_type": "markdown",
   "id": "e946d088",
   "metadata": {},
   "source": [
    "## 2.8 Mathematics"
   ]
  },
  {
   "cell_type": "markdown",
   "id": "742f321b-dc1d-4cbd-bf5b-042b8006f289",
   "metadata": {},
   "source": [
    "### Sum"
   ]
  },
  {
   "cell_type": "code",
   "execution_count": 81,
   "id": "7d11e95c-63b1-4a53-8d79-9c969c32f32a",
   "metadata": {},
   "outputs": [
    {
     "data": {
      "text/plain": [
       "30"
      ]
     },
     "execution_count": 81,
     "metadata": {},
     "output_type": "execute_result"
    }
   ],
   "source": [
    "sum(list_1) #Base python function"
   ]
  },
  {
   "cell_type": "code",
   "execution_count": 79,
   "id": "2651e55a-91aa-43c6-98a1-6302c700db5f",
   "metadata": {},
   "outputs": [
    {
     "ename": "AttributeError",
     "evalue": "'list' object has no attribute 'sum'",
     "output_type": "error",
     "traceback": [
      "\u001b[1;31m---------------------------------------------------------------------------\u001b[0m",
      "\u001b[1;31mAttributeError\u001b[0m                            Traceback (most recent call last)",
      "Cell \u001b[1;32mIn[79], line 1\u001b[0m\n\u001b[1;32m----> 1\u001b[0m \u001b[43mlist_1\u001b[49m\u001b[38;5;241;43m.\u001b[39;49m\u001b[43msum\u001b[49m() \u001b[38;5;66;03m#does not work becuase sum() method not available\u001b[39;00m\n",
      "\u001b[1;31mAttributeError\u001b[0m: 'list' object has no attribute 'sum'"
     ]
    }
   ],
   "source": [
    "list_1.sum() #does not work becuase sum() method not available"
   ]
  },
  {
   "cell_type": "code",
   "execution_count": 71,
   "id": "16cae33d-41f5-448e-ab17-144feb4b6391",
   "metadata": {},
   "outputs": [
    {
     "data": {
      "text/plain": [
       "30"
      ]
     },
     "execution_count": 71,
     "metadata": {},
     "output_type": "execute_result"
    }
   ],
   "source": [
    "sum(array_1)"
   ]
  },
  {
   "cell_type": "code",
   "execution_count": 72,
   "id": "90a5a355-8a61-4c96-9739-a82b1c62f093",
   "metadata": {},
   "outputs": [
    {
     "data": {
      "text/plain": [
       "30"
      ]
     },
     "execution_count": 72,
     "metadata": {},
     "output_type": "execute_result"
    }
   ],
   "source": [
    "#or\n",
    "array_1.sum()"
   ]
  },
  {
   "cell_type": "markdown",
   "id": "328a8f9b-04e2-4300-83ea-99c68cd2f865",
   "metadata": {},
   "source": [
    "### Max "
   ]
  },
  {
   "cell_type": "code",
   "execution_count": 74,
   "id": "0733c9e2-fe69-4e4b-9b2d-ffe033aa6cbd",
   "metadata": {},
   "outputs": [
    {
     "data": {
      "text/plain": [
       "10"
      ]
     },
     "execution_count": 74,
     "metadata": {},
     "output_type": "execute_result"
    }
   ],
   "source": [
    "max(list_1) #Base python function"
   ]
  },
  {
   "cell_type": "code",
   "execution_count": 76,
   "id": "e76588e8-8c56-4c3a-be88-e7ed27362a7b",
   "metadata": {},
   "outputs": [
    {
     "data": {
      "text/plain": [
       "10"
      ]
     },
     "execution_count": 76,
     "metadata": {},
     "output_type": "execute_result"
    }
   ],
   "source": [
    "array_1.max()"
   ]
  },
  {
   "cell_type": "markdown",
   "id": "5005e33e-2b21-4d2e-941e-74f0bc86f26e",
   "metadata": {},
   "source": [
    "### Min "
   ]
  },
  {
   "cell_type": "code",
   "execution_count": 77,
   "id": "9592ff42-57d0-47d3-bca6-1040344d4868",
   "metadata": {},
   "outputs": [
    {
     "data": {
      "text/plain": [
       "2"
      ]
     },
     "execution_count": 77,
     "metadata": {},
     "output_type": "execute_result"
    }
   ],
   "source": [
    "min(list_1) #Base python function"
   ]
  },
  {
   "cell_type": "code",
   "execution_count": 78,
   "id": "98cb339c-84f2-4714-b435-b8898afeeba2",
   "metadata": {},
   "outputs": [
    {
     "data": {
      "text/plain": [
       "2"
      ]
     },
     "execution_count": 78,
     "metadata": {},
     "output_type": "execute_result"
    }
   ],
   "source": [
    "array_1.min()"
   ]
  },
  {
   "cell_type": "markdown",
   "id": "a45c7d22-7b74-4c6b-b666-96a492df1765",
   "metadata": {},
   "source": [
    "### Mean"
   ]
  },
  {
   "cell_type": "code",
   "execution_count": 84,
   "id": "50e23e3c-29eb-4214-9469-dc9b4af9dccd",
   "metadata": {},
   "outputs": [
    {
     "data": {
      "text/plain": [
       "6.0"
      ]
     },
     "execution_count": 84,
     "metadata": {},
     "output_type": "execute_result"
    }
   ],
   "source": [
    "array_1.mean()"
   ]
  },
  {
   "cell_type": "markdown",
   "id": "42994c71-eeb3-4001-8eff-ef1e43b67d8c",
   "metadata": {},
   "source": [
    "### Standard Deviation"
   ]
  },
  {
   "cell_type": "code",
   "execution_count": 85,
   "id": "474fa329-cd87-43da-a51f-a089a8369e18",
   "metadata": {},
   "outputs": [
    {
     "data": {
      "text/plain": [
       "2.8284271247461903"
      ]
     },
     "execution_count": 85,
     "metadata": {},
     "output_type": "execute_result"
    }
   ],
   "source": [
    "array_1.std()"
   ]
  },
  {
   "attachments": {},
   "cell_type": "markdown",
   "id": "60b448f5",
   "metadata": {},
   "source": [
    "# Exercises & Self-Assessment"
   ]
  },
  {
   "cell_type": "markdown",
   "id": "3494eb49-1fb1-4766-96c6-f5878d945360",
   "metadata": {},
   "source": [
    "An operation on a list works on the whole list. \n",
    "In contrast, an operation on an array works on the individual elements of the array."
   ]
  },
  {
   "attachments": {},
   "cell_type": "markdown",
   "id": "b427ae42",
   "metadata": {},
   "source": [
    "## Footnotes"
   ]
  }
 ],
 "metadata": {
  "kernelspec": {
   "display_name": "Python 3 (ipykernel)",
   "language": "python",
   "name": "python3"
  },
  "language_info": {
   "codemirror_mode": {
    "name": "ipython",
    "version": 3
   },
   "file_extension": ".py",
   "mimetype": "text/x-python",
   "name": "python",
   "nbconvert_exporter": "python",
   "pygments_lexer": "ipython3",
   "version": "3.12.1"
  },
  "toc": {
   "base_numbering": 1,
   "nav_menu": {},
   "number_sections": true,
   "sideBar": true,
   "skip_h1_title": false,
   "title_cell": "Table of Contents",
   "title_sidebar": "Contents",
   "toc_cell": false,
   "toc_position": {},
   "toc_section_display": true,
   "toc_window_display": false
  },
  "vscode": {
   "interpreter": {
    "hash": "31f2aee4e71d21fbe5cf8b01ff0e069b9275f58929596ceb00d14d90e3e16cd6"
   }
  }
 },
 "nbformat": 4,
 "nbformat_minor": 5
}
