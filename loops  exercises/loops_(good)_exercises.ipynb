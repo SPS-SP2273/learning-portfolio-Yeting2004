{
 "cells": [
  {
   "attachments": {},
   "cell_type": "markdown",
   "id": "123456",
   "metadata": {},
   "source": [
    "<div style=\"text-align:left;font-size:2em\"><span style=\"font-weight:bolder;font-size:1.25em\">SP2273 | Learning Portfolio</span><br><br><span style=\"font-weight:bold;color:darkred\">Loops (Good) Exercises</span></div>"
   ]
  },
  {
   "cell_type": "markdown",
   "id": "14e9e166-ae83-4640-880b-2d25912d012b",
   "metadata": {},
   "source": [
    "## Exercise 1 (Make me an odd list) "
   ]
  },
  {
   "cell_type": "code",
   "execution_count": 14,
   "id": "91c54778-c5d8-42d5-8227-9c2f047424cd",
   "metadata": {},
   "outputs": [
    {
     "name": "stdout",
     "output_type": "stream",
     "text": [
      "[1, 9, 25, 49, 81]\n"
     ]
    }
   ],
   "source": [
    "square = []\n",
    "for number in range(10):\n",
    "    product = number**2\n",
    "    if product%2 == 0:\n",
    "        continue\n",
    "    square.append(product)\n",
    "print(square)"
   ]
  },
  {
   "cell_type": "markdown",
   "id": "97f3afb4-eb35-44c6-9825-a2c8e3ef1ed2",
   "metadata": {},
   "source": [
    "## Exercise 2 (Make me another odd list) "
   ]
  },
  {
   "cell_type": "code",
   "execution_count": 10,
   "id": "3b90020f-38ac-4ce6-839f-c3af531e1ddb",
   "metadata": {},
   "outputs": [
    {
     "data": {
      "text/plain": [
       "[1, 9, 25, 49, 81]"
      ]
     },
     "execution_count": 10,
     "metadata": {},
     "output_type": "execute_result"
    }
   ],
   "source": [
    "[number**2 for number in range(10) if number%2 == 1]"
   ]
  },
  {
   "cell_type": "markdown",
   "id": "be8f8875-db8b-4fcd-b967-ac9db630536d",
   "metadata": {},
   "source": [
    "## Exercise 3 (Time me!) "
   ]
  },
  {
   "cell_type": "code",
   "execution_count": 19,
   "id": "7b3246ff-3d2b-47f0-81c3-a15750eb5f3c",
   "metadata": {},
   "outputs": [
    {
     "name": "stdout",
     "output_type": "stream",
     "text": [
      "2.52 µs ± 304 ns per loop (mean ± std. dev. of 7 runs, 100,000 loops each)\n"
     ]
    }
   ],
   "source": [
    "%%timeit\n",
    "square = []\n",
    "for number in range(10):\n",
    "    product = number**2\n",
    "    if product%2 == 0:\n",
    "        continue\n",
    "    square.append(product)"
   ]
  },
  {
   "cell_type": "code",
   "execution_count": 17,
   "id": "e106f678-527f-4a4f-8b2e-5867bc832bdb",
   "metadata": {},
   "outputs": [
    {
     "name": "stdout",
     "output_type": "stream",
     "text": [
      "1.9 µs ± 349 ns per loop (mean ± std. dev. of 7 runs, 100,000 loops each)\n"
     ]
    }
   ],
   "source": [
    "%%timeit\n",
    "[number**2 for number in range(10) if number%2 == 1]"
   ]
  },
  {
   "cell_type": "markdown",
   "id": "e7e3263c-21e8-442c-9013-33ab7365f4b8",
   "metadata": {},
   "source": [
    "list comprehension faster"
   ]
  },
  {
   "cell_type": "markdown",
   "id": "672884a2-5330-486a-ba04-5ba4a28928a4",
   "metadata": {},
   "source": [
    "## Exercise 4 (A problem of decay) "
   ]
  },
  {
   "cell_type": "code",
   "execution_count": 23,
   "id": "dc54103f-4094-495d-b6d2-b06b6e754ca3",
   "metadata": {},
   "outputs": [
    {
     "name": "stdout",
     "output_type": "stream",
     "text": [
      "14 years\n"
     ]
    }
   ],
   "source": [
    "year = 0\n",
    "substance = 100\n",
    "while substance > 50:\n",
    "    substance = substance*0.95\n",
    "    year += 1 \n",
    "print (year, \"years\")"
   ]
  },
  {
   "cell_type": "markdown",
   "id": "6d358c4d-fb5d-4f97-93b4-6135662a0280",
   "metadata": {},
   "source": [
    "## Exercise 5 (Changes in CO) "
   ]
  },
  {
   "cell_type": "code",
   "execution_count": 35,
   "id": "a4894464-18ca-4dac-bfc2-193dd8c4ddc9",
   "metadata": {},
   "outputs": [
    {
     "name": "stdout",
     "output_type": "stream",
     "text": [
      "year:  2016 \tppm difference:  3.41\n"
     ]
    }
   ],
   "source": [
    "co2_data = [\n",
    "    (2000, 369.55), (2001, 371.14), (2002, 373.28), \n",
    "    (2003, 375.80), (2004, 377.52), (2005, 379.80), \n",
    "    (2006, 381.90), (2007, 383.79), (2008, 385.60), \n",
    "    (2009, 387.43), (2010, 389.90), (2011, 391.65), \n",
    "    (2012, 393.85), (2013, 396.52), (2014, 398.65),\n",
    "    (2015, 400.83), (2016, 404.24), (2017, 406.55), \n",
    "    (2018, 408.52), (2019, 411.44), (2020, 414.24)\n",
    "]\n",
    "year_before = 2000\n",
    "ppm_before = co2_data[0][1]\n",
    "for year_now, ppm_now in co2_data:\n",
    "    ppm_diff = ppm_now - ppm_before\n",
    "    if ppm_diff > 3:\n",
    "        print(\"year: \", year_now,\"\\t\"\n",
    "              \"ppm difference: \", f\"{ppm_diff:.2f}\") #prevent too many decimal places\n",
    "    year_before = year_now\n",
    "    ppm_before = ppm_now"
   ]
  }
 ],
 "metadata": {
  "kernelspec": {
   "display_name": "Python 3 (ipykernel)",
   "language": "python",
   "name": "python3"
  },
  "language_info": {
   "codemirror_mode": {
    "name": "ipython",
    "version": 3
   },
   "file_extension": ".py",
   "mimetype": "text/x-python",
   "name": "python",
   "nbconvert_exporter": "python",
   "pygments_lexer": "ipython3",
   "version": "3.12.1"
  },
  "toc": {
   "base_numbering": 1,
   "nav_menu": {},
   "number_sections": true,
   "sideBar": true,
   "skip_h1_title": false,
   "title_cell": "Table of Contents",
   "title_sidebar": "Contents",
   "toc_cell": false,
   "toc_position": {},
   "toc_section_display": true,
   "toc_window_display": false
  },
  "vscode": {
   "interpreter": {
    "hash": "31f2aee4e71d21fbe5cf8b01ff0e069b9275f58929596ceb00d14d90e3e16cd6"
   }
  }
 },
 "nbformat": 4,
 "nbformat_minor": 5
}
