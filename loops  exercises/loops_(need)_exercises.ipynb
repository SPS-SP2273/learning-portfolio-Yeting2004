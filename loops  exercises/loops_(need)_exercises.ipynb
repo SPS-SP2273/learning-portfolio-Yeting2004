{
 "cells": [
  {
   "attachments": {},
   "cell_type": "markdown",
   "id": "123456",
   "metadata": {},
   "source": [
    "<div style=\"text-align:left;font-size:2em\"><span style=\"font-weight:bolder;font-size:1.25em\">SP2273 | Learning Portfolio</span><br><br><span style=\"font-weight:bold;color:darkred\">Loops (Need) Exercises</span></div>"
   ]
  },
  {
   "cell_type": "markdown",
   "id": "4bf0928b-628a-48e6-a751-65a7e48fc10a",
   "metadata": {},
   "source": [
    "## Exercise 1 (Celcius to Farenheit)"
   ]
  },
  {
   "cell_type": "code",
   "execution_count": 3,
   "id": "f669ef8f-4561-4a2b-b6ec-f045e2120258",
   "metadata": {},
   "outputs": [
    {
     "name": "stdout",
     "output_type": "stream",
     "text": [
      "Celsius = 0, feranheit = 32.0\n",
      "Celsius = 5, feranheit = 41.0\n",
      "Celsius = 10, feranheit = 50.0\n",
      "Celsius = 15, feranheit = 59.0\n",
      "Celsius = 20, feranheit = 68.0\n",
      "Celsius = 25, feranheit = 77.0\n",
      "Celsius = 30, feranheit = 86.0\n",
      "Celsius = 35, feranheit = 95.0\n",
      "Celsius = 40, feranheit = 104.0\n",
      "Celsius = 45, feranheit = 113.0\n",
      "Celsius = 50, feranheit = 122.0\n"
     ]
    }
   ],
   "source": [
    "temperatures_celsius = [\n",
    "    0, 5, 10, 15, 20, 25,\n",
    "    30, 35, 40, 45, 50\n",
    "] \n",
    "for i in range (len(temperatures_celsius)):\n",
    "    extract = temperatures_celsius[i]\n",
    "    feranheit = (extract)*(9/5) +32\n",
    "    print(f\"Celsius = {extract}, feranheit = {feranheit}\")\n"
   ]
  },
  {
   "cell_type": "markdown",
   "id": "63886207-63ff-4e4d-be51-a1a7ee0f49b5",
   "metadata": {},
   "source": [
    "## Exercise 2 (Multiplication table)"
   ]
  },
  {
   "cell_type": "code",
   "execution_count": 4,
   "id": "af8800c1-2e92-433d-8ca5-bdd3e2289a6f",
   "metadata": {},
   "outputs": [
    {
     "name": "stdout",
     "output_type": "stream",
     "text": [
      "A1\tA2\tA3\t\n",
      "\n",
      "B1\tB2\tB3\t\n",
      "\n",
      "C1\tC2\tC3\t\n",
      "\n"
     ]
    }
   ],
   "source": [
    "for letter in ['A', 'B', 'C']:\n",
    "    for number in [1, 2, 3]:\n",
    "        print(f'{letter}{number}', end='\\t') #create new tab\n",
    "    print('\\n') #create new line"
   ]
  },
  {
   "cell_type": "code",
   "execution_count": 34,
   "id": "9af0879c-0c28-4f1f-af75-377ced726eca",
   "metadata": {},
   "outputs": [
    {
     "name": "stdout",
     "output_type": "stream",
     "text": [
      "1 : 1\t2\t3\t4\t5\t\n",
      "2 : 2\t4\t6\t8\t10\t\n",
      "3 : 3\t6\t9\t12\t15\t\n",
      "4 : 4\t8\t12\t16\t20\t\n",
      "5 : 5\t10\t15\t20\t25\t\n"
     ]
    }
   ],
   "source": [
    "number_list = [1, 2, 3, 4, 5]\n",
    "for number in number_list:\n",
    "    print(number, \": \", end=\"\") #so that the next print function wont create new line\n",
    "    for multiply in number_list:\n",
    "        product = number*multiply\n",
    "        print(f\"{product}\", end='\\t')\n",
    "    print()"
   ]
  }
 ],
 "metadata": {
  "kernelspec": {
   "display_name": "Python 3 (ipykernel)",
   "language": "python",
   "name": "python3"
  },
  "language_info": {
   "codemirror_mode": {
    "name": "ipython",
    "version": 3
   },
   "file_extension": ".py",
   "mimetype": "text/x-python",
   "name": "python",
   "nbconvert_exporter": "python",
   "pygments_lexer": "ipython3",
   "version": "3.12.1"
  },
  "toc": {
   "base_numbering": 1,
   "nav_menu": {},
   "number_sections": true,
   "sideBar": true,
   "skip_h1_title": false,
   "title_cell": "Table of Contents",
   "title_sidebar": "Contents",
   "toc_cell": false,
   "toc_position": {},
   "toc_section_display": true,
   "toc_window_display": false
  },
  "vscode": {
   "interpreter": {
    "hash": "31f2aee4e71d21fbe5cf8b01ff0e069b9275f58929596ceb00d14d90e3e16cd6"
   }
  }
 },
 "nbformat": 4,
 "nbformat_minor": 5
}
