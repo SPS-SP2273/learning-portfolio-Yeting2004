{
 "cells": [
  {
   "attachments": {},
   "cell_type": "markdown",
   "id": "123456",
   "metadata": {},
   "source": [
    "<div style=\"text-align:left;font-size:2em\"><span style=\"font-weight:bolder;font-size:1.25em\">SP2273 | Learning Portfolio</span><br><br><span style=\"font-weight:bold;color:darkred\">Fundamentals (Need) Exercises</span></div>"
   ]
  },
  {
   "cell_type": "markdown",
   "id": "481ab532-59e8-408d-94d7-0956ab83f7aa",
   "metadata": {},
   "source": [
    "## Exercise 1"
   ]
  },
  {
   "cell_type": "markdown",
   "id": "95fbc9fa-f0a2-4b49-b0f9-77aaa2c0465a",
   "metadata": {},
   "source": [
    "- print()\n",
    "- import Python package\n",
    "- sqrt()\n",
    "- if, else\n",
    "- \".\"\n",
    "- = to set something as equal\n",
    "- == to check if something is equal\n",
    "- *() for mathametics and functions*\n",
    "- [] to create 1d and 2d lists\n",
    "- {} to create dictionaries"
   ]
  },
  {
   "cell_type": "markdown",
   "id": "be4bdc16-5334-46ec-aa29-4cf2703baa4e",
   "metadata": {},
   "source": [
    "## Exercise 2"
   ]
  },
  {
   "cell_type": "code",
   "execution_count": 11,
   "id": "4cd9569d-a66b-41e5-9305-d31442873569",
   "metadata": {},
   "outputs": [
    {
     "name": "stdout",
     "output_type": "stream",
     "text": [
      "3 4 5.0\n"
     ]
    }
   ],
   "source": [
    "import math\n",
    "x, y = 3, 4\n",
    "z = math.sqrt(x**2+y**2)\n",
    "print(x, y, z)"
   ]
  },
  {
   "cell_type": "markdown",
   "id": "3fa58d75-bb96-4b5e-9868-53765e46d64c",
   "metadata": {},
   "source": [
    "## Exercise 3"
   ]
  },
  {
   "cell_type": "markdown",
   "id": "50c68fe7-6b9e-4cc2-ac4d-fc535827c708",
   "metadata": {},
   "source": [
    "| #  | Term         | Description                                                                                               |\r\n",
    "|---|--------------|-----------------------------------------------------------------------------------------------------------|\r\n",
    "| 1  | Function     | Allows the code to perform a specific task                                                                |\r\n",
    "| 2  | Arguments    | within the () of the function so the function will accept the it to perform the task                      |\r\n",
    "| 3  | Comments     | #Allow us to write information about the code and python will not read it when running the code           |\r\n",
    "| 4  | Indentations | Tab at the start of the code to indicate a block of code                                                  |\r\n",
    "| 5  | Packages     | Python packages contain other tools that the basic python does not have so that it can perform more tasks |\r\n",
    "| 6  | .            | Indicates ownership so that we can access the 'owner' for its content                                     |\r\n",
    "| 7  | :            | Indicates start of new block of code                                                                      |\r\n",
    "| 8  | []           | Used to create 1d list                                                                                    |\r\n",
    "| 9  | [[[]]]       | Used to create 3d list                                                                                    |\r\n",
    "| 10 | {}           | Used to create dictionary to store data                                                                   |\r\n",
    "          |"
   ]
  },
  {
   "cell_type": "markdown",
   "id": "adce32b2-90f7-470a-8d43-a7542b0522dd",
   "metadata": {},
   "source": [
    "## Exercise 4"
   ]
  },
  {
   "cell_type": "code",
   "execution_count": 12,
   "id": "1ba437c9-0804-4f00-ad3a-214734864009",
   "metadata": {},
   "outputs": [
    {
     "data": {
      "text/plain": [
       "2.5"
      ]
     },
     "execution_count": 12,
     "metadata": {},
     "output_type": "execute_result"
    }
   ],
   "source": [
    "5/2           # Float division that will give a float number (number with decimal place)"
   ]
  },
  {
   "cell_type": "code",
   "execution_count": 17,
   "id": "73129d03-f7b9-49c9-a151-9b6a75c289d8",
   "metadata": {},
   "outputs": [
    {
     "data": {
      "text/plain": [
       "2"
      ]
     },
     "execution_count": 17,
     "metadata": {},
     "output_type": "execute_result"
    }
   ],
   "source": [
    "5//2          # Integer division that will only give only the integer (no decimal place)"
   ]
  },
  {
   "cell_type": "code",
   "execution_count": 14,
   "id": "833ab557-a9eb-4112-92c7-e3cd25f90b5e",
   "metadata": {},
   "outputs": [
    {
     "data": {
      "text/plain": [
       "1"
      ]
     },
     "execution_count": 14,
     "metadata": {},
     "output_type": "execute_result"
    }
   ],
   "source": [
    "5%2           # Gives remainder from division"
   ]
  }
 ],
 "metadata": {
  "kernelspec": {
   "display_name": "Python 3 (ipykernel)",
   "language": "python",
   "name": "python3"
  },
  "language_info": {
   "codemirror_mode": {
    "name": "ipython",
    "version": 3
   },
   "file_extension": ".py",
   "mimetype": "text/x-python",
   "name": "python",
   "nbconvert_exporter": "python",
   "pygments_lexer": "ipython3",
   "version": "3.12.1"
  },
  "toc": {
   "base_numbering": 1,
   "nav_menu": {},
   "number_sections": true,
   "sideBar": true,
   "skip_h1_title": false,
   "title_cell": "Table of Contents",
   "title_sidebar": "Contents",
   "toc_cell": false,
   "toc_position": {},
   "toc_section_display": true,
   "toc_window_display": false
  },
  "vscode": {
   "interpreter": {
    "hash": "31f2aee4e71d21fbe5cf8b01ff0e069b9275f58929596ceb00d14d90e3e16cd6"
   }
  }
 },
 "nbformat": 4,
 "nbformat_minor": 5
}
