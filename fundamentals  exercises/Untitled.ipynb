{
 "cells": [
  {
   "cell_type": "code",
   "execution_count": 2,
   "id": "dc006f2b-06f6-4c87-aee8-e861bd6d64c6",
   "metadata": {},
   "outputs": [
    {
     "name": "stdout",
     "output_type": "stream",
     "text": [
      "0\n",
      "1\n",
      "2\n",
      "3\n",
      "4\n",
      "5\n",
      "6\n",
      "7\n",
      "8\n",
      "9\n",
      "1708081478.693184\n"
     ]
    }
   ],
   "source": [
    "import time\n",
    "for i in range(10):\n",
    "    # Use 'i' directly\n",
    "    print(i)\n",
    "print(time.time())"
   ]
  },
  {
   "cell_type": "code",
   "execution_count": 3,
   "id": "7edb73e2-c3d7-439a-9ec8-cdbb91752026",
   "metadata": {},
   "outputs": [
    {
     "name": "stdout",
     "output_type": "stream",
     "text": [
      "0\n",
      "1\n",
      "2\n",
      "3\n",
      "4\n",
      "5\n",
      "6\n",
      "7\n",
      "8\n",
      "9\n",
      "1708081507.364527\n"
     ]
    }
   ],
   "source": [
    "for value in range(10):\n",
    "    i = value  # Unpack 'value' to 'i'\n",
    "    print(i)\n",
    "print(time.time())"
   ]
  }
 ],
 "metadata": {
  "kernelspec": {
   "display_name": "Python 3 (ipykernel)",
   "language": "python",
   "name": "python3"
  },
  "language_info": {
   "codemirror_mode": {
    "name": "ipython",
    "version": 3
   },
   "file_extension": ".py",
   "mimetype": "text/x-python",
   "name": "python",
   "nbconvert_exporter": "python",
   "pygments_lexer": "ipython3",
   "version": "3.12.1"
  }
 },
 "nbformat": 4,
 "nbformat_minor": 5
}
