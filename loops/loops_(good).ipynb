{
 "cells": [
  {
   "attachments": {},
   "cell_type": "markdown",
   "id": "123456",
   "metadata": {},
   "source": [
    "<div style=\"text-align:left;font-size:2em\"><span style=\"font-weight:bolder;font-size:1.25em\">SP2273 | Learning Portfolio</span><br><br><span style=\"font-weight:bold;color:darkred\">Loops (Good)</span></div>"
   ]
  },
  {
   "attachments": {},
   "cell_type": "markdown",
   "id": "918e4d7b",
   "metadata": {},
   "source": [
    "# What to expect in this chapter"
   ]
  },
  {
   "cell_type": "markdown",
   "id": "a3d63192-919f-4a44-8cc2-a0a6fd2d2102",
   "metadata": {},
   "source": [
    "- More control over what happens in loops by using the continue and break statements\n",
    "- List comprehension, a super-optimised variant of the for a loop and to create a list from other lists."
   ]
  },
  {
   "attachments": {},
   "cell_type": "markdown",
   "id": "20e9baa9",
   "metadata": {},
   "source": [
    "# 1 Interrupting the flow"
   ]
  },
  {
   "cell_type": "markdown",
   "id": "61186996-9bcf-48ea-9ab8-31fe63a0e63d",
   "metadata": {},
   "source": [
    "### Break"
   ]
  },
  {
   "cell_type": "markdown",
   "id": "6234356a-3006-4265-9039-2257c01ca136",
   "metadata": {},
   "source": [
    "Use break to break out of the loop and terminate it\n",
    "- usually use it with \"if\" to break out if a certain condition is met.\n",
    "- also work with a while loop."
   ]
  },
  {
   "cell_type": "code",
   "execution_count": 10,
   "id": "7acb226e-dac2-4a95-b3e3-3b9e855b6734",
   "metadata": {},
   "outputs": [
    {
     "name": "stdout",
     "output_type": "stream",
     "text": [
      "0 1\n",
      "1 2\n",
      "2 4\n",
      "3 8\n",
      "4 16\n",
      "5 32\n",
      "6 64\n"
     ]
    }
   ],
   "source": [
    "number = 2\n",
    "for square in range(20):\n",
    "    end = number**square\n",
    "    if end > 64:\n",
    "        break\n",
    "    print(square, end)"
   ]
  },
  {
   "cell_type": "markdown",
   "id": "b20081c4-7d07-48b5-9942-8d8be478e16c",
   "metadata": {},
   "source": [
    "break can prevent loop from running forever"
   ]
  },
  {
   "cell_type": "code",
   "execution_count": 33,
   "id": "8dc7b02c-8073-42a6-b0a2-3199ee02f64a",
   "metadata": {},
   "outputs": [
    {
     "name": "stdout",
     "output_type": "stream",
     "text": [
      "0\n",
      "1\n",
      "2\n",
      "3\n",
      "4\n",
      "5\n",
      "6\n",
      "7\n",
      "8\n",
      "9\n",
      "10\n"
     ]
    }
   ],
   "source": [
    "number=0\n",
    "\n",
    "while True:\n",
    "    print(number)\n",
    "    number += 1\n",
    "    if number > 10: \n",
    "        break"
   ]
  },
  {
   "cell_type": "markdown",
   "id": "8fbd8027-069f-4de5-8576-ca6cb6a4c5a5",
   "metadata": {},
   "source": [
    "### Continue"
   ]
  },
  {
   "cell_type": "markdown",
   "id": "5ae8f755-9a4c-4c7e-bcf9-2d5a24572101",
   "metadata": {},
   "source": [
    "continue allows us to skip everything after it\n",
    "- typically used with if\n",
    "- also work with a while loop"
   ]
  },
  {
   "cell_type": "code",
   "execution_count": 9,
   "id": "418408d3-a700-4359-ac71-8164fcbac2d1",
   "metadata": {},
   "outputs": [
    {
     "name": "stdout",
     "output_type": "stream",
     "text": [
      "0 1\n",
      "1 2\n",
      "2 4\n",
      "3 8\n",
      "4 16\n",
      "5 32\n",
      "7 128\n",
      "8 256\n",
      "9 512\n"
     ]
    }
   ],
   "source": [
    "number = 2\n",
    "for square in range(10):\n",
    "    end = number**square\n",
    "    if end == 64: #skip loops for end==64\n",
    "        continue\n",
    "    print(square, end)"
   ]
  },
  {
   "attachments": {},
   "cell_type": "markdown",
   "id": "d2e5c838",
   "metadata": {},
   "source": [
    "# 2 List comprehension!"
   ]
  },
  {
   "attachments": {},
   "cell_type": "markdown",
   "id": "015baf9f",
   "metadata": {},
   "source": [
    "## 2.1 Basic syntax"
   ]
  },
  {
   "cell_type": "code",
   "execution_count": 14,
   "id": "3ae8cdda-e4b6-4ecf-9cca-e0bc7bba7297",
   "metadata": {},
   "outputs": [
    {
     "data": {
      "text/plain": [
       "[0, 1, 2, 3, 4, 5, 6, 7, 8, 9]"
      ]
     },
     "execution_count": 14,
     "metadata": {},
     "output_type": "execute_result"
    }
   ],
   "source": [
    "[numbers for numbers in range(10)]"
   ]
  },
  {
   "cell_type": "code",
   "execution_count": 15,
   "id": "f616ec64-f404-4685-a594-2be3da4a1dca",
   "metadata": {},
   "outputs": [
    {
     "data": {
      "text/plain": [
       "[0, 1, 8]"
      ]
     },
     "execution_count": 15,
     "metadata": {},
     "output_type": "execute_result"
    }
   ],
   "source": [
    "[numbers**3 for numbers in range(3)]"
   ]
  },
  {
   "attachments": {},
   "cell_type": "markdown",
   "id": "ef4330a4",
   "metadata": {},
   "source": [
    "## 2.2 List comprehension with conditions"
   ]
  },
  {
   "cell_type": "code",
   "execution_count": 16,
   "id": "82d38004-f696-4a9c-a8e0-398a4670fc23",
   "metadata": {},
   "outputs": [
    {
     "data": {
      "text/plain": [
       "[0, 2, 4, 6, 8]"
      ]
     },
     "execution_count": 16,
     "metadata": {},
     "output_type": "execute_result"
    }
   ],
   "source": [
    "[numbers for numbers in range(10) if numbers%2 == 0]"
   ]
  },
  {
   "cell_type": "code",
   "execution_count": 17,
   "id": "a2022887-174b-44dc-bb8c-4289387513ef",
   "metadata": {},
   "outputs": [
    {
     "data": {
      "text/plain": [
       "[6, 7, 8, 9]"
      ]
     },
     "execution_count": 17,
     "metadata": {},
     "output_type": "execute_result"
    }
   ],
   "source": [
    "[numbers for numbers in range(10) if numbers > 5]"
   ]
  },
  {
   "attachments": {},
   "cell_type": "markdown",
   "id": "655f0e0a",
   "metadata": {},
   "source": [
    "# 3 Other useful stuff"
   ]
  },
  {
   "attachments": {},
   "cell_type": "markdown",
   "id": "8efedb2d",
   "metadata": {},
   "source": [
    "## 3.1 for with unpacking"
   ]
  },
  {
   "cell_type": "markdown",
   "id": "e292f036-f959-4aab-ae45-9bb38a13ff9e",
   "metadata": {},
   "source": [
    "### Unpacking"
   ]
  },
  {
   "cell_type": "code",
   "execution_count": 21,
   "id": "414043a5-1e5d-4f1c-adf2-6c4d20cc0a50",
   "metadata": {},
   "outputs": [
    {
     "name": "stdout",
     "output_type": "stream",
     "text": [
      " 1 = Annie, 2 = Benny, 3 = Carrie\n"
     ]
    }
   ],
   "source": [
    "fast, medium, slow = [\"Annie\", \"Benny\", \"Carrie\"]\n",
    "print(f\" 1 = {fast}, 2 = {medium}, 3 = {slow}\")"
   ]
  },
  {
   "cell_type": "code",
   "execution_count": 24,
   "id": "eea1186f-0e45-4e09-8b1b-c2bc2dc76e7d",
   "metadata": {},
   "outputs": [
    {
     "name": "stdout",
     "output_type": "stream",
     "text": [
      "fast horse is Annie!\n",
      "medium horse is Benny!\n",
      "slow horse is Carrie!\n"
     ]
    }
   ],
   "source": [
    "horse_info = [[\"fast\", \"Annie\"], [\"medium\", \"Benny\"], [\"slow\", \"Carrie\"]]\n",
    "for horse_speed, horse_name in horse_info:\n",
    "    print(f\"{horse_speed} horse is {horse_name}!\")"
   ]
  },
  {
   "attachments": {},
   "cell_type": "markdown",
   "id": "11cef496",
   "metadata": {},
   "source": [
    "## 3.2 for with zip()"
   ]
  },
  {
   "cell_type": "markdown",
   "id": "54883e1c-61cf-4f7b-9924-e5585079d295",
   "metadata": {},
   "source": [
    "### Zip"
   ]
  },
  {
   "cell_type": "markdown",
   "id": "e1442d07-dd83-498a-932d-007f65cb4583",
   "metadata": {},
   "source": [
    "Zip to combine two list"
   ]
  },
  {
   "cell_type": "code",
   "execution_count": 26,
   "id": "c15a1404-cb76-4caf-83e6-51bd2f4fc198",
   "metadata": {},
   "outputs": [
    {
     "name": "stdout",
     "output_type": "stream",
     "text": [
      "Annie is a very fast horse!\n",
      "Benny is a very medium horse!\n",
      "Carrie is a very slow horse!\n"
     ]
    }
   ],
   "source": [
    "horse_names = [\"Annie\", \"Benny\", \"Carrie\"]\n",
    "horse_speeds = [\"fast\", \"medium\", \"slow\"]\n",
    "for names, speeds in zip(horse_names, horse_speeds): #combine two list\n",
    "    print(f\"{names} is a very {speeds} horse!\")"
   ]
  },
  {
   "attachments": {},
   "cell_type": "markdown",
   "id": "ddccbe19",
   "metadata": {},
   "source": [
    "## 3.3 for with dictionaries"
   ]
  },
  {
   "cell_type": "markdown",
   "id": "44b0c55d-ac2d-42e3-84e3-89a0c8553f49",
   "metadata": {},
   "source": [
    "### items()"
   ]
  },
  {
   "cell_type": "markdown",
   "id": "a649fe15-9070-4736-b3a3-b50e693dac6b",
   "metadata": {},
   "source": [
    "spilts up key and value in dictionary"
   ]
  },
  {
   "cell_type": "code",
   "execution_count": 32,
   "id": "9754f957-29f7-4ffb-9474-a4009b1a65b0",
   "metadata": {},
   "outputs": [
    {
     "name": "stdout",
     "output_type": "stream",
     "text": [
      "Annie is a very fast horse!\n",
      "Benny is a very medium horse!\n",
      "Carrie is a very slow horse!\n"
     ]
    }
   ],
   "source": [
    "horse_info = {\"Annie\": \"fast\", \"Benny\": \"medium\", \"Carrie\": \"slow\"}\n",
    "for horse_name, horse_speed in horse_info.items():\n",
    "    print(f\"{horse_name} is a very {horse_speed} horse!\")"
   ]
  },
  {
   "cell_type": "code",
   "execution_count": 30,
   "id": "2d125c96-b1ae-4db3-a106-b27d28a3f375",
   "metadata": {},
   "outputs": [
    {
     "name": "stdout",
     "output_type": "stream",
     "text": [
      "Annie is a fast horse!\n",
      "Benny is a medium horse!\n",
      "Carrie is a slow horse!\n"
     ]
    }
   ],
   "source": [
    "horse_info = {\"Annie\": \"fast\", \"Benny\": \"medium\", \"Carrie\": \"slow\"}\n",
    "for name in horse_info.keys():\n",
    "    speed = horse_info[name]\n",
    "    print(f\"{name} is a {speed} horse!\")"
   ]
  },
  {
   "attachments": {},
   "cell_type": "markdown",
   "id": "41e6743a",
   "metadata": {},
   "source": [
    "## Footnotes"
   ]
  }
 ],
 "metadata": {
  "kernelspec": {
   "display_name": "Python 3 (ipykernel)",
   "language": "python",
   "name": "python3"
  },
  "language_info": {
   "codemirror_mode": {
    "name": "ipython",
    "version": 3
   },
   "file_extension": ".py",
   "mimetype": "text/x-python",
   "name": "python",
   "nbconvert_exporter": "python",
   "pygments_lexer": "ipython3",
   "version": "3.12.1"
  },
  "toc": {
   "base_numbering": 1,
   "nav_menu": {},
   "number_sections": true,
   "sideBar": true,
   "skip_h1_title": false,
   "title_cell": "Table of Contents",
   "title_sidebar": "Contents",
   "toc_cell": false,
   "toc_position": {},
   "toc_section_display": true,
   "toc_window_display": false
  },
  "vscode": {
   "interpreter": {
    "hash": "31f2aee4e71d21fbe5cf8b01ff0e069b9275f58929596ceb00d14d90e3e16cd6"
   }
  }
 },
 "nbformat": 4,
 "nbformat_minor": 5
}
