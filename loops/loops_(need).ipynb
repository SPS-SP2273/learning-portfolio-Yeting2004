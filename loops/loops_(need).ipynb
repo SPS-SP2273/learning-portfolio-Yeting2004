{
 "cells": [
  {
   "attachments": {},
   "cell_type": "markdown",
   "id": "123456",
   "metadata": {},
   "source": [
    "<div style=\"text-align:left;font-size:2em\"><span style=\"font-weight:bolder;font-size:1.25em\">SP2273 | Learning Portfolio</span><br><br><span style=\"font-weight:bold;color:darkred\">Loops (Need)</span></div>"
   ]
  },
  {
   "attachments": {},
   "cell_type": "markdown",
   "id": "3279d00e",
   "metadata": {},
   "source": [
    "# What to expect in this chapter"
   ]
  },
  {
   "cell_type": "markdown",
   "id": "993e3d24-5733-4ea8-9518-c1e9978fd99f",
   "metadata": {},
   "source": [
    "Learning how to make python repeat tasks using loop statements\n",
    "- for statement\n",
    "- while statement"
   ]
  },
  {
   "attachments": {},
   "cell_type": "markdown",
   "id": "c4873064",
   "metadata": {},
   "source": [
    "# 1 The for iterator"
   ]
  },
  {
   "cell_type": "code",
   "execution_count": 3,
   "id": "87cce91a-91e6-4ac8-97a6-858f73392eed",
   "metadata": {},
   "outputs": [
    {
     "name": "stdout",
     "output_type": "stream",
     "text": [
      "Andy is the winner!\n",
      "Benny is the winner!\n",
      "Carrie is the winner!\n"
     ]
    }
   ],
   "source": [
    "horse_list = [\"Andy\", \"Benny\", \"Carrie\"] \n",
    "winner = horse_list[0] #inefficient way to do \n",
    "print(f\"{winner} is the winner!\")\n",
    "winner = horse_list[1]\n",
    "print(f\"{winner} is the winner!\")\n",
    "winner = horse_list[2]\n",
    "print(f\"{winner} is the winner!\")"
   ]
  },
  {
   "cell_type": "markdown",
   "id": "06fdc0c9-4857-465a-8e33-fbd12dcd0d06",
   "metadata": {},
   "source": [
    "- does not scale very well\n",
    "- difficult to make changes\n",
    "- highly error prone"
   ]
  },
  {
   "attachments": {},
   "cell_type": "markdown",
   "id": "d7676b0c",
   "metadata": {},
   "source": [
    "## 1.1 for with a list"
   ]
  },
  {
   "cell_type": "code",
   "execution_count": 5,
   "id": "3491164b-1935-4d3d-be7b-06fd2ca2255f",
   "metadata": {},
   "outputs": [
    {
     "name": "stdout",
     "output_type": "stream",
     "text": [
      "Andy is the winner!\n",
      "Benny is the winner!\n",
      "Carrie is the winner!\n"
     ]
    }
   ],
   "source": [
    "for winner in horse_list:\n",
    "    print(f\"{winner} is the winner!\")"
   ]
  },
  {
   "cell_type": "markdown",
   "id": "8b0e1e9d-edb3-40bb-bc26-4560275bb95e",
   "metadata": {},
   "source": [
    "**for function:**\n",
    "- goes through the list and assigns \"winner\" the value of each element of the list.\r",
    "-  runs the code-block using this value of name\n",
    "    - code block designate by using : and tabsf."
   ]
  },
  {
   "cell_type": "markdown",
   "id": "34f9573f-fc45-4cfb-bb66-a9c419e7319a",
   "metadata": {},
   "source": [
    "**for can be used to directly loop through a list**"
   ]
  },
  {
   "attachments": {},
   "cell_type": "markdown",
   "id": "bb0125ac",
   "metadata": {},
   "source": [
    "## 1.2 for with enumerate"
   ]
  },
  {
   "cell_type": "markdown",
   "id": "ab1aa4db-c20a-4318-9c78-7ee176dd01d0",
   "metadata": {},
   "source": [
    "Use enumerate() when need to use more than one list"
   ]
  },
  {
   "cell_type": "markdown",
   "id": "86fb04ba-b956-44f1-95ac-efc816d064a2",
   "metadata": {},
   "source": [
    "enumerate() something that keeps count\n",
    "- can give the elements of the list\n",
    "- can give a number (that is stored in count).\n",
    "\n",
    "=> use the count given by enumerate to index the other list"
   ]
  },
  {
   "cell_type": "code",
   "execution_count": 35,
   "id": "0d16046a-b592-46d1-8ca5-b6860767b9f1",
   "metadata": {},
   "outputs": [
    {
     "name": "stdout",
     "output_type": "stream",
     "text": [
      "0: Annie is competing today!\n",
      "1: Benny is competing today!\n",
      "2: Carrie is competing today!\n"
     ]
    }
   ],
   "source": [
    "horse_names = [\"Annie\", \"Benny\", \"Carrie\"]\n",
    "horse_speeds = [\"fast\", \"medium\", \"slow\"]\n",
    "for count, horse in enumerate(horse_names):\n",
    "    print(f\"{count}: {horse} is competing today!\")"
   ]
  },
  {
   "cell_type": "code",
   "execution_count": 34,
   "id": "fa7fef3e-db58-4104-8a27-04e63125a47a",
   "metadata": {},
   "outputs": [
    {
     "name": "stdout",
     "output_type": "stream",
     "text": [
      "1: Annie is competing today!\n",
      "2: Benny is competing today!\n",
      "3: Carrie is competing today!\n"
     ]
    }
   ],
   "source": [
    "horse_names = [\"Annie\", \"Benny\", \"Carrie\"]\n",
    "horse_speeds = [\"fast\", \"medium\", \"slow\"]\n",
    "for count, horse in enumerate(horse_names, 1): #start from 1 instead of 0\n",
    "    print(f\"{count}: {horse} is competing today!\")"
   ]
  },
  {
   "cell_type": "code",
   "execution_count": 42,
   "id": "57bd0fe3-ec51-4d4c-9d7b-c6d370c09e91",
   "metadata": {},
   "outputs": [
    {
     "name": "stdout",
     "output_type": "stream",
     "text": [
      "Annie is a fast horse\n",
      "Benny is a medium horse\n",
      "Carrie is a slow horse\n"
     ]
    }
   ],
   "source": [
    "horse_names = [\"Annie\", \"Benny\", \"Carrie\"]\n",
    "horse_speeds = [\"fast\", \"medium\", \"slow\"]\n",
    "for count, horse in enumerate(horse_names):\n",
    "    speed = horse_speeds[count]\n",
    "    print(f\"{horse} is a {speed} horse\")"
   ]
  },
  {
   "cell_type": "markdown",
   "id": "9c2a1011-ad81-4ccb-8706-1eda08dcc478",
   "metadata": {},
   "source": [
    "Things to note:\n",
    "- change variable name so appropriate for human use\n",
    "- enumerate starts counting from 0 but can change start value"
   ]
  },
  {
   "attachments": {},
   "cell_type": "markdown",
   "id": "b3fc1d25",
   "metadata": {},
   "source": [
    "## 1.3 for with range"
   ]
  },
  {
   "cell_type": "markdown",
   "id": "819ff6b8-123e-4d3e-bcfc-98a256d76e99",
   "metadata": {},
   "source": [
    "Use range() to get the for loop to run a given number of times\n",
    "- range() and enumerate() only work with loop\n",
    "- range() always ends one short of the ending number (n-1)"
   ]
  },
  {
   "cell_type": "code",
   "execution_count": 19,
   "id": "897044c3-6943-473c-9596-30b88079d57f",
   "metadata": {},
   "outputs": [
    {
     "name": "stdout",
     "output_type": "stream",
     "text": [
      "0\n",
      "1\n",
      "2\n",
      "3\n",
      "4\n"
     ]
    }
   ],
   "source": [
    "for number in range(5): #starts from 0 and repeats 5 times\n",
    "    print(number)"
   ]
  },
  {
   "cell_type": "code",
   "execution_count": 22,
   "id": "3a4c867d-5de3-4e97-8e28-811931b345e6",
   "metadata": {},
   "outputs": [
    {
     "name": "stdout",
     "output_type": "stream",
     "text": [
      "5\n",
      "6\n",
      "7\n",
      "8\n",
      "9\n"
     ]
    }
   ],
   "source": [
    "for number in range(5,10): #starts from 5 and repeats 5 times \n",
    "    print(number)"
   ]
  },
  {
   "cell_type": "code",
   "execution_count": 23,
   "id": "e6fca3c2-a2ed-4309-a4e2-ace74964fbe1",
   "metadata": {},
   "outputs": [
    {
     "name": "stdout",
     "output_type": "stream",
     "text": [
      "1\n",
      "3\n",
      "5\n",
      "7\n",
      "9\n"
     ]
    }
   ],
   "source": [
    "for number in range(1,10,2): # count in every step of 2\n",
    "    print(number)"
   ]
  },
  {
   "cell_type": "code",
   "execution_count": 40,
   "id": "e5af3c99-4c86-4300-ac15-bf2df6c8318b",
   "metadata": {},
   "outputs": [
    {
     "name": "stdout",
     "output_type": "stream",
     "text": [
      "Annie is a fast horse!\n",
      "Benny is a medium horse!\n",
      "Carrie is a slow horse!\n"
     ]
    }
   ],
   "source": [
    "horse_names = [\"Annie\", \"Benny\", \"Carrie\"]\n",
    "horse_speeds = [\"fast\", \"medium\", \"slow\"]\n",
    "for number in range(len(horse_names)): #length of horse name\n",
    "    horse = horse_names[number]\n",
    "    speed = horse_speeds[number]\n",
    "    print(f\"{horse} is a {speed} horse!\")"
   ]
  },
  {
   "attachments": {},
   "cell_type": "markdown",
   "id": "38e06542",
   "metadata": {},
   "source": [
    "# 2 while"
   ]
  },
  {
   "cell_type": "markdown",
   "id": "6ca0a8b0-ffef-445b-9aa2-77b6fb15e367",
   "metadata": {},
   "source": [
    "while loop is set up so that it keeps on running while a condition is True. Dou do not need to know beforehand how many iterations are needed."
   ]
  },
  {
   "cell_type": "code",
   "execution_count": 41,
   "id": "9140cd54-5c32-4662-ace2-7c17fd05d506",
   "metadata": {},
   "outputs": [
    {
     "name": "stdout",
     "output_type": "stream",
     "text": [
      "1\n",
      "2\n",
      "3\n",
      "4\n"
     ]
    }
   ],
   "source": [
    "number = 1\n",
    "while number < 5:\n",
    "    print(number)\n",
    "    number += 1"
   ]
  }
 ],
 "metadata": {
  "kernelspec": {
   "display_name": "Python 3 (ipykernel)",
   "language": "python",
   "name": "python3"
  },
  "language_info": {
   "codemirror_mode": {
    "name": "ipython",
    "version": 3
   },
   "file_extension": ".py",
   "mimetype": "text/x-python",
   "name": "python",
   "nbconvert_exporter": "python",
   "pygments_lexer": "ipython3",
   "version": "3.12.1"
  },
  "toc": {
   "base_numbering": 1,
   "nav_menu": {},
   "number_sections": true,
   "sideBar": true,
   "skip_h1_title": false,
   "title_cell": "Table of Contents",
   "title_sidebar": "Contents",
   "toc_cell": false,
   "toc_position": {},
   "toc_section_display": true,
   "toc_window_display": false
  },
  "vscode": {
   "interpreter": {
    "hash": "31f2aee4e71d21fbe5cf8b01ff0e069b9275f58929596ceb00d14d90e3e16cd6"
   }
  }
 },
 "nbformat": 4,
 "nbformat_minor": 5
}
