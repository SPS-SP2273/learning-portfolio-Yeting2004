{
 "cells": [
  {
   "attachments": {},
   "cell_type": "markdown",
   "id": "123456",
   "metadata": {},
   "source": [
    "<div style=\"text-align:left;font-size:2em\"><span style=\"font-weight:bolder;font-size:1.25em\">SP2273 | Learning Portfolio</span><br><br><span style=\"font-weight:bold;color:darkred\">Using Jupyter (Need), Exercises</span></div>"
   ]
  },
  {
   "attachments": {},
   "cell_type": "markdown",
   "id": "ef54ff2e",
   "metadata": {},
   "source": [
    "## Quadratic Equations"
   ]
  },
  {
   "attachments": {},
   "cell_type": "markdown",
   "id": "1ae94264",
   "metadata": {},
   "source": [
    "### Introduction"
   ]
  },
  {
   "cell_type": "markdown",
   "id": "7f1e2eba-a5ec-452f-aa70-00787dbb8cc1",
   "metadata": {},
   "source": [
    "![](https://upload.wikimedia.org/wikipedia/commons/thumb/f/f8/Polynomialdeg2.svg/800px-Polynomialdeg2.svg.png)\n"
   ]
  },
  {
   "cell_type": "markdown",
   "id": "589b1620-9d50-4592-bb9e-daaa72444e1b",
   "metadata": {},
   "source": [
    "*(Image from the [Wikipedia page on Quadratic equations](https://en.wikipedia.org/wiki/Quadratic_equation))*"
   ]
  },
  {
   "cell_type": "markdown",
   "id": "757bad95-ed54-4750-85c1-ffcb7f333bec",
   "metadata": {},
   "source": [
    "The general form of a quadratic equation is:"
   ]
  },
  {
   "cell_type": "markdown",
   "id": "ea53b993-ae1c-4a98-905c-9735ac461bff",
   "metadata": {},
   "source": [
    "$$\n",
    "ax^2+bx+c=0\n",
    "$$"
   ]
  },
  {
   "attachments": {},
   "cell_type": "markdown",
   "id": "94d5c36b",
   "metadata": {},
   "source": [
    "### Solutions"
   ]
  },
  {
   "cell_type": "markdown",
   "id": "352aff7c-f87c-4bd8-938d-a62ca9206975",
   "metadata": {},
   "source": [
    "Provided $a\\neq0$, we can use an elementary algebraic method called [completing the square](https://en.wikipedia.org/wiki/Completing_the_square) to show that a quadratic equation has the following solution:"
   ]
  },
  {
   "attachments": {},
   "cell_type": "markdown",
   "id": "de5314c8",
   "metadata": {},
   "source": [
    "### Discriminant"
   ]
  },
  {
   "cell_type": "markdown",
   "id": "e08e2a94-ce32-4597-957b-7385a139acf2",
   "metadata": {},
   "source": [
    "The quantity $\\Delta=b^2-4ac$ is called the **discriminant** of the equation and decides the nature of its solutions. The table below shows the various possibilities. \n"
   ]
  },
  {
   "cell_type": "markdown",
   "id": "ef28df4c-a1ab-4660-8a61-2422b2a14b82",
   "metadata": {},
   "source": [
    "| Discriminat        | Roots                                |\n",
    "|--------------------|--------------------------------------|\n",
    "| $\\Delta=b^2-4ac=0$ | A single solution of $-b/(2a)$       |\n",
    "| $\\Delta=b^2-4ac>0$ | Two distinct solutions               |\n",
    "| $\\Delta=b^2-4ac<0$ | No real solutions; both are complex. |"
   ]
  },
  {
   "cell_type": "markdown",
   "id": "43ac2dee-80bf-47a3-8dcf-e344dece0781",
   "metadata": {},
   "source": [
    "## Exercise 2"
   ]
  },
  {
   "cell_type": "markdown",
   "id": "5730f98c-b2c9-446e-86fa-3082ac93c111",
   "metadata": {},
   "source": [
    "1. The Git repository allows us to store our code and files. Changes we make to the code will also be stored in this repository."
   ]
  },
  {
   "cell_type": "markdown",
   "id": "9de562a5-6f3f-4cc0-8f01-820dfd42c04e",
   "metadata": {},
   "source": [
    "2. Git keeps track of ____code changes____ in the files in our repository."
   ]
  },
  {
   "cell_type": "markdown",
   "id": "333a97d0-2c90-4257-90f0-cb7faf893d97",
   "metadata": {},
   "source": [
    "3. By making a ____commit____, it allows us to control what changes get saved in the repository. A short description of each commit allows us to keep track of the changes we make to our code"
   ]
  },
  {
   "cell_type": "markdown",
   "id": "995aa8f0-6893-4e94-a2f5-125f47e0fd83",
   "metadata": {},
   "source": [
    "4. To save the commits in the Github online server, we need to ____push____ the commits from our desktop to the server."
   ]
  },
  {
   "cell_type": "markdown",
   "id": "c55e4409-07dd-49c9-9111-dc67c17115d8",
   "metadata": {},
   "source": [
    "5. To get changes made in the code in the Github online server, we need to ____pull____ the changes to our desktop from the server."
   ]
  },
  {
   "cell_type": "markdown",
   "id": "35c04a66-c9b3-4384-b143-f54c4d17ca64",
   "metadata": {},
   "source": [
    "6. Github is an online cloud that stores our Git repositories. Github Desktop, with its accessible GUI allows us to commit, push and pull changes between the code on our desktop and the Github cloud."
   ]
  }
 ],
 "metadata": {
  "kernelspec": {
   "display_name": "Python 3 (ipykernel)",
   "language": "python",
   "name": "python3"
  },
  "language_info": {
   "codemirror_mode": {
    "name": "ipython",
    "version": 3
   },
   "file_extension": ".py",
   "mimetype": "text/x-python",
   "name": "python",
   "nbconvert_exporter": "python",
   "pygments_lexer": "ipython3",
   "version": "3.12.1"
  },
  "toc": {
   "base_numbering": 1,
   "nav_menu": {},
   "number_sections": true,
   "sideBar": true,
   "skip_h1_title": false,
   "title_cell": "Table of Contents",
   "title_sidebar": "Contents",
   "toc_cell": false,
   "toc_position": {},
   "toc_section_display": true,
   "toc_window_display": false
  },
  "vscode": {
   "interpreter": {
    "hash": "31f2aee4e71d21fbe5cf8b01ff0e069b9275f58929596ceb00d14d90e3e16cd6"
   }
  }
 },
 "nbformat": 4,
 "nbformat_minor": 5
}
