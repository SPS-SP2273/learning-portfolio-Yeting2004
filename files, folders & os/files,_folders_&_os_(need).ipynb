{
 "cells": [
  {
   "attachments": {},
   "cell_type": "markdown",
   "id": "123456",
   "metadata": {},
   "source": [
    "<div style=\"text-align:left;font-size:2em\"><span style=\"font-weight:bolder;font-size:1.25em\">SP2273 | Learning Portfolio</span><br><br><span style=\"font-weight:bold;color:darkred\">Files, Folders & OS (Need)</span></div>"
   ]
  },
  {
   "attachments": {},
   "cell_type": "markdown",
   "id": "6f02874a",
   "metadata": {},
   "source": [
    "# What to expect in this chapter"
   ]
  },
  {
   "cell_type": "markdown",
   "id": "f614aaa8-6325-4700-a263-fc256fe142fa",
   "metadata": {},
   "source": [
    "Communicate with the OS to create, modify, move, copy, and delete files and directories (folders)\n",
    "- get up-to-speed with some Python modules\n",
    "- write code that will seamlessly run on both macOS and Windows."
   ]
  },
  {
   "attachments": {},
   "cell_type": "markdown",
   "id": "a225e7c5",
   "metadata": {},
   "source": [
    "# 1 Important concepts"
   ]
  },
  {
   "cell_type": "markdown",
   "id": "bc051f63-5009-438c-a606-154738185949",
   "metadata": {},
   "source": [
    "- Navigate the OS efficiently.\n",
    "- use folder and directory interchangeably"
   ]
  },
  {
   "attachments": {},
   "cell_type": "markdown",
   "id": "360e0ff9",
   "metadata": {},
   "source": [
    "## 1.1 Path"
   ]
  },
  {
   "cell_type": "markdown",
   "id": "21277674-86da-4196-b1ba-7f10c43e46ae",
   "metadata": {},
   "source": [
    "**Path** is a way to specify a location on a computer to take you to your file or folder\n",
    "- can specify path absolutely (eg. move to the farm)\n",
    "- can specify path relatively (eg. move to two steps to the right)\n",
    "\n",
    "Example: C:\\Users\\awyet\\OneDrive\\Documents\\NUS\\Y1S2\\SP2273\\learning-portfolio-Yeting2004"
   ]
  },
  {
   "attachments": {},
   "cell_type": "markdown",
   "id": "82540abd",
   "metadata": {},
   "source": [
    "## 1.2 More about relative paths"
   ]
  },
  {
   "cell_type": "markdown",
   "id": "6513798f-5a23-4368-ba07-640c82315c5a",
   "metadata": {},
   "source": [
    "| Notation |       Meaning      |\n",
    "|:--------:|:------------------:|\n",
    "|     .    |    ‘this folder’   |\n",
    "|    ..    | ‘one folder above’ |"
   ]
  },
  {
   "cell_type": "markdown",
   "id": "be9d5888-dddc-408b-b817-a358f3bf685a",
   "metadata": {},
   "source": [
    "- root\n",
    "  - parent-directory\n",
    "    - data-files\n",
    "      - data-01.txt\n",
    "    - other-directory\n",
    "  - another-directory"
   ]
  },
  {
   "cell_type": "markdown",
   "id": "ff179634-feda-449b-a3f7-2e3403620370",
   "metadata": {},
   "source": [
    ".\\data-files\\data-01.txt: look for the file named data-01.txt inside the data-files directory, which is in the current directory\n",
    "\n",
    "..\\data-files\\data-01.txt: go up one level from the current directory (to \"parent-directory\") and then look for the file named data-01.txt "
   ]
  },
  {
   "attachments": {},
   "cell_type": "markdown",
   "id": "60ad3ab6",
   "metadata": {},
   "source": [
    "### macOS or Linux"
   ]
  },
  {
   "cell_type": "markdown",
   "id": "77951bd1-1642-4909-9aa5-67f5b825e4a1",
   "metadata": {},
   "source": [
    "macOS and Linux allow ~ to refer to your home directory\n",
    "- access Desktop: ~/Desktop\n",
    "- find file in desktop: ~/Desktop/data-01.txt"
   ]
  },
  {
   "attachments": {},
   "cell_type": "markdown",
   "id": "2f776a05",
   "metadata": {},
   "source": [
    "## 1.3 Path separator"
   ]
  },
  {
   "cell_type": "markdown",
   "id": "c5577192-acaa-49f7-a3be-c5822915798c",
   "metadata": {},
   "source": [
    "Major OSs (Windows, macOS, Linux) offer similar graphical environments. Most striking difference between Windows and macOS (or Linux) is the **path separator**\n",
    "- Windows uses \\ as the path separator while macOS (or Linux) uses /\n",
    "- If want it to work on both systems, you must not hardcode either path separator (use the Python os package)"
   ]
  },
  {
   "cell_type": "markdown",
   "id": "ec6a5d25-34b5-4f42-ad78-85b7cd7cf4c3",
   "metadata": {},
   "source": [
    "Windows: C:\\Users\\awyet\\OneDrive\\Documents\\NUS\\Y1S2\\SP2273\\learning-portfolio-Yeting2004\n",
    "\n",
    "macOS/Linux: /Users/awyet/OneDrive/Documents/NUS/Y1S2/SP2273/learning-portfolio-Yeting2004"
   ]
  },
  {
   "attachments": {},
   "cell_type": "markdown",
   "id": "127d6218",
   "metadata": {},
   "source": [
    "## 1.4 Text files vs. Binary files"
   ]
  },
  {
   "cell_type": "markdown",
   "id": "5d04790f-6eaf-4d5e-b0c8-618aa6bc98fb",
   "metadata": {},
   "source": [
    "All files on your computer are either text files or binary files\n",
    "- Text\n",
    "    - files are simple and can be open\n",
    "    - contents examined by almost any software\n",
    "    - can get bulky\n",
    "    - .txt, .md or .csv.\n",
    "\n",
    "- Binary files\n",
    "    - require some processing to make sense of what they contain\n",
    "    - only run on specific OSs (Excel.app on a Mac will not run on Windows, nor will the Excel.exe file run on macOS/Linux\n",
    "    - better speed and smaller size"
   ]
  },
  {
   "attachments": {},
   "cell_type": "markdown",
   "id": "8f0f4bf0",
   "metadata": {},
   "source": [
    "## 1.5 Extensions"
   ]
  },
  {
   "cell_type": "markdown",
   "id": "36a3b99e-faeb-4175-9dc2-47ba0b12074d",
   "metadata": {},
   "source": [
    "Files are usually named to end with an extension separated from the name by a . (name.extension)\n",
    "- lets the OS know what software or app to use to extract the details in a file"
   ]
  },
  {
   "attachments": {},
   "cell_type": "markdown",
   "id": "220a4bbf",
   "metadata": {},
   "source": [
    "# 2 Opening and closing files"
   ]
  },
  {
   "cell_type": "markdown",
   "id": "dab2f40e-7fd7-4dd0-a4e1-ce94c40d3fb0",
   "metadata": {},
   "source": [
    "Open a file for reading and writing using the with statement (context manager)"
   ]
  },
  {
   "attachments": {},
   "cell_type": "markdown",
   "id": "9402b69e",
   "metadata": {},
   "source": [
    "## 2.1 Reading data (file.read())"
   ]
  },
  {
   "cell_type": "code",
   "execution_count": 9,
   "id": "4ea4487e-b3c4-4a1e-895d-4349a3520144",
   "metadata": {},
   "outputs": [
    {
     "name": "stdout",
     "output_type": "stream",
     "text": [
      "Light Intensity, Ch A vs Actual Angular Position, Run #4\n",
      "Actual Angular Position (  )\tLight Intensity, Ch A ( % max )\n",
      "0.000\t-0.2\n",
      "0.000\t-0.1\n",
      "0.000\t-0.1\n",
      "0.000\t-0.1\n",
      "0.000\t-0.1\n",
      "0.000\t-0.2\n",
      "0.000\t-0.1\n",
      "0.000\t-0.1\n",
      "0.000\t-0.1\n",
      "0.000\t-0.2\n",
      "0.000\t-0.1\n",
      "0.000\t-0.1\n",
      "0.000\t-0.2\n",
      "0.000\t-0.3\n",
      "0.000\t-0.2\n",
      "0.000\t-0.2\n",
      "0.001\t-0.1\n",
      "0.001\t-0.1\n",
      "0.001\t-0.1\n",
      "0.001\t-0.1\n",
      "0.001\t-0.1\n",
      "0.001\t-0.1\n",
      "0.004\t-0.1\n",
      "0.010\t-0.2\n",
      "0.018\t-0.2\n",
      "0.024\t-0.3\n",
      "0.029\t-0.3\n",
      "0.033\t-0.3\n",
      "0.036\t-0.2\n",
      "0.039\t-0.1\n",
      "0.043\t-0.1\n",
      "0.047\t-0.1\n",
      "0.053\t-0.1\n",
      "0.060\t-0.1\n",
      "0.066\t-0.1\n",
      "0.069\t-0.1\n",
      "0.073\t-0.1\n",
      "0.076\t-0.1\n",
      "0.079\t-0.1\n",
      "0.081\t-0.1\n",
      "0.082\t-0.1\n",
      "0.083\t-0.2\n",
      "0.083\t-0.2\n",
      "0.086\t-0.2\n",
      "0.090\t-0.2\n",
      "0.095\t-0.2\n",
      "0.100\t-0.3\n",
      "0.103\t-0.3\n",
      "0.104\t-0.2\n",
      "0.105\t-0.3\n",
      "0.107\t-0.2\n",
      "0.110\t-0.2\n",
      "0.115\t-0.1\n",
      "0.122\t-0.2\n",
      "0.128\t-0.1\n",
      "0.134\t-0.2\n",
      "0.139\t-0.1\n",
      "0.144\t-0.2\n",
      "0.150\t-0.2\n",
      "0.157\t-0.2\n",
      "0.164\t-0.2\n",
      "0.170\t-0.3\n",
      "0.175\t-0.3\n",
      "0.180\t-0.2\n",
      "0.185\t-0.2\n",
      "0.191\t-0.1\n",
      "0.195\t-0.1\n",
      "0.198\t-0.2\n",
      "0.201\t-0.1\n",
      "0.204\t-0.2\n",
      "0.206\t-0.2\n",
      "0.208\t-0.3\n",
      "0.210\t-0.3\n",
      "0.213\t-0.1\n",
      "0.217\t0.3\n",
      "0.222\t0.6\n",
      "0.226\t0.2\n",
      "0.230\t0.0\n",
      "0.233\t-0.1\n",
      "0.235\t-0.1\n",
      "0.237\t-0.1\n",
      "0.237\t-0.1\n",
      "0.238\t-0.1\n",
      "0.241\t-0.1\n",
      "0.245\t-0.1\n",
      "0.249\t-0.1\n",
      "0.252\t-0.1\n",
      "0.254\t-0.2\n",
      "0.257\t-0.2\n",
      "0.260\t-0.2\n",
      "0.263\t-0.3\n",
      "0.266\t-0.3\n",
      "0.269\t-0.2\n",
      "0.271\t-0.1\n",
      "0.274\t-0.1\n",
      "0.277\t-0.2\n",
      "0.279\t-0.1\n",
      "0.282\t-0.2\n",
      "0.285\t-0.1\n",
      "0.289\t-0.2\n",
      "0.292\t-0.2\n",
      "0.297\t-0.3\n",
      "0.300\t-0.2\n",
      "0.304\t-0.1\n",
      "0.307\t-0.1\n",
      "0.310\t-0.2\n",
      "0.312\t-0.1\n",
      "0.316\t-0.1\n",
      "0.320\t-0.2\n",
      "0.325\t-0.3\n",
      "0.330\t-0.2\n",
      "0.334\t-0.1\n",
      "0.336\t-0.1\n",
      "0.338\t-0.1\n",
      "0.340\t-0.1\n",
      "0.343\t-0.1\n",
      "0.346\t-0.2\n",
      "0.349\t-0.3\n",
      "0.353\t-0.1\n",
      "0.357\t-0.1\n",
      "0.362\t-0.1\n",
      "0.367\t-0.2\n",
      "0.369\t-0.1\n",
      "0.371\t-0.2\n",
      "0.371\t-0.1\n",
      "0.372\t-0.2\n",
      "0.372\t-0.2\n",
      "0.372\t-0.1\n",
      "0.373\t-0.2\n",
      "0.374\t-0.1\n",
      "0.376\t-0.2\n",
      "0.378\t-0.1\n",
      "0.380\t-0.2\n",
      "0.382\t-0.2\n",
      "0.384\t-0.2\n",
      "0.385\t-0.2\n",
      "0.386\t-0.2\n",
      "0.387\t-0.2\n",
      "0.389\t-0.3\n",
      "0.391\t-0.3\n",
      "0.394\t-0.2\n",
      "0.398\t-0.1\n",
      "0.401\t-0.1\n",
      "0.404\t-0.1\n",
      "0.405\t-0.1\n",
      "0.406\t-0.1\n",
      "0.408\t-0.1\n",
      "0.411\t-0.1\n",
      "0.414\t-0.2\n",
      "0.417\t-0.1\n",
      "0.420\t-0.2\n",
      "0.423\t-0.1\n",
      "0.425\t-0.2\n",
      "0.427\t-0.1\n",
      "0.430\t-0.1\n",
      "0.433\t-0.1\n",
      "0.437\t-0.2\n",
      "0.440\t-0.2\n",
      "0.443\t-0.1\n",
      "0.446\t-0.1\n",
      "0.449\t-0.1\n",
      "0.453\t-0.1\n",
      "0.458\t-0.1\n",
      "0.462\t-0.2\n",
      "0.466\t-0.2\n",
      "0.469\t-0.2\n",
      "0.472\t-0.3\n",
      "0.474\t-0.3\n",
      "0.477\t-0.2\n",
      "0.481\t-0.1\n",
      "0.486\t-0.1\n",
      "0.490\t-0.1\n",
      "0.493\t-0.1\n",
      "0.496\t0.0\n",
      "0.498\t0.0\n",
      "0.501\t-0.1\n",
      "0.503\t-0.1\n",
      "0.505\t-0.2\n",
      "0.507\t-0.3\n",
      "0.510\t-0.1\n",
      "0.513\t-0.1\n",
      "0.516\t-0.1\n",
      "0.519\t-0.1\n",
      "0.523\t-0.1\n",
      "0.526\t-0.1\n",
      "0.529\t-0.1\n",
      "0.533\t-0.1\n",
      "0.537\t-0.1\n",
      "0.541\t-0.2\n",
      "0.544\t-0.1\n",
      "0.547\t-0.1\n",
      "0.549\t-0.1\n",
      "0.551\t-0.1\n",
      "0.554\t-0.1\n",
      "0.557\t-0.1\n",
      "0.561\t-0.1\n",
      "0.564\t-0.1\n",
      "0.568\t-0.2\n",
      "0.572\t-0.2\n",
      "0.577\t-0.2\n",
      "0.581\t-0.1\n",
      "0.586\t0.0\n",
      "0.588\t0.0\n",
      "0.590\t-0.1\n",
      "0.592\t-0.1\n",
      "0.593\t-0.2\n",
      "0.596\t-0.2\n",
      "0.599\t-0.2\n",
      "0.602\t-0.2\n",
      "0.605\t-0.2\n",
      "0.606\t-0.2\n",
      "0.607\t-0.2\n",
      "0.609\t-0.1\n",
      "0.610\t-0.1\n",
      "0.613\t0.0\n",
      "0.615\t0.0\n",
      "0.617\t-0.1\n",
      "0.619\t-0.1\n",
      "0.622\t-0.2\n",
      "0.624\t-0.1\n",
      "0.626\t0.0\n",
      "0.629\t0.1\n",
      "0.632\t0.1\n",
      "0.634\t0.0\n",
      "0.637\t0.0\n",
      "0.639\t0.0\n",
      "0.641\t0.0\n",
      "0.643\t0.0\n",
      "0.645\t0.0\n",
      "0.648\t0.0\n",
      "0.650\t0.0\n",
      "0.653\t0.0\n",
      "0.656\t0.0\n",
      "0.658\t-0.1\n",
      "0.661\t-0.2\n",
      "0.663\t0.0\n",
      "0.666\t0.0\n",
      "0.670\t0.0\n",
      "0.676\t0.0\n",
      "0.680\t0.0\n",
      "0.684\t0.0\n",
      "0.686\t0.1\n",
      "0.686\t0.1\n",
      "0.687\t0.0\n",
      "0.689\t0.0\n",
      "0.693\t0.1\n",
      "0.697\t0.3\n",
      "0.701\t0.5\n",
      "0.703\t1.2\n",
      "0.705\t7.1\n",
      "0.707\t23.7\n",
      "0.709\t51.4\n",
      "0.710\t61.3\n",
      "0.712\t48.9\n",
      "0.714\t25.8\n",
      "0.715\t12.1\n",
      "0.717\t4.6\n",
      "0.718\t1.8\n",
      "0.721\t0.7\n",
      "0.723\t0.5\n",
      "0.724\t0.4\n",
      "0.726\t0.4\n",
      "0.727\t0.4\n",
      "0.728\t0.3\n",
      "0.730\t0.2\n",
      "0.732\t0.2\n",
      "0.735\t0.1\n",
      "0.737\t0.2\n",
      "0.740\t0.2\n",
      "0.742\t0.2\n",
      "0.744\t0.1\n",
      "0.746\t0.1\n",
      "0.748\t0.1\n",
      "0.749\t0.1\n",
      "0.750\t0.0\n",
      "0.752\t0.0\n",
      "0.754\t0.1\n",
      "0.756\t0.1\n",
      "0.758\t0.1\n",
      "0.761\t0.1\n",
      "0.764\t0.0\n",
      "0.766\t-0.1\n",
      "0.768\t-0.1\n",
      "0.770\t-0.1\n",
      "0.772\t0.0\n",
      "0.774\t0.0\n",
      "0.777\t0.0\n",
      "0.779\t0.0\n",
      "0.780\t0.0\n",
      "0.782\t0.0\n",
      "0.784\t-0.1\n",
      "0.785\t0.0\n",
      "0.787\t0.0\n",
      "0.789\t0.0\n",
      "0.791\t0.0\n",
      "0.793\t0.0\n",
      "0.795\t0.0\n",
      "0.797\t-0.1\n",
      "0.800\t0.0\n",
      "0.804\t0.0\n",
      "0.806\t0.0\n",
      "0.809\t0.0\n",
      "0.811\t0.1\n",
      "0.813\t0.9\n",
      "0.815\t3.0\n",
      "0.817\t5.9\n",
      "0.819\t6.6\n",
      "0.821\t4.0\n",
      "0.823\t1.3\n",
      "0.826\t0.2\n",
      "0.828\t0.1\n",
      "0.831\t0.1\n",
      "0.833\t0.1\n",
      "0.836\t0.1\n",
      "0.838\t0.1\n",
      "0.840\t0.1\n",
      "0.843\t0.1\n",
      "0.847\t0.2\n",
      "0.850\t1.0\n",
      "0.854\t0.8\n",
      "0.856\t0.3\n",
      "0.858\t0.1\n",
      "0.860\t0.0\n",
      "0.862\t0.1\n",
      "0.864\t0.1\n",
      "0.866\t0.2\n",
      "0.869\t0.2\n",
      "0.872\t0.1\n",
      "0.875\t0.1\n",
      "0.878\t0.1\n",
      "0.881\t0.1\n",
      "0.884\t0.1\n",
      "0.887\t0.1\n",
      "0.890\t0.0\n",
      "0.893\t0.1\n",
      "0.896\t0.0\n",
      "0.898\t0.1\n",
      "0.901\t0.0\n",
      "0.903\t0.0\n",
      "0.907\t0.0\n",
      "0.910\t0.0\n",
      "0.913\t0.0\n",
      "0.916\t0.0\n",
      "0.919\t0.0\n",
      "0.922\t0.0\n",
      "0.925\t0.0\n",
      "0.929\t0.0\n",
      "0.932\t0.0\n",
      "0.935\t0.0\n",
      "0.938\t0.0\n",
      "0.940\t0.0\n",
      "0.941\t0.0\n",
      "0.942\t0.0\n",
      "0.944\t0.0\n",
      "0.947\t0.0\n",
      "0.950\t0.0\n",
      "0.951\t0.0\n",
      "0.952\t0.0\n",
      "0.953\t0.0\n",
      "0.955\t0.0\n",
      "0.957\t0.0\n",
      "0.959\t0.0\n",
      "0.961\t0.0\n",
      "0.963\t0.0\n",
      "0.965\t0.0\n",
      "0.968\t0.0\n",
      "0.971\t0.0\n",
      "0.973\t0.1\n",
      "0.976\t0.1\n",
      "0.978\t0.0\n",
      "0.980\t0.1\n",
      "0.982\t0.1\n",
      "0.983\t0.0\n",
      "0.984\t0.0\n",
      "0.986\t0.1\n",
      "0.987\t0.0\n",
      "0.989\t0.1\n",
      "0.991\t0.1\n",
      "0.993\t0.1\n",
      "0.995\t0.1\n",
      "0.998\t0.1\n",
      "1.001\t0.1\n",
      "1.004\t0.2\n",
      "1.007\t0.2\n",
      "1.010\t0.1\n",
      "1.013\t0.1\n",
      "1.015\t0.1\n",
      "1.018\t0.1\n",
      "1.021\t0.1\n",
      "1.023\t0.1\n",
      "1.026\t0.1\n",
      "1.028\t0.2\n",
      "1.030\t0.3\n",
      "1.032\t0.3\n",
      "1.034\t0.3\n",
      "1.036\t0.4\n",
      "1.038\t0.4\n",
      "1.040\t0.4\n",
      "1.042\t0.5\n",
      "1.044\t0.5\n",
      "1.047\t0.5\n",
      "1.050\t0.6\n",
      "1.053\t0.7\n",
      "1.055\t0.7\n",
      "1.057\t0.8\n",
      "1.058\t0.9\n",
      "1.060\t1.0\n",
      "1.062\t1.2\n",
      "1.065\t1.3\n",
      "1.068\t1.4\n",
      "1.070\t1.3\n",
      "1.072\t1.3\n",
      "1.074\t1.3\n",
      "1.077\t1.4\n",
      "1.079\t1.6\n",
      "1.081\t1.8\n",
      "1.084\t2.1\n",
      "1.086\t2.4\n",
      "1.088\t2.7\n",
      "1.089\t3.2\n",
      "1.091\t3.8\n",
      "1.093\t4.5\n",
      "1.096\t5.4\n",
      "1.098\t6.7\n",
      "1.101\t8.8\n",
      "1.104\t13.1\n",
      "1.107\t97.1\n",
      "1.112\t97.0\n",
      "1.117\t97.0\n",
      "1.122\t45.6\n",
      "1.125\t11.9\n",
      "1.129\t9.1\n",
      "1.131\t7.6\n",
      "1.133\t7.0\n",
      "1.134\t6.3\n",
      "1.136\t5.9\n",
      "1.138\t5.3\n",
      "1.140\t4.8\n",
      "1.142\t4.2\n",
      "1.144\t3.5\n",
      "1.147\t3.0\n",
      "1.149\t2.6\n",
      "1.152\t2.2\n",
      "1.156\t2.1\n",
      "1.159\t1.8\n",
      "1.162\t1.7\n",
      "1.165\t1.5\n",
      "1.167\t1.4\n",
      "1.170\t1.2\n",
      "1.172\t1.2\n",
      "1.174\t0.9\n",
      "1.177\t0.8\n",
      "1.179\t0.6\n",
      "1.182\t0.4\n",
      "1.184\t0.3\n",
      "1.187\t0.3\n",
      "1.190\t0.2\n",
      "1.192\t0.2\n",
      "1.193\t0.2\n",
      "1.194\t0.2\n",
      "1.194\t0.2\n",
      "1.196\t0.2\n",
      "1.198\t0.2\n",
      "1.201\t0.1\n",
      "1.204\t0.1\n",
      "1.207\t0.1\n",
      "1.211\t0.1\n",
      "1.215\t0.1\n",
      "1.218\t0.0\n",
      "1.222\t0.1\n",
      "1.226\t0.0\n",
      "1.229\t0.0\n",
      "1.231\t-0.1\n",
      "1.234\t0.0\n",
      "1.237\t-0.1\n",
      "1.240\t0.0\n",
      "1.244\t0.0\n",
      "1.247\t0.0\n",
      "1.250\t0.0\n",
      "1.253\t0.0\n",
      "1.255\t0.0\n",
      "1.257\t0.0\n",
      "1.260\t0.0\n",
      "1.263\t0.0\n",
      "1.265\t0.0\n",
      "1.266\t0.0\n",
      "1.268\t0.0\n",
      "1.269\t0.0\n",
      "1.270\t0.0\n",
      "1.271\t0.0\n",
      "1.273\t0.0\n",
      "1.275\t0.0\n",
      "1.277\t0.0\n",
      "1.278\t0.0\n",
      "1.280\t0.0\n",
      "1.281\t0.0\n",
      "1.283\t0.0\n",
      "1.285\t0.0\n",
      "1.286\t0.0\n",
      "1.287\t0.0\n",
      "1.287\t0.0\n",
      "1.288\t-0.1\n",
      "1.289\t-0.1\n",
      "1.290\t-0.1\n",
      "1.291\t-0.2\n",
      "1.292\t-0.2\n",
      "1.292\t-0.2\n",
      "1.293\t-0.1\n",
      "1.294\t0.0\n",
      "1.295\t0.0\n",
      "1.296\t-0.1\n",
      "1.297\t-0.1\n",
      "1.298\t-0.1\n",
      "1.299\t0.0\n",
      "1.300\t0.0\n",
      "1.301\t0.0\n",
      "1.302\t-0.1\n",
      "1.303\t-0.1\n",
      "1.304\t0.0\n",
      "1.306\t-0.1\n",
      "1.306\t-0.1\n",
      "1.308\t-0.1\n",
      "1.309\t-0.1\n",
      "1.311\t-0.2\n",
      "1.312\t-0.2\n",
      "1.313\t-0.2\n",
      "1.314\t-0.1\n",
      "1.316\t0.0\n",
      "1.317\t0.0\n",
      "1.318\t-0.1\n",
      "1.319\t-0.1\n",
      "1.319\t0.0\n",
      "1.320\t0.0\n",
      "1.322\t-0.1\n",
      "1.323\t-0.1\n",
      "1.325\t-0.1\n",
      "1.327\t-0.1\n",
      "1.329\t0.0\n",
      "1.332\t-0.1\n",
      "1.334\t-0.1\n",
      "1.335\t-0.1\n",
      "1.336\t-0.1\n",
      "1.338\t-0.1\n",
      "1.340\t0.0\n",
      "1.341\t-0.1\n",
      "1.343\t0.0\n",
      "1.344\t-0.1\n",
      "1.345\t-0.2\n",
      "1.347\t0.0\n",
      "1.348\t0.0\n",
      "1.349\t0.0\n",
      "1.351\t0.0\n",
      "1.352\t0.0\n",
      "1.353\t0.0\n",
      "1.354\t0.0\n",
      "1.356\t0.0\n",
      "1.358\t0.0\n",
      "1.359\t0.0\n",
      "1.361\t0.0\n",
      "1.363\t0.0\n",
      "1.366\t0.1\n",
      "1.368\t0.1\n",
      "1.369\t0.0\n",
      "1.370\t0.0\n",
      "1.371\t0.0\n",
      "1.372\t0.0\n",
      "1.373\t0.0\n",
      "1.374\t0.0\n",
      "1.376\t0.0\n",
      "1.378\t0.1\n",
      "1.380\t0.3\n",
      "1.380\t0.5\n",
      "1.380\t0.5\n",
      "1.382\t0.4\n",
      "1.384\t0.3\n",
      "1.386\t0.1\n",
      "1.386\t0.0\n",
      "1.386\t0.0\n",
      "1.388\t0.0\n",
      "1.389\t-0.1\n",
      "1.389\t0.0\n",
      "1.389\t-0.1\n",
      "1.389\t-0.1\n",
      "1.389\t-0.2\n",
      "1.390\t0.0\n",
      "1.391\t0.0\n",
      "1.393\t0.0\n",
      "1.396\t0.0\n",
      "1.398\t0.0\n",
      "1.400\t0.0\n",
      "1.401\t0.0\n",
      "1.402\t0.0\n",
      "1.404\t0.0\n",
      "1.405\t0.0\n",
      "1.406\t0.1\n",
      "1.408\t0.7\n",
      "1.409\t2.0\n",
      "1.411\t3.2\n",
      "1.413\t3.8\n",
      "1.415\t2.4\n",
      "1.418\t0.7\n",
      "1.420\t0.1\n",
      "1.423\t0.0\n",
      "1.425\t0.0\n",
      "1.428\t0.0\n",
      "1.430\t0.0\n",
      "1.432\t0.0\n",
      "1.433\t0.0\n",
      "1.435\t0.0\n",
      "1.436\t-0.1\n",
      "1.437\t-0.1\n",
      "1.439\t-0.2\n",
      "1.441\t0.0\n",
      "1.443\t0.0\n",
      "1.445\t0.0\n",
      "1.448\t0.0\n",
      "1.449\t0.0\n",
      "1.451\t0.0\n",
      "1.453\t0.0\n",
      "1.454\t0.0\n",
      "1.456\t0.0\n",
      "1.457\t0.0\n",
      "1.459\t0.0\n",
      "1.461\t0.0\n",
      "1.463\t0.0\n",
      "1.465\t-0.1\n",
      "1.467\t-0.1\n",
      "1.468\t-0.1\n",
      "1.470\t0.0\n",
      "1.472\t0.0\n",
      "1.473\t0.0\n",
      "1.476\t0.0\n",
      "1.478\t0.0\n",
      "1.480\t0.0\n",
      "1.483\t0.0\n",
      "1.486\t0.0\n",
      "1.489\t0.0\n",
      "1.492\t0.0\n",
      "1.495\t0.0\n",
      "1.499\t0.0\n",
      "1.502\t0.1\n",
      "1.507\t0.1\n",
      "1.510\t0.2\n",
      "1.513\t0.3\n",
      "1.515\t0.5\n",
      "1.518\t5.8\n",
      "1.521\t28.1\n",
      "1.525\t36.1\n",
      "1.528\t10.0\n",
      "1.531\t1.3\n",
      "1.533\t0.4\n",
      "1.535\t0.3\n",
      "1.537\t0.2\n",
      "1.540\t0.2\n",
      "1.543\t0.1\n",
      "1.546\t0.1\n",
      "1.550\t0.0\n",
      "1.553\t0.0\n",
      "1.556\t-0.1\n",
      "1.559\t-0.1\n",
      "1.562\t0.0\n",
      "1.565\t0.0\n",
      "1.569\t0.0\n",
      "1.572\t0.0\n",
      "1.575\t0.0\n",
      "1.577\t0.0\n",
      "1.581\t-0.2\n",
      "1.585\t-0.2\n",
      "1.589\t-0.1\n",
      "1.593\t0.0\n",
      "1.596\t-0.1\n",
      "1.597\t-0.1\n",
      "1.598\t-0.1\n",
      "1.599\t-0.1\n",
      "1.601\t-0.1\n",
      "1.602\t0.0\n",
      "1.603\t0.0\n",
      "1.606\t0.0\n",
      "1.611\t-0.2\n",
      "1.616\t-0.3\n",
      "1.623\t-0.2\n",
      "1.628\t-0.1\n",
      "1.633\t-0.1\n",
      "1.639\t-0.1\n",
      "1.644\t-0.1\n",
      "1.649\t-0.1\n",
      "1.654\t0.0\n",
      "1.658\t-0.1\n",
      "1.663\t-0.1\n",
      "1.667\t-0.1\n",
      "1.671\t-0.1\n",
      "1.675\t-0.1\n",
      "1.679\t-0.3\n",
      "1.684\t-0.2\n",
      "1.688\t-0.1\n",
      "1.693\t-0.1\n",
      "1.696\t-0.1\n",
      "1.700\t-0.1\n",
      "1.704\t-0.1\n",
      "1.707\t-0.1\n",
      "1.710\t-0.1\n",
      "1.712\t-0.1\n",
      "1.714\t-0.1\n",
      "1.717\t-0.1\n",
      "1.721\t-0.1\n",
      "1.726\t-0.1\n",
      "1.731\t-0.1\n",
      "1.734\t-0.1\n",
      "1.737\t-0.1\n",
      "1.739\t-0.1\n",
      "1.742\t-0.1\n",
      "1.745\t0.0\n",
      "1.749\t0.2\n",
      "1.752\t0.1\n",
      "1.756\t-0.1\n",
      "1.759\t-0.1\n",
      "1.762\t-0.1\n",
      "1.767\t-0.1\n",
      "1.772\t-0.3\n",
      "1.777\t-0.3\n",
      "1.783\t-0.2\n",
      "1.787\t-0.1\n",
      "1.792\t-0.2\n",
      "1.796\t-0.3\n",
      "1.800\t-0.2\n",
      "1.803\t-0.2\n",
      "1.808\t-0.2\n",
      "1.812\t-0.2\n",
      "1.818\t-0.1\n",
      "1.823\t-0.1\n",
      "1.828\t-0.1\n",
      "1.835\t-0.1\n",
      "1.844\t-0.1\n",
      "1.852\t-0.2\n",
      "1.859\t-0.1\n",
      "1.865\t-0.2\n",
      "1.870\t-0.1\n",
      "1.873\t-0.2\n",
      "1.874\t-0.2\n",
      "1.875\t-0.2\n",
      "1.877\t-0.2\n",
      "1.880\t-0.2\n",
      "1.883\t-0.2\n",
      "1.887\t-0.2\n",
      "1.892\t-0.3\n",
      "1.895\t-0.3\n",
      "1.898\t-0.2\n",
      "1.903\t-0.2\n",
      "1.907\t-0.2\n",
      "1.912\t-0.1\n",
      "1.918\t-0.1\n",
      "1.923\t-0.2\n",
      "1.929\t-0.2\n",
      "1.934\t-0.1\n",
      "1.940\t-0.1\n",
      "1.944\t-0.2\n",
      "1.948\t-0.2\n",
      "1.952\t-0.2\n",
      "1.955\t-0.2\n",
      "1.960\t-0.2\n",
      "1.966\t-0.2\n",
      "1.971\t-0.2\n",
      "1.975\t-0.1\n",
      "1.979\t-0.2\n",
      "1.985\t-0.3\n",
      "1.990\t-0.2\n",
      "1.997\t-0.1\n",
      "2.002\t-0.1\n",
      "2.007\t-0.2\n",
      "2.012\t-0.1\n",
      "2.017\t-0.2\n",
      "2.022\t-0.1\n",
      "2.027\t-0.2\n",
      "2.034\t-0.1\n",
      "2.041\t-0.1\n",
      "2.048\t1.1\n",
      "2.053\t1.6\n",
      "2.057\t0.7\n",
      "2.060\t0.1\n",
      "2.064\t0.0\n",
      "2.068\t-0.1\n",
      "2.073\t-0.1\n",
      "2.079\t-0.1\n",
      "2.086\t-0.1\n",
      "2.094\t-0.1\n",
      "2.100\t-0.2\n",
      "2.105\t-0.1\n",
      "2.109\t-0.1\n",
      "2.111\t-0.1\n",
      "2.115\t-0.2\n",
      "2.120\t-0.2\n",
      "2.124\t-0.1\n",
      "2.128\t-0.2\n",
      "2.131\t-0.1\n",
      "2.134\t-0.2\n",
      "2.135\t-0.1\n",
      "2.138\t-0.1\n",
      "2.140\t-0.1\n",
      "2.144\t-0.1\n",
      "2.148\t-0.1\n",
      "2.153\t-0.2\n",
      "2.158\t-0.2\n",
      "2.162\t-0.2\n",
      "2.166\t-0.2\n",
      "2.170\t-0.2\n",
      "2.175\t-0.2\n",
      "2.179\t-0.2\n",
      "2.183\t-0.1\n",
      "2.187\t-0.2\n",
      "2.191\t-0.2\n",
      "2.194\t-0.2\n",
      "2.197\t-0.2\n",
      "2.200\t-0.2\n",
      "2.203\t-0.2\n",
      "2.207\t-0.2\n",
      "2.211\t-0.1\n",
      "2.215\t-0.2\n",
      "2.219\t-0.2\n",
      "2.222\t-0.1\n",
      "2.224\t-0.2\n",
      "2.225\t-0.2\n",
      "2.225\t-0.2\n",
      "2.225\t-0.2\n",
      "2.225\t-0.3\n",
      "2.225\t-0.2\n",
      "2.225\t-0.3\n",
      "2.225\t-0.3\n",
      "2.225\t-0.3\n",
      "2.225\t-0.2\n",
      "2.225\t-0.1\n",
      "2.225\t-0.1\n",
      "2.225\t-0.1\n",
      "2.225\t-0.1\n",
      "2.225\t-0.1\n",
      "2.225\t-0.1\n",
      "2.225\t-0.2\n",
      "2.225\t-0.1\n",
      "2.225\t-0.1\n",
      "2.225\t-0.2\n",
      "2.225\t-0.1\n",
      "2.225\t-0.1\n",
      "2.225\t-0.1\n",
      "2.225\t-0.2\n",
      "2.225\t-0.2\n",
      "2.225\t-0.2\n",
      "2.225\t-0.1\n",
      "2.225\t-0.1\n",
      "2.225\t-0.2\n",
      "2.224\t-0.2\n",
      "2.224\t-0.2\n",
      "2.224\t-0.2\n",
      "2.224\t-0.2\n",
      "2.224\t-0.2\n",
      "2.224\t-0.2\n",
      "2.224\t-0.2\n",
      "2.224\t-0.3\n",
      "2.224\t-0.3\n",
      "2.224\t-0.2\n",
      "2.224\t-0.3\n",
      "2.224\t-0.3\n",
      "2.224\t-0.2\n",
      "2.224\t-0.3\n",
      "2.224\t-0.3\n",
      "2.224\t-0.3\n",
      "2.224\t-0.1\n",
      "2.224\t-0.2\n",
      "2.224\t-0.2\n",
      "2.224\t-0.2\n",
      "2.224\t-0.1\n",
      "2.224\t-0.1\n",
      "2.224\t-0.2\n",
      "2.224\t-0.2\n",
      "2.224\t-0.2\n",
      "2.224\t-0.2\n",
      "2.224\t-0.1\n",
      "2.224\t-0.1\n",
      "2.224\t-0.2\n",
      "2.224\t-0.2\n",
      "2.224\t-0.2\n",
      "2.224\t-0.2\n",
      "2.224\t-0.3\n",
      "2.224\t-0.2\n",
      "2.224\t-0.1\n",
      "2.224\t-0.1\n",
      "2.224\t-0.2\n",
      "2.224\t-0.2\n",
      "2.224\t-0.2\n",
      "2.224\t-0.2\n",
      "2.224\t-0.1\n",
      "2.224\t-0.2\n",
      "2.224\t-0.2\n",
      "2.224\t-0.2\n",
      "2.224\t-0.1\n",
      "2.224\t-0.2\n",
      "2.224\t-0.1\n",
      "2.224\t-0.2\n",
      "2.224\t-0.2\n",
      "2.224\t-0.2\n",
      "2.224\t-0.2\n",
      "2.224\t-0.2\n",
      "2.224\t-0.2\n",
      "2.224\t-0.2\n",
      "2.224\t-0.2\n",
      "2.224\t-0.2\n",
      "2.224\t-0.2\n",
      "2.224\t-0.2\n",
      "2.224\t-0.2\n",
      "2.224\t-0.2\n",
      "2.224\t-0.2\n",
      "2.224\t-0.2\n",
      "2.224\t-0.2\n",
      "2.224\t-0.3\n",
      "2.224\t-0.3\n",
      "2.224\t-0.3\n",
      "2.224\t-0.3\n",
      "2.224\t-0.3\n",
      "\n"
     ]
    }
   ],
   "source": [
    "with open('spectrum-01.txt', 'r') as file: #open file,  r means only read file, with ensures file properly closed\n",
    "    file_content = file.read() #\n",
    "\n",
    "print(file_content)"
   ]
  },
  {
   "attachments": {},
   "cell_type": "markdown",
   "id": "d56078ce",
   "metadata": {},
   "source": [
    "## 2.2 Writing data (file.write())"
   ]
  },
  {
   "cell_type": "code",
   "execution_count": 29,
   "id": "670ffa6c-baae-4af4-8d38-7b51c608330b",
   "metadata": {},
   "outputs": [],
   "source": [
    "text = \"Once upon a time, there were 3 ponies, Andrew, Benny and Carrie. \\nThey were best friends! They like to eat apples, strawberries and bananas. They lived a long long long life!\""
   ]
  },
  {
   "attachments": {},
   "cell_type": "markdown",
   "id": "3f1c5e1b",
   "metadata": {},
   "source": [
    "### Writing to a file in one go"
   ]
  },
  {
   "cell_type": "code",
   "execution_count": 30,
   "id": "eb025cff",
   "metadata": {},
   "outputs": [
    {
     "name": "stdout",
     "output_type": "stream",
     "text": [
      "Once upon a time, there were 3 ponies, Andrew, Benny and Carrie. \n",
      "They were best friends! They like to eat apples, strawberries and bananas. They lived a long long long life!\n"
     ]
    }
   ],
   "source": [
    "with open(\"Pony_Story.txt\", \"w\") as file: #w for writing\n",
    "    file.write(text)\n",
    "\n",
    "with open(\"Pony_Story.txt\", \"r\") as file:\n",
    "    print(file.read())"
   ]
  },
  {
   "attachments": {},
   "cell_type": "markdown",
   "id": "67c038ed",
   "metadata": {},
   "source": [
    "### Writing to a file, line by line"
   ]
  },
  {
   "cell_type": "markdown",
   "id": "f5a1237f-ced3-4868-afe9-ed65369d3927",
   "metadata": {},
   "source": [
    "useful for data generated on the fly"
   ]
  },
  {
   "cell_type": "code",
   "execution_count": 33,
   "id": "f73754dd-106d-46e7-9002-485794bb2c18",
   "metadata": {},
   "outputs": [
    {
     "name": "stdout",
     "output_type": "stream",
     "text": [
      "Once upon a time, there were 3 ponies, Andrew, Benny and Carrie. They were best friends! They like to eat apples, strawberries and bananas. They lived a long long long life!\n"
     ]
    }
   ],
   "source": [
    "with open(\"Pony_Story.txt\", \"w\") as file:\n",
    "    for line in text.splitlines(): # separates the multiline text into a list of lines\n",
    "        file.writelines(line) #writes each line to the file\n",
    "\n",
    "with open(\"Pony_Story.txt\", \"r\") as file:\n",
    "    print(file.read())"
   ]
  },
  {
   "cell_type": "code",
   "execution_count": 35,
   "id": "0c8d5017-d60f-466d-bc1c-5f60cce56de1",
   "metadata": {},
   "outputs": [
    {
     "name": "stdout",
     "output_type": "stream",
     "text": [
      "Once upon a time, there were 3 ponies, Andrew, Benny and Carrie. \n",
      "They were best friends! They like to eat apples, strawberries and bananas. They lived a long long long life!\n",
      "\n"
     ]
    }
   ],
   "source": [
    "with open(\"Pony_Story.txt\", \"w\") as file:\n",
    "    for line in text.splitlines(): # separates the multiline text into a list of lines\n",
    "        file.writelines(line + \"\\n\") #writes each line to the file while creating new line\n",
    "\n",
    "with open(\"Pony_Story.txt\", \"r\") as file:\n",
    "    print(file.read())"
   ]
  },
  {
   "attachments": {},
   "cell_type": "markdown",
   "id": "f54b6aa3",
   "metadata": {},
   "source": [
    "# 3 Some useful packages"
   ]
  },
  {
   "cell_type": "markdown",
   "id": "fc962d8e-df95-4e55-98a2-a50066f0cf9b",
   "metadata": {},
   "source": [
    "create, copy, and delete files and folders and navigate the OS"
   ]
  },
  {
   "cell_type": "markdown",
   "id": "89a15dbf-2324-4003-abb3-20fa2688fee7",
   "metadata": {},
   "source": [
    "| Package | Primarily used for                                                                |\n",
    "|---------|-----------------------------------------------------------------------------------|\n",
    "| os      | To ‘talk’ to the OS to create, modify, delete folders and write OS-agnostic code. |\n",
    "| glob    | To search for files.                                                              |\n",
    "| shutil  | To copy files.                                                                    |"
   ]
  },
  {
   "cell_type": "code",
   "execution_count": 36,
   "id": "d881690c-94b4-45ad-ace0-b06f436f81fb",
   "metadata": {},
   "outputs": [],
   "source": [
    "import os\n",
    "import glob\n",
    "import shutil"
   ]
  },
  {
   "attachments": {},
   "cell_type": "markdown",
   "id": "95826601",
   "metadata": {},
   "source": [
    "# 4 OS safe paths"
   ]
  },
  {
   "cell_type": "code",
   "execution_count": 38,
   "id": "b761e69f-474f-4258-b036-87c744e0b9d6",
   "metadata": {},
   "outputs": [
    {
     "name": "stdout",
     "output_type": "stream",
     "text": [
      ".\\learning-portfolio-Yeting2004\\files, folders & os\\Pony_Story.txt\n"
     ]
    }
   ],
   "source": [
    "path = os.path.join(\".\", \"learning-portfolio-Yeting2004\", \"files, folders & os\", \"Pony_Story.txt\")\n",
    "print(path) #os.path.join() will adjust your path with either / or \\"
   ]
  },
  {
   "attachments": {},
   "cell_type": "markdown",
   "id": "afef5b63",
   "metadata": {},
   "source": [
    "# 5 Folders"
   ]
  },
  {
   "attachments": {},
   "cell_type": "markdown",
   "id": "d906dbf8",
   "metadata": {},
   "source": [
    "## 5.1 Creating folders"
   ]
  },
  {
   "cell_type": "markdown",
   "id": "47b40b70-6a7d-4748-912f-2908580e1d1f",
   "metadata": {},
   "source": [
    "Create a folder programmatically using os.mkdir()"
   ]
  },
  {
   "cell_type": "code",
   "execution_count": 42,
   "id": "b3eeaa88-e552-4843-bd80-ce9fcac4a6dc",
   "metadata": {},
   "outputs": [
    {
     "name": "stdout",
     "output_type": "stream",
     "text": [
      " folder create pony_folder\\Annie\n",
      " folder create pony_folder\\Benny\n",
      " folder create pony_folder\\Carrie\n"
     ]
    }
   ],
   "source": [
    "os.mkdir(\"pony_folder\") #create folder called pony\n",
    "pony_list = [\"Annie\", \"Benny\", \"Carrie\"]\n",
    "for pony in pony_list:\n",
    "    path = os.path.join(\"pony_folder\", pony) #Adding folder for every element in list\n",
    "    print(f\" folder create {path}\")\n",
    "    os.mkdir(path) #creates directory specified by path"
   ]
  },
  {
   "attachments": {},
   "cell_type": "markdown",
   "id": "6802090a",
   "metadata": {},
   "source": [
    "## 5.2 Checking for existence"
   ]
  },
  {
   "cell_type": "markdown",
   "id": "5411cf74-5cf6-4761-bfae-7c87daf489b8",
   "metadata": {},
   "source": [
    "Python will complain if you try to run this code twice since file(folder) already exists. Check for **existence** via:\n",
    "- try-except with the FileExistsError\n",
    "- use os.path.exists()."
   ]
  },
  {
   "attachments": {},
   "cell_type": "markdown",
   "id": "d04c9a81",
   "metadata": {},
   "source": [
    "### Using try-except"
   ]
  },
  {
   "cell_type": "code",
   "execution_count": 43,
   "id": "0eba1baa-f098-4ef6-8702-96a98cfd57c0",
   "metadata": {},
   "outputs": [
    {
     "name": "stdout",
     "output_type": "stream",
     "text": [
      "Folder already Added: pony_folder\\Annie\n",
      "Folder already Added: pony_folder\\Benny\n",
      "Folder already Added: pony_folder\\Carrie\n"
     ]
    }
   ],
   "source": [
    "pony_list = [\"Annie\", \"Benny\", \"Carrie\"]\n",
    "for pony in pony_list:\n",
    "    try:\n",
    "        path = os.path.join(\"pony_folder\", pony)\n",
    "        os.mkdir(path)\n",
    "        print(f\"Folder Added: {path}\")\n",
    "    except FileExistsError:\n",
    "        print(f\"Folder already Added: {path}\")"
   ]
  },
  {
   "cell_type": "markdown",
   "id": "70eafe50-f330-4923-ad74-7fe113dcc032",
   "metadata": {},
   "source": [
    "### Using os.path.exists()"
   ]
  },
  {
   "cell_type": "code",
   "execution_count": 46,
   "id": "1204f2d3-d277-4210-8ef2-4f7a8cc51d45",
   "metadata": {},
   "outputs": [
    {
     "name": "stdout",
     "output_type": "stream",
     "text": [
      "Folder already added: pony_folder\\Annie\n",
      "Folder already added: pony_folder\\Benny\n",
      "Folder already added: pony_folder\\Carrie\n"
     ]
    }
   ],
   "source": [
    "pony_list = [\"Annie\", \"Benny\", \"Carrie\"]\n",
    "for pony in pony_list:\n",
    "    path = os.path.join(\"pony_folder\", pony)\n",
    "    if os.path.exists(path):\n",
    "        print(f\"Folder already added: {path}\")\n",
    "    else:\n",
    "        os.mkdir(path)\n",
    "        print(f\"Folder added: {path}\")"
   ]
  },
  {
   "attachments": {},
   "cell_type": "markdown",
   "id": "6478248c",
   "metadata": {},
   "source": [
    "## 5.3 Copying files"
   ]
  },
  {
   "cell_type": "code",
   "execution_count": 76,
   "id": "3535469b-3202-488d-bf5f-33b70e47808e",
   "metadata": {},
   "outputs": [
    {
     "name": "stdout",
     "output_type": "stream",
     "text": [
      "successfully copied into pony_folder\\Annie\n",
      "successfully copied into pony_folder\\Benny\n",
      "successfully copied into pony_folder\\Carrie\n"
     ]
    }
   ],
   "source": [
    "pony_list = [\"Annie\", \"Benny\", \"Carrie\"]\n",
    "for pony in pony_list:\n",
    "    copy_path = os.path.join(\"pony_folder\", pony)\n",
    "    shutil.copy(\"pony_pic.jpg\", copy_path) #copy pic into each folder\n",
    "    print(f\"successfully copied into {copy_path}\")"
   ]
  },
  {
   "cell_type": "markdown",
   "id": "de57dbee-59f7-4e0a-947b-52ec9f312f5c",
   "metadata": {},
   "source": [
    "### Moving files"
   ]
  },
  {
   "cell_type": "code",
   "execution_count": 77,
   "id": "8e8da553-da88-4e2e-bc9a-6109a1d6536d",
   "metadata": {},
   "outputs": [
    {
     "name": "stdout",
     "output_type": "stream",
     "text": [
      "Image successfully moved to pony_folder\\Annie\\image_folder\\pony_pic.jpg\n",
      "Image successfully moved to pony_folder\\Benny\\image_folder\\pony_pic.jpg\n",
      "Image successfully moved to pony_folder\\Carrie\\image_folder\\pony_pic.jpg\n"
     ]
    }
   ],
   "source": [
    "pony_list = [\"Annie\", \"Benny\", \"Carrie\"]\n",
    "for pony in pony_list:\n",
    "    file_path = os.path.join(\"pony_folder\", pony, \"image_folder\") #create new folder under each pony\n",
    "    if not os.path.exists(file_path):\n",
    "        os.mkdir(file_path)\n",
    "\n",
    "    current_path = os.path.join(\"pony_folder\", pony, \"pony_pic.jpg\")\n",
    "    now_path = os.path.join(\"pony_folder\", pony, \"image_folder\", \"pony_pic.jpg\")\n",
    "    shutil.move(current_path, now_path)\n",
    "    print(f\"Image successfully moved to {now_path}\")"
   ]
  },
  {
   "attachments": {},
   "cell_type": "markdown",
   "id": "87cf0ee9",
   "metadata": {},
   "source": [
    "# 6 Listing and looking for files"
   ]
  },
  {
   "cell_type": "markdown",
   "id": "45dac413-7474-4372-95fe-992e29a7796f",
   "metadata": {},
   "source": [
    "All files in current folder:"
   ]
  },
  {
   "cell_type": "code",
   "execution_count": 56,
   "id": "4887ead3-3d1e-40d0-bc40-a82a48709553",
   "metadata": {},
   "outputs": [
    {
     "data": {
      "text/plain": [
       "['files,_folders_&_os_(need).ipynb',\n",
       " 'pony',\n",
       " 'pony_folder',\n",
       " 'pony_pic.jpg',\n",
       " 'Pony_Story.txt',\n",
       " 'spectrum-01.txt']"
      ]
     },
     "execution_count": 56,
     "metadata": {},
     "output_type": "execute_result"
    }
   ],
   "source": [
    "glob.glob('*') #* is wildcard to give anything in folder"
   ]
  },
  {
   "cell_type": "markdown",
   "id": "e4d3174a-a16c-49ba-b9b5-37d41129eb0c",
   "metadata": {},
   "source": [
    "Specify search:"
   ]
  },
  {
   "cell_type": "code",
   "execution_count": 59,
   "id": "76f02744-6bd8-4b4a-b250-7bbfd2fd45d2",
   "metadata": {},
   "outputs": [
    {
     "data": {
      "text/plain": [
       "['pony', 'pony_folder', 'pony_pic.jpg', 'Pony_Story.txt']"
      ]
     },
     "execution_count": 59,
     "metadata": {},
     "output_type": "execute_result"
    }
   ],
   "source": [
    "glob.glob(\"po*\") #give anything that has po___"
   ]
  },
  {
   "cell_type": "markdown",
   "id": "33579286-ec6d-423a-8a84-edeef2a6cae4",
   "metadata": {},
   "source": [
    "Search files inside folder:"
   ]
  },
  {
   "cell_type": "code",
   "execution_count": 64,
   "id": "45e93aeb-6a21-4ef1-8803-b050a666ed55",
   "metadata": {},
   "outputs": [
    {
     "data": {
      "text/plain": [
       "['pony\\\\Annie',\n",
       " 'pony\\\\Benny',\n",
       " 'pony\\\\Carrie',\n",
       " 'pony_folder\\\\Annie',\n",
       " 'pony_folder\\\\Benny',\n",
       " 'pony_folder\\\\Carrie']"
      ]
     },
     "execution_count": 64,
     "metadata": {},
     "output_type": "execute_result"
    }
   ],
   "source": [
    "glob.glob(\"po*/*\")"
   ]
  },
  {
   "cell_type": "markdown",
   "id": "c71063dd-ee30-4a51-a90b-e49d401601c7",
   "metadata": {},
   "source": [
    "See whole detailed structure of folder (all sub-file directories) by putting recursive=True:"
   ]
  },
  {
   "cell_type": "code",
   "execution_count": 66,
   "id": "539f3c8b-3bf2-40f1-ba42-14593b145295",
   "metadata": {},
   "outputs": [
    {
     "data": {
      "text/plain": [
       "['pony_folder\\\\',\n",
       " 'pony_folder\\\\Annie',\n",
       " 'pony_folder\\\\Annie\\\\image_folder',\n",
       " 'pony_folder\\\\Annie\\\\image_folder\\\\pony_pic.jpg',\n",
       " 'pony_folder\\\\Benny',\n",
       " 'pony_folder\\\\Benny\\\\image_folder',\n",
       " 'pony_folder\\\\Benny\\\\image_folder\\\\pony_pic.jpg',\n",
       " 'pony_folder\\\\Carrie',\n",
       " 'pony_folder\\\\Carrie\\\\image_folder',\n",
       " 'pony_folder\\\\Carrie\\\\image_folder\\\\pony_pic.jpg']"
      ]
     },
     "execution_count": 66,
     "metadata": {},
     "output_type": "execute_result"
    }
   ],
   "source": [
    "glob.glob(\"pony_folder/**\", recursive = True) #two wildcards ** to say all ‘sub-directories’."
   ]
  },
  {
   "cell_type": "markdown",
   "id": "9f8dc824-8cdb-47f7-a716-3b6cf1c7a366",
   "metadata": {},
   "source": [
    "Only specific file type:"
   ]
  },
  {
   "cell_type": "code",
   "execution_count": 67,
   "id": "3f57be8b-eae5-481d-9a61-7946d99fd831",
   "metadata": {},
   "outputs": [
    {
     "data": {
      "text/plain": [
       "['pony_folder\\\\Annie\\\\image_folder\\\\pony_pic.jpg',\n",
       " 'pony_folder\\\\Benny\\\\image_folder\\\\pony_pic.jpg',\n",
       " 'pony_folder\\\\Carrie\\\\image_folder\\\\pony_pic.jpg']"
      ]
     },
     "execution_count": 67,
     "metadata": {},
     "output_type": "execute_result"
    }
   ],
   "source": [
    "glob.glob(\"pony_folder/**/*.jpg\", recursive = True)"
   ]
  },
  {
   "attachments": {},
   "cell_type": "markdown",
   "id": "663b32ad",
   "metadata": {},
   "source": [
    "# 7 Extracting file info"
   ]
  },
  {
   "cell_type": "markdown",
   "id": "bbb5dc40-4039-4a4b-9581-7146540ad9f8",
   "metadata": {},
   "source": [
    "extract the filename, folder or extension via simple string manipulation"
   ]
  },
  {
   "cell_type": "code",
   "execution_count": 68,
   "id": "d926cea1-2731-4bd6-88a7-a34ae349ca49",
   "metadata": {},
   "outputs": [
    {
     "name": "stdout",
     "output_type": "stream",
     "text": [
      "pony_pic.jpg jpg\n"
     ]
    }
   ],
   "source": [
    "path = 'pony_folder\\\\Annie\\\\image_folder\\\\pony_pic.jpg'\n",
    "filename = path.split(os.path.sep)[-1] #split the path where the separator occurred\n",
    "extension = filename.split('.')[-1]\n",
    "print(filename, extension)"
   ]
  },
  {
   "cell_type": "code",
   "execution_count": 69,
   "id": "e9d13bae-9833-4619-b26d-e06cb09232ed",
   "metadata": {},
   "outputs": [
    {
     "data": {
      "text/plain": [
       "('pony_folder\\\\Annie\\\\image_folder', 'pony_pic.jpg')"
      ]
     },
     "execution_count": 69,
     "metadata": {},
     "output_type": "execute_result"
    }
   ],
   "source": [
    "os.path.split(path)      # Split filename from the rest"
   ]
  },
  {
   "cell_type": "code",
   "execution_count": 70,
   "id": "dae36b61-3aa3-4527-b5b3-6bfbc3bf7bc0",
   "metadata": {},
   "outputs": [
    {
     "data": {
      "text/plain": [
       "('pony_folder\\\\Annie\\\\image_folder\\\\pony_pic', '.jpg')"
      ]
     },
     "execution_count": 70,
     "metadata": {},
     "output_type": "execute_result"
    }
   ],
   "source": [
    "os.path.splitext(path)   # Split extension"
   ]
  },
  {
   "cell_type": "code",
   "execution_count": 71,
   "id": "3359942f-a26f-435e-9546-a2af82aff7bc",
   "metadata": {},
   "outputs": [
    {
     "data": {
      "text/plain": [
       "'pony_folder\\\\Annie\\\\image_folder'"
      ]
     },
     "execution_count": 71,
     "metadata": {},
     "output_type": "execute_result"
    }
   ],
   "source": [
    "os.path.dirname(path)    # Show the directory"
   ]
  },
  {
   "attachments": {},
   "cell_type": "markdown",
   "id": "64b82c35",
   "metadata": {},
   "source": [
    "# 8 Deleting stuff"
   ]
  },
  {
   "cell_type": "code",
   "execution_count": 75,
   "id": "62282863-69f7-47f8-ac1d-7b6e20575f89",
   "metadata": {},
   "outputs": [],
   "source": [
    "os.remove(\"pony_folder\\\\Annie\\\\image_folder\\\\pony_pic.jpg\") #remove file only, does not work for directories"
   ]
  },
  {
   "cell_type": "code",
   "execution_count": null,
   "id": "0e483254-5dd8-4e0b-97e6-21ade7f97c5e",
   "metadata": {},
   "outputs": [],
   "source": [
    "shutil.rmtree('pony_folder\\\\Annie') #use shutil for directories"
   ]
  }
 ],
 "metadata": {
  "kernelspec": {
   "display_name": "Python 3 (ipykernel)",
   "language": "python",
   "name": "python3"
  },
  "language_info": {
   "codemirror_mode": {
    "name": "ipython",
    "version": 3
   },
   "file_extension": ".py",
   "mimetype": "text/x-python",
   "name": "python",
   "nbconvert_exporter": "python",
   "pygments_lexer": "ipython3",
   "version": "3.12.1"
  },
  "toc": {
   "base_numbering": 1,
   "nav_menu": {},
   "number_sections": true,
   "sideBar": true,
   "skip_h1_title": false,
   "title_cell": "Table of Contents",
   "title_sidebar": "Contents",
   "toc_cell": false,
   "toc_position": {},
   "toc_section_display": true,
   "toc_window_display": false
  },
  "vscode": {
   "interpreter": {
    "hash": "31f2aee4e71d21fbe5cf8b01ff0e069b9275f58929596ceb00d14d90e3e16cd6"
   }
  }
 },
 "nbformat": 4,
 "nbformat_minor": 5
}
