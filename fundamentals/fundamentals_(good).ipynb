{
 "cells": [
  {
   "attachments": {},
   "cell_type": "markdown",
   "id": "123456",
   "metadata": {},
   "source": [
    "<div style=\"text-align:left;font-size:2em\"><span style=\"font-weight:bolder;font-size:1.25em\">SP2273 | Learning Portfolio</span><br><br><span style=\"font-weight:bold;color:darkred\">Fundamentals (Good)</span></div>"
   ]
  },
  {
   "attachments": {},
   "cell_type": "markdown",
   "id": "c97d6e37",
   "metadata": {},
   "source": [
    "# What to expect in this chapter"
   ]
  },
  {
   "cell_type": "markdown",
   "id": "ee3f4752-bed5-4e6c-92b2-e001878bd5b0",
   "metadata": {},
   "source": [
    "Build on those earlier concepts to add more details to the same ideas (ifferent data types and how to combine variables with English)"
   ]
  },
  {
   "attachments": {},
   "cell_type": "markdown",
   "id": "cbc2afc9",
   "metadata": {},
   "source": [
    "# 1 There is more to if"
   ]
  },
  {
   "cell_type": "markdown",
   "id": "9ffcf3b0-bbdc-4a75-8681-6da696c2c3bb",
   "metadata": {},
   "source": [
    "Use **elif** for more branches of it"
   ]
  },
  {
   "cell_type": "code",
   "execution_count": 1,
   "id": "e7049457-d37f-4d68-b497-8caa4ab4157c",
   "metadata": {},
   "outputs": [
    {
     "name": "stdout",
     "output_type": "stream",
     "text": [
      "I am a horse\n"
     ]
    }
   ],
   "source": [
    "pet = \"horse\"\n",
    "if pet == \"horse\":\n",
    "    print(\"I am a horse\")\n",
    "elif pet == \"pony\":\n",
    "    print(\"I am a pony\")\n",
    "else:\n",
    "    print(\"I am not an animal\")"
   ]
  },
  {
   "cell_type": "code",
   "execution_count": 2,
   "id": "c0cb8660-60f2-42b4-ba8d-9dbd48421bef",
   "metadata": {},
   "outputs": [
    {
     "name": "stdout",
     "output_type": "stream",
     "text": [
      "I am a pony\n"
     ]
    }
   ],
   "source": [
    "pet = \"pony\"\n",
    "if pet == \"horse\":\n",
    "    print(\"I am a horse\")\n",
    "elif pet == \"pony\":\n",
    "    print(\"I am a pony\")\n",
    "else:\n",
    "    print(\"I am not an animal\")"
   ]
  },
  {
   "attachments": {},
   "cell_type": "markdown",
   "id": "2533cd09",
   "metadata": {},
   "source": [
    "# 2 Asking questions"
   ]
  },
  {
   "cell_type": "markdown",
   "id": "896ced0b-1ad6-4212-bf79-6c1292406052",
   "metadata": {},
   "source": [
    "Need to be able to ask questions to use if to make decisions:"
   ]
  },
  {
   "cell_type": "code",
   "execution_count": 4,
   "id": "12fa9a52-b9bd-45d8-8a61-552c9dfb2d85",
   "metadata": {},
   "outputs": [],
   "source": [
    "horse_names = [\"Woody\", \"Jessie\", \"Jerry\"]\n",
    "pony_names = [\"Carrie\", \"Bobby\", \"Andy\"]"
   ]
  },
  {
   "cell_type": "code",
   "execution_count": 8,
   "id": "986d50d8-4022-4e28-9749-17aa8fc0b147",
   "metadata": {},
   "outputs": [
    {
     "data": {
      "text/plain": [
       "True"
      ]
     },
     "execution_count": 8,
     "metadata": {},
     "output_type": "execute_result"
    }
   ],
   "source": [
    "\"Jerry\" in horse_names #Asking if Jerry in horse_names list"
   ]
  },
  {
   "cell_type": "code",
   "execution_count": 9,
   "id": "a78e3988-ae7b-43b1-93c8-2e26de3aae3c",
   "metadata": {},
   "outputs": [
    {
     "data": {
      "text/plain": [
       "False"
      ]
     },
     "execution_count": 9,
     "metadata": {},
     "output_type": "execute_result"
    }
   ],
   "source": [
    "\"jerry\" in horse_names #Asking if jerry in horse_names list"
   ]
  },
  {
   "cell_type": "code",
   "execution_count": 11,
   "id": "429d429d-dd87-47d0-aa08-726d33508cd0",
   "metadata": {},
   "outputs": [
    {
     "data": {
      "text/plain": [
       "True"
      ]
     },
     "execution_count": 11,
     "metadata": {},
     "output_type": "execute_result"
    }
   ],
   "source": [
    "\"jerry\" not in horse_names #Asking if jerry not in horse_names list"
   ]
  },
  {
   "cell_type": "code",
   "execution_count": 15,
   "id": "e38140e0-de64-45a7-b21f-3c56c26fcef7",
   "metadata": {},
   "outputs": [
    {
     "data": {
      "text/plain": [
       "True"
      ]
     },
     "execution_count": 15,
     "metadata": {},
     "output_type": "execute_result"
    }
   ],
   "source": [
    "(\"Woody\" in horse_names) and (\"Carrie\" in pony_names) #Asking if Woody in horse_names list and Carrie in pony_names list"
   ]
  },
  {
   "cell_type": "code",
   "execution_count": 16,
   "id": "52aa934b-5b61-4125-89ef-5253e140f239",
   "metadata": {},
   "outputs": [
    {
     "data": {
      "text/plain": [
       "True"
      ]
     },
     "execution_count": 16,
     "metadata": {},
     "output_type": "execute_result"
    }
   ],
   "source": [
    "(\"woody\" in horse_names) or (\"Carrie\" in pony_names) #Asking if woody in horse_names list or Carrie in pony_names list"
   ]
  },
  {
   "cell_type": "code",
   "execution_count": 21,
   "id": "44c64d5f-1fc6-48ce-a663-63cbca2b01e0",
   "metadata": {},
   "outputs": [
    {
     "data": {
      "text/plain": [
       "True"
      ]
     },
     "execution_count": 21,
     "metadata": {},
     "output_type": "execute_result"
    }
   ],
   "source": [
    "\"Wood\" in \"Woody\" #Asking if Wood is in Woody"
   ]
  },
  {
   "cell_type": "code",
   "execution_count": 20,
   "id": "c1f46a20-25ab-426a-836e-fd0afe276779",
   "metadata": {},
   "outputs": [
    {
     "data": {
      "text/plain": [
       "False"
      ]
     },
     "execution_count": 20,
     "metadata": {},
     "output_type": "execute_result"
    }
   ],
   "source": [
    "\"wood\" in \"Woody\" #Asking if wood is in Woody"
   ]
  },
  {
   "attachments": {},
   "cell_type": "markdown",
   "id": "bc83e78f",
   "metadata": {},
   "source": [
    "# 3 Remember"
   ]
  },
  {
   "cell_type": "markdown",
   "id": "cf25e1c0-bf6e-42a4-ade7-3bf788151592",
   "metadata": {},
   "source": [
    "Python only can compare similiar things (numbers, english etc.)"
   ]
  },
  {
   "cell_type": "markdown",
   "id": "f471039f-a566-4451-8224-87b71f0b452d",
   "metadata": {},
   "source": [
    "**Can compare similiar:**"
   ]
  },
  {
   "cell_type": "code",
   "execution_count": 24,
   "id": "35744f21-5dca-42c3-b0c5-b02b0d252888",
   "metadata": {},
   "outputs": [
    {
     "data": {
      "text/plain": [
       "False"
      ]
     },
     "execution_count": 24,
     "metadata": {},
     "output_type": "execute_result"
    }
   ],
   "source": [
    "\"Horse\" > \"pony\" #comparison works because English letters are internally represented as numbers"
   ]
  },
  {
   "cell_type": "code",
   "execution_count": 25,
   "id": "7ff9ee21-b263-46fa-a116-3ffd508b2b7c",
   "metadata": {},
   "outputs": [
    {
     "data": {
      "text/plain": [
       "True"
      ]
     },
     "execution_count": 25,
     "metadata": {},
     "output_type": "execute_result"
    }
   ],
   "source": [
    "5 > 3"
   ]
  },
  {
   "cell_type": "markdown",
   "id": "2a3c7c00-0d32-4eca-aba9-04d64ac6ad00",
   "metadata": {},
   "source": [
    "**Cannot compare not similiar:**"
   ]
  },
  {
   "cell_type": "code",
   "execution_count": 27,
   "id": "d8321876-30b7-4f0c-b856-5e3c4865f73d",
   "metadata": {},
   "outputs": [
    {
     "ename": "TypeError",
     "evalue": "'>' not supported between instances of 'int' and 'str'",
     "output_type": "error",
     "traceback": [
      "\u001b[1;31m---------------------------------------------------------------------------\u001b[0m",
      "\u001b[1;31mTypeError\u001b[0m                                 Traceback (most recent call last)",
      "Cell \u001b[1;32mIn[27], line 1\u001b[0m\n\u001b[1;32m----> 1\u001b[0m \u001b[38;5;241;43m5\u001b[39;49m\u001b[43m \u001b[49m\u001b[38;5;241;43m>\u001b[39;49m\u001b[43m \u001b[49m\u001b[38;5;124;43m\"\u001b[39;49m\u001b[38;5;124;43mpony\u001b[39;49m\u001b[38;5;124;43m\"\u001b[39;49m\n",
      "\u001b[1;31mTypeError\u001b[0m: '>' not supported between instances of 'int' and 'str'"
     ]
    }
   ],
   "source": [
    "5 > \"pony\""
   ]
  },
  {
   "attachments": {},
   "cell_type": "markdown",
   "id": "e65f3627",
   "metadata": {},
   "source": [
    "## 3.1 Asking Math questions"
   ]
  },
  {
   "cell_type": "markdown",
   "id": "3f95ff4c-a3a0-4880-856f-468e079782bb",
   "metadata": {},
   "source": [
    "| Question/Condition     | Math Symbol | Python Symbols |\n",
    "|------------------------|:-----------:|:--------------:|\n",
    "| Equals?                |      =      |       ==       |\n",
    "| Not equal?             |      ≠      |       !=       |\n",
    "| Less than?             |      <      |        <       |\n",
    "| Greater than?          |      >      |        >       |\n",
    "| Less than or equal?    |      ≤      |       <=       |\n",
    "| Greater than or equal? |      ≥      |       >=       |"
   ]
  },
  {
   "cell_type": "markdown",
   "id": "fd26231d-8b37-46b5-95db-129d0743ef18",
   "metadata": {},
   "source": [
    "Accepts all syntax here:"
   ]
  },
  {
   "cell_type": "code",
   "execution_count": 28,
   "id": "7bf754a5-1902-4a38-b925-008e95e88780",
   "metadata": {},
   "outputs": [
    {
     "data": {
      "text/plain": [
       "True"
      ]
     },
     "execution_count": 28,
     "metadata": {},
     "output_type": "execute_result"
    }
   ],
   "source": [
    "x = 4\n",
    "x > 2 and x < 20"
   ]
  },
  {
   "cell_type": "code",
   "execution_count": 30,
   "id": "0b53ecdb-beab-4b87-87b6-54701d5d51e3",
   "metadata": {},
   "outputs": [
    {
     "data": {
      "text/plain": [
       "True"
      ]
     },
     "execution_count": 30,
     "metadata": {},
     "output_type": "execute_result"
    }
   ],
   "source": [
    "(x > 2) and (x < 20) #brackets help increase readability"
   ]
  },
  {
   "cell_type": "code",
   "execution_count": 32,
   "id": "595adca4-27f6-43e7-b51b-e93cf4edda3a",
   "metadata": {},
   "outputs": [
    {
     "data": {
      "text/plain": [
       "True"
      ]
     },
     "execution_count": 32,
     "metadata": {},
     "output_type": "execute_result"
    }
   ],
   "source": [
    "2<x<20 #most readable"
   ]
  },
  {
   "attachments": {},
   "cell_type": "markdown",
   "id": "39bde35f",
   "metadata": {},
   "source": [
    "# 4 Python stores information in different formats or types"
   ]
  },
  {
   "cell_type": "markdown",
   "id": "ca65e6a4-b76b-4f13-93b6-1c913b2f4932",
   "metadata": {},
   "source": [
    "Use type() to ask python store information"
   ]
  },
  {
   "cell_type": "markdown",
   "id": "b55e66a0-34da-4596-970a-4a8b5606fe32",
   "metadata": {},
   "source": [
    "**Integer**"
   ]
  },
  {
   "cell_type": "code",
   "execution_count": 39,
   "id": "dbdcf3a9-7c8f-4229-9802-dab1802b4290",
   "metadata": {},
   "outputs": [
    {
     "name": "stdout",
     "output_type": "stream",
     "text": [
      "81 <class 'int'>\n"
     ]
    },
    {
     "data": {
      "text/plain": [
       "int"
      ]
     },
     "execution_count": 39,
     "metadata": {},
     "output_type": "execute_result"
    }
   ],
   "source": [
    "x = int(81.999) #will remove decimals\n",
    "print(x, type(x))\n",
    "type(x)"
   ]
  },
  {
   "cell_type": "markdown",
   "id": "d4480fc0-c558-4eed-89d1-11f30ebc782a",
   "metadata": {},
   "source": [
    "**String (english)**"
   ]
  },
  {
   "cell_type": "code",
   "execution_count": 42,
   "id": "029f0be7-c8ee-47dd-ba1e-c9793672d549",
   "metadata": {},
   "outputs": [
    {
     "name": "stdout",
     "output_type": "stream",
     "text": [
      "81.9999 <class 'str'>\n"
     ]
    }
   ],
   "source": [
    "x = str(81.9999)\n",
    "print(x, type(x))"
   ]
  },
  {
   "cell_type": "markdown",
   "id": "52356321-1c5a-457a-a3ca-9ab4619efc1d",
   "metadata": {},
   "source": [
    "**Float (decimal number)**"
   ]
  },
  {
   "cell_type": "code",
   "execution_count": 44,
   "id": "943643fc-e418-4fd7-9cc5-6ead38de51fb",
   "metadata": {},
   "outputs": [
    {
     "name": "stdout",
     "output_type": "stream",
     "text": [
      "81.999 <class 'float'>\n"
     ]
    }
   ],
   "source": [
    "x = float(81.999)\n",
    "print(x, type(x))"
   ]
  },
  {
   "cell_type": "markdown",
   "id": "bb89a6ff-7446-4d57-a55a-26f3a9b21621",
   "metadata": {},
   "source": [
    "**Complex Number**"
   ]
  },
  {
   "cell_type": "code",
   "execution_count": 46,
   "id": "2c252f0b-46bb-4d26-89e2-624ddf948343",
   "metadata": {},
   "outputs": [
    {
     "name": "stdout",
     "output_type": "stream",
     "text": [
      "(81.9999+0j) <class 'complex'>\n"
     ]
    }
   ],
   "source": [
    "x = complex(81.9999)\n",
    "print(x, type(x))"
   ]
  },
  {
   "cell_type": "markdown",
   "id": "2fb100cc-c91b-4010-80c5-1ae17531609d",
   "metadata": {},
   "source": [
    "### Typecasting"
   ]
  },
  {
   "cell_type": "code",
   "execution_count": 59,
   "id": "7b229569-fd6e-497c-9f2d-5c8c2744f701",
   "metadata": {},
   "outputs": [
    {
     "name": "stdout",
     "output_type": "stream",
     "text": [
      "81.999 <class 'str'>\n"
     ]
    }
   ],
   "source": [
    "x = \"81.999\"\n",
    "print(x, type(x)) # x is string"
   ]
  },
  {
   "cell_type": "code",
   "execution_count": 60,
   "id": "6db5a7c0-b7a3-42df-a151-3104d563e377",
   "metadata": {},
   "outputs": [
    {
     "name": "stdout",
     "output_type": "stream",
     "text": [
      "81.999 <class 'float'>\n"
     ]
    }
   ],
   "source": [
    "x = float(x)\n",
    "print(x, type(x)) # x is float"
   ]
  },
  {
   "cell_type": "code",
   "execution_count": 61,
   "id": "30ced5a0-337d-45f4-915c-726f38336a7d",
   "metadata": {},
   "outputs": [
    {
     "name": "stdout",
     "output_type": "stream",
     "text": [
      "81 <class 'int'>\n"
     ]
    }
   ],
   "source": [
    "x = int(x)\n",
    "print(x, type(x)) #x is integer"
   ]
  },
  {
   "cell_type": "code",
   "execution_count": 62,
   "id": "38cd64c5-9ac0-4c51-b1ff-394b81923119",
   "metadata": {},
   "outputs": [
    {
     "name": "stdout",
     "output_type": "stream",
     "text": [
      "(81+0j) <class 'complex'>\n"
     ]
    }
   ],
   "source": [
    "x = complex(x)\n",
    "print(x, type(x)) # x is complex"
   ]
  },
  {
   "attachments": {},
   "cell_type": "markdown",
   "id": "876f69ea",
   "metadata": {},
   "source": [
    "# 5 Never compare floats directly"
   ]
  },
  {
   "attachments": {},
   "cell_type": "markdown",
   "id": "0e1daab8",
   "metadata": {},
   "source": [
    "## 5.1 The Problem"
   ]
  },
  {
   "cell_type": "markdown",
   "id": "9eb7a3fb-c6be-4e55-9d72-98016a23377f",
   "metadata": {},
   "source": [
    "Since computers have finite (hardware) resources, floating point numbers cannot be exactly stored in a computer. This leads to errors called **roundoff errors**. "
   ]
  },
  {
   "cell_type": "code",
   "execution_count": 64,
   "id": "7192fa57-21d6-4028-acdd-36207c5d05bf",
   "metadata": {},
   "outputs": [
    {
     "data": {
      "text/plain": [
       "False"
      ]
     },
     "execution_count": 64,
     "metadata": {},
     "output_type": "execute_result"
    }
   ],
   "source": [
    "a = 0.2\n",
    "b = 0.6\n",
    "a*3 == b #round off error"
   ]
  },
  {
   "cell_type": "code",
   "execution_count": 66,
   "id": "7f793b54-809e-41cf-9d6c-77d97b147fba",
   "metadata": {},
   "outputs": [
    {
     "data": {
      "text/plain": [
       "'0.200000000000000011'"
      ]
     },
     "execution_count": 66,
     "metadata": {},
     "output_type": "execute_result"
    }
   ],
   "source": [
    "f'{0.2:.18f}'"
   ]
  },
  {
   "attachments": {},
   "cell_type": "markdown",
   "id": "1efb41ea",
   "metadata": {},
   "source": [
    "## 5.2 A solution"
   ]
  },
  {
   "cell_type": "markdown",
   "id": "fbf5b5f7-cc12-4973-afaf-17a4f6924d31",
   "metadata": {},
   "source": [
    "Should check if the variable is close to the expected values instead of checking for equality."
   ]
  },
  {
   "cell_type": "code",
   "execution_count": 73,
   "id": "9195be4a-92aa-4e14-a21f-72cef463534f",
   "metadata": {},
   "outputs": [
    {
     "data": {
      "text/plain": [
       "True"
      ]
     },
     "execution_count": 73,
     "metadata": {},
     "output_type": "execute_result"
    }
   ],
   "source": [
    "eps = 1E-10 #0.0000000001\n",
    "abs(a * 3 - b) < eps #convert to absolute value so difference is based on magnitude"
   ]
  },
  {
   "cell_type": "code",
   "execution_count": 72,
   "id": "f0197b92-cc33-4e68-9a15-206b8d71388d",
   "metadata": {},
   "outputs": [
    {
     "data": {
      "text/plain": [
       "True"
      ]
     },
     "execution_count": 72,
     "metadata": {},
     "output_type": "execute_result"
    }
   ],
   "source": [
    "import numpy as np #or use numpy\n",
    "np.isclose(a * 3, b)"
   ]
  },
  {
   "attachments": {},
   "cell_type": "markdown",
   "id": "e0148c86",
   "metadata": {},
   "source": [
    "# 6 Combining English and variables"
   ]
  },
  {
   "cell_type": "markdown",
   "id": "83cff4df-f0db-4a72-aeec-be92b436efb4",
   "metadata": {},
   "source": [
    "**F-strings/interpolation are a way to embed expressions inside string literals. {name} is a placeholder for the value of the variable name. When the string is printed, {name} gets replaced with the actual value of the variable.**"
   ]
  },
  {
   "cell_type": "raw",
   "id": "70fa7efa-2e06-480c-a002-7c1385f3cc0a",
   "metadata": {},
   "source": [
    "print() just for displaying information"
   ]
  },
  {
   "cell_type": "code",
   "execution_count": 88,
   "id": "58740936-8339-463a-8c29-930c359d9f4b",
   "metadata": {},
   "outputs": [
    {
     "name": "stdout",
     "output_type": "stream",
     "text": [
      "I am horse!\n"
     ]
    }
   ],
   "source": [
    "name = \"horse\"\n",
    "print(f\"I am {name}!\") #{} name takes value of horse"
   ]
  },
  {
   "cell_type": "code",
   "execution_count": 87,
   "id": "23094ab2-16ce-4220-b502-db5c2cba5db6",
   "metadata": {},
   "outputs": [
    {
     "name": "stdout",
     "output_type": "stream",
     "text": [
      "I am HORSE\n"
     ]
    }
   ],
   "source": [
    "name = \"horse\"\n",
    "print(f\"I am {name.upper()}\") #capitalise name"
   ]
  },
  {
   "cell_type": "code",
   "execution_count": 77,
   "id": "dd65fe5b-b3ee-4923-bdc7-68702e7394f4",
   "metadata": {},
   "outputs": [
    {
     "name": "stdout",
     "output_type": "stream",
     "text": [
      "I am 20 years old and my mother is 40 years old\n"
     ]
    }
   ],
   "source": [
    "x = 20\n",
    "print(f\"I am {x} years old and my mother is {x*2} years old\")"
   ]
  },
  {
   "cell_type": "markdown",
   "id": "3e26a586-be45-4f17-ab67-3d10d5496683",
   "metadata": {},
   "source": [
    "**Formatting Texts**"
   ]
  },
  {
   "cell_type": "code",
   "execution_count": 80,
   "id": "e2623993-3389-4e4b-9eb3-eaa6a02613da",
   "metadata": {},
   "outputs": [
    {
     "name": "stdout",
     "output_type": "stream",
     "text": [
      "I like horses!\n"
     ]
    }
   ],
   "source": [
    "message = \"I like horses!\"\n",
    "print(f\"{message}\")"
   ]
  },
  {
   "cell_type": "code",
   "execution_count": 81,
   "id": "3e5f3158-62fb-401c-a1f5-90a86b9a0f64",
   "metadata": {},
   "outputs": [
    {
     "name": "stdout",
     "output_type": "stream",
     "text": [
      "                I like horses!\n"
     ]
    }
   ],
   "source": [
    "print(f\"{message:>30}\") #Block of 30 characters aligned right"
   ]
  },
  {
   "cell_type": "code",
   "execution_count": 82,
   "id": "cde66869-24e9-48f4-80aa-5d75de3f52e2",
   "metadata": {},
   "outputs": [
    {
     "name": "stdout",
     "output_type": "stream",
     "text": [
      "        I like horses!        \n"
     ]
    }
   ],
   "source": [
    "print(f\"{message:^30}\") #Block of 30 characters aligned centre"
   ]
  },
  {
   "cell_type": "code",
   "execution_count": 83,
   "id": "f808eb24-37d9-4fbe-bb8c-9977d2f23d98",
   "metadata": {},
   "outputs": [
    {
     "name": "stdout",
     "output_type": "stream",
     "text": [
      "I like horses!                \n"
     ]
    }
   ],
   "source": [
    "print(f\"{message:<30}\") #Block of 30 characters aligned left"
   ]
  },
  {
   "cell_type": "markdown",
   "id": "6de35a53-ca04-4340-a2d0-85c53e1a0664",
   "metadata": {},
   "source": [
    "**Formatting Numbers**"
   ]
  },
  {
   "cell_type": "code",
   "execution_count": 86,
   "id": "56d218d0-71a6-4182-95ee-8e6fb891bb7f",
   "metadata": {},
   "outputs": [
    {
     "name": "stdout",
     "output_type": "stream",
     "text": [
      "The cube of pi to 6 decimal places is 31.006277\n"
     ]
    }
   ],
   "source": [
    "import numpy as np\n",
    "print(f'The cube of pi to 6 decimal places is {np.pi**3:.6f}')\n",
    "#np.pi is \n",
    "#:.6f is a formatting specifier. It indicates that the floating-point number should be displayed with six decimal places."
   ]
  },
  {
   "cell_type": "code",
   "execution_count": 92,
   "id": "d6bbc143-2528-4ba1-83ef-e7ce1ec1008f",
   "metadata": {},
   "outputs": [
    {
     "name": "stdout",
     "output_type": "stream",
     "text": [
      "The square of x is = 18.00000000\n"
     ]
    }
   ],
   "source": [
    "x = 9\n",
    "print(f\"The square of x is = {x*2:.8f}\")"
   ]
  },
  {
   "cell_type": "code",
   "execution_count": 93,
   "id": "87aada50-f714-4295-bde0-845ef92b09c6",
   "metadata": {},
   "outputs": [
    {
     "name": "stdout",
     "output_type": "stream",
     "text": [
      "The square of x is = 1.80000000e+01\n"
     ]
    }
   ],
   "source": [
    "x = 9\n",
    "print(f\"The square of x is = {x*2:.8e}\")"
   ]
  },
  {
   "attachments": {},
   "cell_type": "markdown",
   "id": "3d882c2d",
   "metadata": {},
   "source": [
    "## 6.1 Structure of f-strings"
   ]
  },
  {
   "cell_type": "markdown",
   "id": "7e72cdd3-4760-4e58-8322-1ab5bef9057b",
   "metadata": {},
   "source": [
    "structure: {X:>0Y.ZW}"
   ]
  },
  {
   "cell_type": "markdown",
   "id": "450f0780-74e5-485e-a2ab-c4fc33d376d9",
   "metadata": {},
   "source": [
    "| Letter | Action                          | Possible Options                                               |\n",
    "|--------|---------------------------------|----------------------------------------------------------------|\n",
    "| X      | Variable to format              | Can be a number or a string                                    |\n",
    "| >      | Alignment                       | < (Left justified) > (Right justified) ^ (Centre justified)    |\n",
    "| 0      | Use 0’s to pad the spaces       | You can use other characters like a space .                    |\n",
    "| Y      | Total number of characters      |                                                                |\n",
    "| Z      | Number of decimal places        |                                                                |\n",
    "| W      | Specifies the type of variable. | f (float) d (integer) s (string) e (scientific) g (Asks Python to figure out) |"
   ]
  },
  {
   "cell_type": "code",
   "execution_count": 96,
   "id": "0e0d6f03-5211-467b-bc5d-4aa0e06c8042",
   "metadata": {},
   "outputs": [
    {
     "name": "stdout",
     "output_type": "stream",
     "text": [
      "00042\n"
     ]
    }
   ],
   "source": [
    "value = 42\n",
    "formatted_value = f\"{value:>05}\"  # Right-aligned, minimum width 5, padded with zeros\n",
    "print(formatted_value)"
   ]
  },
  {
   "cell_type": "markdown",
   "id": "d72fe439-d586-4a43-ae49-ce40f0d4526f",
   "metadata": {},
   "source": [
    "In this example, if value is less than five digits, it will be padded with zeros on the left to achieve a minimum width of 5. The > ensures right alignment, and the 0 specifies zero-padding."
   ]
  },
  {
   "cell_type": "code",
   "execution_count": 99,
   "id": "1ecdef6d-2d7f-4d07-8592-d67c7489a546",
   "metadata": {},
   "outputs": [
    {
     "name": "stdout",
     "output_type": "stream",
     "text": [
      "   42\n"
     ]
    }
   ],
   "source": [
    "value = 42\n",
    "formatted_value = f\"{value:>5}\"  # Right-aligned, minimum width 5, no padding\n",
    "print(formatted_value)"
   ]
  },
  {
   "attachments": {},
   "cell_type": "markdown",
   "id": "e8ed7209",
   "metadata": {},
   "source": [
    "# 7 Escape sequences"
   ]
  },
  {
   "cell_type": "markdown",
   "id": "cc79531f-f93b-443e-9b9a-19bd3af191a7",
   "metadata": {},
   "source": [
    "Escape sequences refers to special characters we sometimes need when writing English"
   ]
  },
  {
   "cell_type": "markdown",
   "id": "c264d763-9a53-44eb-91f7-657e4ccb22c0",
   "metadata": {},
   "source": [
    "| Escape Sequence | Meaning        |\n",
    "|-----------------|----------------|\n",
    "| \\’              | Single quote   |\n",
    "| double \\             | Backslash      |\n",
    "| \\n              | Newline        |\n",
    "| \\t              | Horizontal Tab |"
   ]
  },
  {
   "cell_type": "code",
   "execution_count": null,
   "id": "c15b3cc3-fcde-4fee-810b-cac2b6b7473c",
   "metadata": {},
   "outputs": [],
   "source": []
  },
  {
   "cell_type": "code",
   "execution_count": 105,
   "id": "7bed6e43-5f74-4135-b700-806c9d0c16c6",
   "metadata": {},
   "outputs": [
    {
     "name": "stdout",
     "output_type": "stream",
     "text": [
      "Jerry \n",
      "\tWoody \n",
      "\t\tJessie\n"
     ]
    }
   ],
   "source": [
    "print(\"Jerry \\n\\tWoody \\n\\t\\tJessie\")"
   ]
  },
  {
   "cell_type": "code",
   "execution_count": 109,
   "id": "74ea5af6-cba2-4b8e-8ffa-e68ede73ba0e",
   "metadata": {},
   "outputs": [
    {
     "name": "stdout",
     "output_type": "stream",
     "text": [
      "We're hungry!\n"
     ]
    }
   ],
   "source": [
    "print('We\\'re hungry!') #dont need to use double quoatation marks"
   ]
  },
  {
   "cell_type": "code",
   "execution_count": 112,
   "id": "65b39de6-354b-4742-b5a8-5527c8a3d368",
   "metadata": {},
   "outputs": [
    {
     "name": "stdout",
     "output_type": "stream",
     "text": [
      "1\\2\\3\n"
     ]
    }
   ],
   "source": [
    " print('1\\\\2\\\\3') #Need to use double \\\\ to escape"
   ]
  },
  {
   "cell_type": "code",
   "execution_count": 114,
   "id": "3c646285-dcc2-4b54-9e5a-bfe7e1d866b5",
   "metadata": {},
   "outputs": [
    {
     "name": "stdout",
     "output_type": "stream",
     "text": [
      "1\u0002\u0003\n"
     ]
    }
   ],
   "source": [
    "print('1\\2\\3')"
   ]
  },
  {
   "cell_type": "code",
   "execution_count": 115,
   "id": "337ac026-c190-445f-a350-0bfa2fbc8267",
   "metadata": {},
   "outputs": [
    {
     "name": "stdout",
     "output_type": "stream",
     "text": [
      "1\n",
      "2\n",
      "3\n"
     ]
    }
   ],
   "source": [
    "print('1\\n2\\n3') #linebreaks"
   ]
  },
  {
   "cell_type": "code",
   "execution_count": 117,
   "id": "e99f453a-6dba-4b77-ab56-89d10a9913e4",
   "metadata": {},
   "outputs": [
    {
     "name": "stdout",
     "output_type": "stream",
     "text": [
      "1\t2\t3\n"
     ]
    }
   ],
   "source": [
    "print('1\\t2\\t3') #tabs"
   ]
  },
  {
   "attachments": {},
   "cell_type": "markdown",
   "id": "f87b5ae5",
   "metadata": {},
   "source": [
    "# 8 Computers read = from Right to Left!"
   ]
  },
  {
   "cell_type": "code",
   "execution_count": 119,
   "id": "6c065c20-e78c-4fd3-86c5-cfdbf922694b",
   "metadata": {},
   "outputs": [
    {
     "name": "stdout",
     "output_type": "stream",
     "text": [
      "60\n"
     ]
    }
   ],
   "source": [
    "x = 50\n",
    "y = x + 10\n",
    "print(y)"
   ]
  },
  {
   "cell_type": "code",
   "execution_count": 124,
   "id": "5f058f9e-21bb-4c55-a75b-00c664aa82c3",
   "metadata": {},
   "outputs": [
    {
     "name": "stdout",
     "output_type": "stream",
     "text": [
      "60\n",
      "60\n"
     ]
    }
   ],
   "source": [
    "x = 10\n",
    "y = 50\n",
    "y = y + 10 #python reads from right to left so this is possible \n",
    "x = y #x takes y value\n",
    "print(y)\n",
    "print(x)"
   ]
  },
  {
   "attachments": {},
   "cell_type": "markdown",
   "id": "09003d93",
   "metadata": {},
   "source": [
    "# 9 Shorter and Cleaner Code"
   ]
  },
  {
   "cell_type": "markdown",
   "id": "772e58ec-608c-405a-837d-37d11e6ffddc",
   "metadata": {},
   "source": [
    "**Shorthand code:** (operation then equal sign)"
   ]
  },
  {
   "cell_type": "code",
   "execution_count": 127,
   "id": "1606a0f3-6a5b-47c6-b8ca-a8d9b39f4382",
   "metadata": {},
   "outputs": [
    {
     "name": "stdout",
     "output_type": "stream",
     "text": [
      "60\n"
     ]
    }
   ],
   "source": [
    "x = 10\n",
    "y = 50\n",
    "y += 10 # same as y= y+10\n",
    "print(y)"
   ]
  },
  {
   "cell_type": "markdown",
   "id": "ac96f92c-a36f-4192-a5f0-90c9fa5ec9a9",
   "metadata": {},
   "source": [
    "|                | Long form | Short form |\n",
    "|:--------------:|:---------:|------------|\n",
    "| Addition       |  y = y+2  |   y += 2   |\n",
    "| Subtraction    |  y = y-2  |   y -= 2   |\n",
    "| Multiplication |  y = y*2  |   y *= 2   |\n",
    "| Division       |  y = y/2  |   y /= 2   |"
   ]
  },
  {
   "attachments": {},
   "cell_type": "markdown",
   "id": "69160920",
   "metadata": {},
   "source": [
    "# 10 Python can be a prima-donna."
   ]
  },
  {
   "cell_type": "markdown",
   "id": "44572118-412a-4614-b235-e69072094fa2",
   "metadata": {},
   "source": [
    "Scroll to the end to see the real problem. Fixing coding errors is called debugging. More debugging you do, the more comfortable you will be with thinking and programming. So, use every opportunity you have to practice debugging."
   ]
  },
  {
   "attachments": {},
   "cell_type": "markdown",
   "id": "11e7c041",
   "metadata": {},
   "source": [
    "# 11 Best Practices for Scientific Computing"
   ]
  },
  {
   "cell_type": "markdown",
   "id": "f54f8c55-7c04-47ab-bb59-cba9a533f09c",
   "metadata": {},
   "source": [
    "- Write programs for people, not computers.\n",
    "    - Produce easily understandable code (using appropriate variable names).\n",
    "- Optimise software only after it works correctly.\n",
    "    - better to get something (anything) working. You can then make things complicated and/or optimize your code.\n",
    "- Document design and purpose, not mechanics.\n",
    "- Collaborate.\n",
    "    -  Discussing your code with your friends (collaboration) is helpful because you will get immediate feedback.\n",
    " \n",
    "=> Always start simple and get something working first before making it perfect."
   ]
  },
  {
   "attachments": {},
   "cell_type": "markdown",
   "id": "b890605f",
   "metadata": {},
   "source": [
    "# 12 Looking for help"
   ]
  },
  {
   "cell_type": "markdown",
   "id": "5fbdcef2-c21f-4e09-8bd9-3b2ce39e8c66",
   "metadata": {},
   "source": [
    "help function is help() but not very beginner friendly. Instead, use stack overflow, Google or ChatGPT"
   ]
  },
  {
   "cell_type": "code",
   "execution_count": 129,
   "id": "bff6778f-8f71-4086-bf6e-bdcc63f464be",
   "metadata": {},
   "outputs": [
    {
     "name": "stdout",
     "output_type": "stream",
     "text": [
      "Help on class float in module builtins:\n",
      "\n",
      "class float(object)\n",
      " |  float(x=0, /)\n",
      " |\n",
      " |  Convert a string or number to a floating point number, if possible.\n",
      " |\n",
      " |  Methods defined here:\n",
      " |\n",
      " |  __abs__(self, /)\n",
      " |      abs(self)\n",
      " |\n",
      " |  __add__(self, value, /)\n",
      " |      Return self+value.\n",
      " |\n",
      " |  __bool__(self, /)\n",
      " |      True if self else False\n",
      " |\n",
      " |  __ceil__(self, /)\n",
      " |      Return the ceiling as an Integral.\n",
      " |\n",
      " |  __divmod__(self, value, /)\n",
      " |      Return divmod(self, value).\n",
      " |\n",
      " |  __eq__(self, value, /)\n",
      " |      Return self==value.\n",
      " |\n",
      " |  __float__(self, /)\n",
      " |      float(self)\n",
      " |\n",
      " |  __floor__(self, /)\n",
      " |      Return the floor as an Integral.\n",
      " |\n",
      " |  __floordiv__(self, value, /)\n",
      " |      Return self//value.\n",
      " |\n",
      " |  __format__(self, format_spec, /)\n",
      " |      Formats the float according to format_spec.\n",
      " |\n",
      " |  __ge__(self, value, /)\n",
      " |      Return self>=value.\n",
      " |\n",
      " |  __getattribute__(self, name, /)\n",
      " |      Return getattr(self, name).\n",
      " |\n",
      " |  __getnewargs__(self, /)\n",
      " |\n",
      " |  __gt__(self, value, /)\n",
      " |      Return self>value.\n",
      " |\n",
      " |  __hash__(self, /)\n",
      " |      Return hash(self).\n",
      " |\n",
      " |  __int__(self, /)\n",
      " |      int(self)\n",
      " |\n",
      " |  __le__(self, value, /)\n",
      " |      Return self<=value.\n",
      " |\n",
      " |  __lt__(self, value, /)\n",
      " |      Return self<value.\n",
      " |\n",
      " |  __mod__(self, value, /)\n",
      " |      Return self%value.\n",
      " |\n",
      " |  __mul__(self, value, /)\n",
      " |      Return self*value.\n",
      " |\n",
      " |  __ne__(self, value, /)\n",
      " |      Return self!=value.\n",
      " |\n",
      " |  __neg__(self, /)\n",
      " |      -self\n",
      " |\n",
      " |  __pos__(self, /)\n",
      " |      +self\n",
      " |\n",
      " |  __pow__(self, value, mod=None, /)\n",
      " |      Return pow(self, value, mod).\n",
      " |\n",
      " |  __radd__(self, value, /)\n",
      " |      Return value+self.\n",
      " |\n",
      " |  __rdivmod__(self, value, /)\n",
      " |      Return divmod(value, self).\n",
      " |\n",
      " |  __repr__(self, /)\n",
      " |      Return repr(self).\n",
      " |\n",
      " |  __rfloordiv__(self, value, /)\n",
      " |      Return value//self.\n",
      " |\n",
      " |  __rmod__(self, value, /)\n",
      " |      Return value%self.\n",
      " |\n",
      " |  __rmul__(self, value, /)\n",
      " |      Return value*self.\n",
      " |\n",
      " |  __round__(self, ndigits=None, /)\n",
      " |      Return the Integral closest to x, rounding half toward even.\n",
      " |\n",
      " |      When an argument is passed, work like built-in round(x, ndigits).\n",
      " |\n",
      " |  __rpow__(self, value, mod=None, /)\n",
      " |      Return pow(value, self, mod).\n",
      " |\n",
      " |  __rsub__(self, value, /)\n",
      " |      Return value-self.\n",
      " |\n",
      " |  __rtruediv__(self, value, /)\n",
      " |      Return value/self.\n",
      " |\n",
      " |  __sub__(self, value, /)\n",
      " |      Return self-value.\n",
      " |\n",
      " |  __truediv__(self, value, /)\n",
      " |      Return self/value.\n",
      " |\n",
      " |  __trunc__(self, /)\n",
      " |      Return the Integral closest to x between 0 and x.\n",
      " |\n",
      " |  as_integer_ratio(self, /)\n",
      " |      Return a pair of integers, whose ratio is exactly equal to the original float.\n",
      " |\n",
      " |      The ratio is in lowest terms and has a positive denominator.  Raise\n",
      " |      OverflowError on infinities and a ValueError on NaNs.\n",
      " |\n",
      " |      >>> (10.0).as_integer_ratio()\n",
      " |      (10, 1)\n",
      " |      >>> (0.0).as_integer_ratio()\n",
      " |      (0, 1)\n",
      " |      >>> (-.25).as_integer_ratio()\n",
      " |      (-1, 4)\n",
      " |\n",
      " |  conjugate(self, /)\n",
      " |      Return self, the complex conjugate of any float.\n",
      " |\n",
      " |  hex(self, /)\n",
      " |      Return a hexadecimal representation of a floating-point number.\n",
      " |\n",
      " |      >>> (-0.1).hex()\n",
      " |      '-0x1.999999999999ap-4'\n",
      " |      >>> 3.14159.hex()\n",
      " |      '0x1.921f9f01b866ep+1'\n",
      " |\n",
      " |  is_integer(self, /)\n",
      " |      Return True if the float is an integer.\n",
      " |\n",
      " |  ----------------------------------------------------------------------\n",
      " |  Class methods defined here:\n",
      " |\n",
      " |  __getformat__(typestr, /) from builtins.type\n",
      " |      You probably don't want to use this function.\n",
      " |\n",
      " |        typestr\n",
      " |          Must be 'double' or 'float'.\n",
      " |\n",
      " |      It exists mainly to be used in Python's test suite.\n",
      " |\n",
      " |      This function returns whichever of 'unknown', 'IEEE, big-endian' or 'IEEE,\n",
      " |      little-endian' best describes the format of floating point numbers used by the\n",
      " |      C type named by typestr.\n",
      " |\n",
      " |  fromhex(string, /) from builtins.type\n",
      " |      Create a floating-point number from a hexadecimal string.\n",
      " |\n",
      " |      >>> float.fromhex('0x1.ffffp10')\n",
      " |      2047.984375\n",
      " |      >>> float.fromhex('-0x1p-1074')\n",
      " |      -5e-324\n",
      " |\n",
      " |  ----------------------------------------------------------------------\n",
      " |  Static methods defined here:\n",
      " |\n",
      " |  __new__(*args, **kwargs) from builtins.type\n",
      " |      Create and return a new object.  See help(type) for accurate signature.\n",
      " |\n",
      " |  ----------------------------------------------------------------------\n",
      " |  Data descriptors defined here:\n",
      " |\n",
      " |  imag\n",
      " |      the imaginary part of a complex number\n",
      " |\n",
      " |  real\n",
      " |      the real part of a complex number\n",
      "\n"
     ]
    }
   ],
   "source": [
    "help(float) #not user friendly"
   ]
  },
  {
   "attachments": {},
   "cell_type": "markdown",
   "id": "fc0f1558",
   "metadata": {},
   "source": [
    "## References"
   ]
  },
  {
   "attachments": {},
   "cell_type": "markdown",
   "id": "875f1d67",
   "metadata": {},
   "source": [
    "## Footnotes"
   ]
  }
 ],
 "metadata": {
  "kernelspec": {
   "display_name": "Python 3 (ipykernel)",
   "language": "python",
   "name": "python3"
  },
  "language_info": {
   "codemirror_mode": {
    "name": "ipython",
    "version": 3
   },
   "file_extension": ".py",
   "mimetype": "text/x-python",
   "name": "python",
   "nbconvert_exporter": "python",
   "pygments_lexer": "ipython3",
   "version": "3.12.1"
  },
  "toc": {
   "base_numbering": 1,
   "nav_menu": {},
   "number_sections": true,
   "sideBar": true,
   "skip_h1_title": false,
   "title_cell": "Table of Contents",
   "title_sidebar": "Contents",
   "toc_cell": false,
   "toc_position": {},
   "toc_section_display": true,
   "toc_window_display": false
  },
  "vscode": {
   "interpreter": {
    "hash": "31f2aee4e71d21fbe5cf8b01ff0e069b9275f58929596ceb00d14d90e3e16cd6"
   }
  }
 },
 "nbformat": 4,
 "nbformat_minor": 5
}
