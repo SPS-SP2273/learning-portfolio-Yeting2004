{
 "cells": [
  {
   "attachments": {},
   "cell_type": "markdown",
   "id": "123456",
   "metadata": {},
   "source": [
    "<div style=\"text-align:left;font-size:2em\"><span style=\"font-weight:bolder;font-size:1.25em\">SP2273 | Learning Portfolio</span><br><br><span style=\"font-weight:bold;color:darkred\">Fundamentals (Need)</span></div>"
   ]
  },
  {
   "attachments": {},
   "cell_type": "markdown",
   "id": "5856df95",
   "metadata": {},
   "source": [
    "# What to expect in this chapter"
   ]
  },
  {
   "attachments": {},
   "cell_type": "markdown",
   "id": "0989e665",
   "metadata": {},
   "source": [
    "# 1 Functions"
   ]
  },
  {
   "cell_type": "code",
   "execution_count": 1,
   "id": "57b23c25-b0dd-4ff8-9a07-1ba847fa44e1",
   "metadata": {},
   "outputs": [
    {
     "name": "stdout",
     "output_type": "stream",
     "text": [
      "pony\n"
     ]
    }
   ],
   "source": [
    "print(\"pony\")"
   ]
  },
  {
   "cell_type": "markdown",
   "id": "5227f524-a81e-45d9-89e7-486a530cfb95",
   "metadata": {},
   "source": [
    "Use `print(\"pony\")` as an example:"
   ]
  },
  {
   "cell_type": "markdown",
   "id": "ad2bb4dd-321b-4471-9f8d-e3e9d05f784d",
   "metadata": {},
   "source": [
    "Print () is a **function**"
   ]
  },
  {
   "cell_type": "markdown",
   "id": "b273a6bd-14fd-4872-b173-d6352093c82f",
   "metadata": {},
   "source": [
    "pony is an **argument**"
   ]
  },
  {
   "cell_type": "markdown",
   "id": "431ca248-1cdc-4eb3-9eec-0df4941e57c7",
   "metadata": {},
   "source": [
    "() is after a function"
   ]
  },
  {
   "cell_type": "markdown",
   "id": "b11d6d6b-1955-4abf-9c8f-550d5a2c405a",
   "metadata": {},
   "source": [
    "print() is an inbulit function of python"
   ]
  },
  {
   "attachments": {},
   "cell_type": "markdown",
   "id": "88b7a206",
   "metadata": {},
   "source": [
    "# 2 Remember"
   ]
  },
  {
   "cell_type": "markdown",
   "id": "7feddfa9-4f74-4bd6-b133-454b7482967c",
   "metadata": {},
   "source": [
    "- functions perform specific task\n",
    "- might/might not accept argument\n",
    "- can define own function (no inbuilt into python)"
   ]
  },
  {
   "attachments": {},
   "cell_type": "markdown",
   "id": "d1b771c0",
   "metadata": {},
   "source": [
    "# 3 Python is interpreted"
   ]
  },
  {
   "cell_type": "markdown",
   "id": "75a84411-3978-4855-9425-e8bd88350b07",
   "metadata": {},
   "source": [
    "Python works **one line at a time**"
   ]
  },
  {
   "cell_type": "code",
   "execution_count": 2,
   "id": "b52a270d-3191-4226-b223-7938307a6fe3",
   "metadata": {},
   "outputs": [
    {
     "name": "stdout",
     "output_type": "stream",
     "text": [
      "pony\n",
      "pony eats grass\n"
     ]
    }
   ],
   "source": [
    "print(\"pony\")\n",
    "print (\"pony eats grass\")"
   ]
  },
  {
   "attachments": {},
   "cell_type": "markdown",
   "id": "41a29d77",
   "metadata": {},
   "source": [
    "# 4 Python is sensitive."
   ]
  },
  {
   "cell_type": "markdown",
   "id": "597d25d1-67ff-4dec-bc22-064f3f036dfb",
   "metadata": {},
   "source": [
    "Python is **case sensitive**"
   ]
  },
  {
   "cell_type": "code",
   "execution_count": 5,
   "id": "4c84623e-579f-4352-bf9c-9f08cf7d9ad1",
   "metadata": {},
   "outputs": [
    {
     "name": "stdout",
     "output_type": "stream",
     "text": [
      "pony\n"
     ]
    },
    {
     "ename": "NameError",
     "evalue": "name 'Print' is not defined",
     "output_type": "error",
     "traceback": [
      "\u001b[1;31m---------------------------------------------------------------------------\u001b[0m",
      "\u001b[1;31mNameError\u001b[0m                                 Traceback (most recent call last)",
      "Cell \u001b[1;32mIn[5], line 2\u001b[0m\n\u001b[0;32m      1\u001b[0m \u001b[38;5;28mprint\u001b[39m(\u001b[38;5;124m\"\u001b[39m\u001b[38;5;124mpony\u001b[39m\u001b[38;5;124m\"\u001b[39m) \u001b[38;5;66;03m#ok\u001b[39;00m\n\u001b[1;32m----> 2\u001b[0m \u001b[43mPrint\u001b[49m (\u001b[38;5;124m\"\u001b[39m\u001b[38;5;124mpony\u001b[39m\u001b[38;5;124m\"\u001b[39m) \u001b[38;5;66;03m#not ok\u001b[39;00m\n",
      "\u001b[1;31mNameError\u001b[0m: name 'Print' is not defined"
     ]
    }
   ],
   "source": [
    "print(\"pony\") #ok\n",
    "Print (\"pony\") #not ok"
   ]
  },
  {
   "attachments": {},
   "cell_type": "markdown",
   "id": "6afd36cf",
   "metadata": {},
   "source": [
    "# 5 Remember"
   ]
  },
  {
   "cell_type": "markdown",
   "id": "2f172cd9-bef3-4443-a2db-c8a0f37adf10",
   "metadata": {},
   "source": [
    "Python is case sensitive"
   ]
  },
  {
   "attachments": {},
   "cell_type": "markdown",
   "id": "b2ae2416",
   "metadata": {},
   "source": [
    "# 6 Comments"
   ]
  },
  {
   "cell_type": "markdown",
   "id": "97b95564-cc95-4037-99c7-9a9513247944",
   "metadata": {},
   "source": [
    "Use # to write comments within a code"
   ]
  },
  {
   "cell_type": "markdown",
   "id": "10e034e6-a042-4eb4-9d00-ee1c51f6fd98",
   "metadata": {},
   "source": [
    "- python ignore comments\n",
    "- comment from start of # to end of comment"
   ]
  },
  {
   "cell_type": "code",
   "execution_count": 7,
   "id": "f4691630-8b32-4cb4-98ab-f0662782aeff",
   "metadata": {},
   "outputs": [
    {
     "name": "stdout",
     "output_type": "stream",
     "text": [
      "pony\n"
     ]
    }
   ],
   "source": [
    "print(\"pony\") #printing pony as an output (this is a redundant comment)"
   ]
  },
  {
   "attachments": {},
   "cell_type": "markdown",
   "id": "8a49f537",
   "metadata": {},
   "source": [
    "# 7 Remember"
   ]
  },
  {
   "attachments": {},
   "cell_type": "markdown",
   "id": "0c701354",
   "metadata": {},
   "source": [
    "# 8 = is not the same as =="
   ]
  },
  {
   "cell_type": "markdown",
   "id": "5d7f9c47-cc50-4541-93e1-a21d4cf820c0",
   "metadata": {},
   "source": [
    "One equal sign is set to variable equal to something:"
   ]
  },
  {
   "cell_type": "code",
   "execution_count": 32,
   "id": "c716e61f-9846-4614-97e2-87f687081132",
   "metadata": {},
   "outputs": [],
   "source": [
    "animal = 'pony'"
   ]
  },
  {
   "cell_type": "markdown",
   "id": "c27602c9-646b-4682-b13c-de230d5cbe83",
   "metadata": {},
   "source": [
    "Two equal signs is to check if something is equal:"
   ]
  },
  {
   "cell_type": "code",
   "execution_count": 34,
   "id": "f6cf4217-2aae-4872-8631-55a7d96156f6",
   "metadata": {},
   "outputs": [
    {
     "data": {
      "text/plain": [
       "True"
      ]
     },
     "execution_count": 34,
     "metadata": {},
     "output_type": "execute_result"
    }
   ],
   "source": [
    "animal == 'pony'\n"
   ]
  },
  {
   "cell_type": "code",
   "execution_count": 35,
   "id": "18597019-1bf5-42ab-a837-96352b2302ea",
   "metadata": {},
   "outputs": [
    {
     "data": {
      "text/plain": [
       "False"
      ]
     },
     "execution_count": 35,
     "metadata": {},
     "output_type": "execute_result"
    }
   ],
   "source": [
    "animal == 'horse'"
   ]
  },
  {
   "attachments": {},
   "cell_type": "markdown",
   "id": "0de24cb8",
   "metadata": {},
   "source": [
    "# 9 Remember"
   ]
  },
  {
   "attachments": {},
   "cell_type": "markdown",
   "id": "ea271560",
   "metadata": {},
   "source": [
    "# 10 Use if to make decisions"
   ]
  },
  {
   "cell_type": "markdown",
   "id": "3b533322-3b3b-45d0-8d62-ce2bb081e6a3",
   "metadata": {},
   "source": [
    "**if** tests a statement:"
   ]
  },
  {
   "cell_type": "markdown",
   "id": "c6d47636-1d36-4336-abbc-0e714290fc14",
   "metadata": {},
   "source": [
    "If test is true, the identation created below (code of block) will be the output"
   ]
  },
  {
   "cell_type": "markdown",
   "id": "28b27e38-f1f3-44f1-b087-eea5ed2ad3f8",
   "metadata": {},
   "source": [
    "If test is false, the **else** output will be the output"
   ]
  },
  {
   "cell_type": "code",
   "execution_count": 17,
   "id": "d5e4ef9c-2e6a-4fb4-a4fd-119309bee511",
   "metadata": {},
   "outputs": [
    {
     "name": "stdout",
     "output_type": "stream",
     "text": [
      "pony likes grass\n",
      "feed pony grass\n"
     ]
    }
   ],
   "source": [
    "animal = 'pony'\n",
    "\n",
    "if animal == 'pony':\n",
    "    print('pony likes grass')\n",
    "    print ('feed pony grass')\n",
    "else:\n",
    "    print('goat likes grass')"
   ]
  },
  {
   "cell_type": "code",
   "execution_count": 18,
   "id": "6896052a-7890-4b45-bc72-beb8862260dc",
   "metadata": {},
   "outputs": [
    {
     "name": "stdout",
     "output_type": "stream",
     "text": [
      "goat likes grass\n"
     ]
    }
   ],
   "source": [
    "animal = 'goat'\n",
    "\n",
    "if animal == 'pony':\n",
    "    print('pony likes grass')\n",
    "    print('feed pony grass')\n",
    "else:\n",
    "    print('goat likes grass')"
   ]
  },
  {
   "attachments": {},
   "cell_type": "markdown",
   "id": "252453eb",
   "metadata": {},
   "source": [
    "# 11 Remember"
   ]
  },
  {
   "cell_type": "markdown",
   "id": "fc1c3c25-63ef-4dd8-a2f2-69d8e8e114e2",
   "metadata": {},
   "source": [
    "Use if to make decisions"
   ]
  },
  {
   "attachments": {},
   "cell_type": "markdown",
   "id": "098239f5",
   "metadata": {},
   "source": [
    "# 12 Indentations (spaces) are sooo IMPORTANT!"
   ]
  },
  {
   "cell_type": "markdown",
   "id": "95fdfaf3-60d2-4b41-8169-62062e80feda",
   "metadata": {},
   "source": [
    "If extra identations added, there will be errors when running the code:"
   ]
  },
  {
   "cell_type": "code",
   "execution_count": 19,
   "id": "9c83b04a-a214-4e5e-9bcc-f1cc9f37f983",
   "metadata": {},
   "outputs": [
    {
     "ename": "IndentationError",
     "evalue": "unexpected indent (2787184274.py, line 2)",
     "output_type": "error",
     "traceback": [
      "\u001b[1;36m  Cell \u001b[1;32mIn[19], line 2\u001b[1;36m\u001b[0m\n\u001b[1;33m    print('pony likes spaces')\u001b[0m\n\u001b[1;37m    ^\u001b[0m\n\u001b[1;31mIndentationError\u001b[0m\u001b[1;31m:\u001b[0m unexpected indent\n"
     ]
    }
   ],
   "source": [
    "print('pony')\n",
    " print('pony likes spaces')"
   ]
  },
  {
   "attachments": {},
   "cell_type": "markdown",
   "id": "5f20faa2",
   "metadata": {},
   "source": [
    "# 13 Remember"
   ]
  },
  {
   "cell_type": "markdown",
   "id": "4c5b76b4-f20d-4e53-9e43-d26d7191935f",
   "metadata": {},
   "source": [
    "Don't anyhow use spaces and identations\n",
    "Use tabs instead"
   ]
  },
  {
   "attachments": {},
   "cell_type": "markdown",
   "id": "9075bc5d",
   "metadata": {},
   "source": [
    "# 14 ‘age’ is English, age is a variable."
   ]
  },
  {
   "cell_type": "markdown",
   "id": "d4d7d700-e93f-4168-b52c-fd2466b78741",
   "metadata": {},
   "source": [
    "Name variables such that they are descriptive"
   ]
  },
  {
   "cell_type": "code",
   "execution_count": 20,
   "id": "a56203c8-ddec-4b95-85db-64112d85eefd",
   "metadata": {},
   "outputs": [],
   "source": [
    "pony_number = 150"
   ]
  },
  {
   "cell_type": "markdown",
   "id": "fed31acd-3553-46b1-8dbc-209a9e4995d9",
   "metadata": {},
   "source": [
    "You can use one quatation marks or two, just be consistent"
   ]
  },
  {
   "cell_type": "code",
   "execution_count": 24,
   "id": "8cf414d9-8edc-403b-aa83-0271aff1d6d7",
   "metadata": {},
   "outputs": [
    {
     "name": "stdout",
     "output_type": "stream",
     "text": [
      "pony_number\n",
      "150\n"
     ]
    }
   ],
   "source": [
    "print(\"pony_number\")  # 1/2 Quotation marks will print English word\n",
    "print(pony_number) # No quotation marks will print variable value"
   ]
  },
  {
   "attachments": {},
   "cell_type": "markdown",
   "id": "3e2ba371",
   "metadata": {},
   "source": [
    "# 15 Brackets"
   ]
  },
  {
   "cell_type": "markdown",
   "id": "e19edef5-9b54-465c-be04-502a7e1030d8",
   "metadata": {},
   "source": [
    "### Use () for functions and math:"
   ]
  },
  {
   "cell_type": "code",
   "execution_count": 30,
   "id": "906f5583-ef8c-4c22-a4d8-f69d62d0208a",
   "metadata": {},
   "outputs": [
    {
     "name": "stdout",
     "output_type": "stream",
     "text": [
      "pony\n"
     ]
    },
    {
     "data": {
      "text/plain": [
       "36"
      ]
     },
     "execution_count": 30,
     "metadata": {},
     "output_type": "execute_result"
    }
   ],
   "source": [
    "print('pony')\n",
    "(4+(1*8))*3 #cannot use []"
   ]
  },
  {
   "cell_type": "markdown",
   "id": "cc320b26-f46c-4e42-a033-d63745baa90b",
   "metadata": {},
   "source": [
    "### Use [] for lists"
   ]
  },
  {
   "cell_type": "markdown",
   "id": "0dc1848a-b9e2-4d5a-90f6-cfa3cd63edde",
   "metadata": {},
   "source": [
    "#### for 1D lists:"
   ]
  },
  {
   "cell_type": "code",
   "execution_count": 40,
   "id": "e9296b1e-d8b2-45ee-b48b-c68525902835",
   "metadata": {},
   "outputs": [
    {
     "name": "stdout",
     "output_type": "stream",
     "text": [
      "[1, 2, 3, 4, 5]\n",
      "1\n",
      "2\n"
     ]
    }
   ],
   "source": [
    "pony_labelling = [1, 2, 3, 4, 5]\n",
    "print(pony_labelling)\n",
    "print(pony_labelling[0]) #Print first number of list\n",
    "print(pony_labelling[1]) #Print second number of list"
   ]
  },
  {
   "cell_type": "markdown",
   "id": "a069d2e3-5ed5-4b1b-b0f7-28104cf1999c",
   "metadata": {},
   "source": [
    "#### for 2D lists:"
   ]
  },
  {
   "cell_type": "code",
   "execution_count": 46,
   "id": "8a5d55bc-9285-45ac-a2b1-e4e9e31c6140",
   "metadata": {},
   "outputs": [
    {
     "name": "stdout",
     "output_type": "stream",
     "text": [
      "[[1, 'brown'], [2, 'beige'], [3, 'black']]\n",
      "[1, 'brown']\n",
      "[2, 'beige']\n"
     ]
    }
   ],
   "source": [
    "pony_labelling_2d = [\n",
    "                        [1, \"brown\"],\n",
    "                        [2, \"beige\"],\n",
    "                        [3, \"black\"]\n",
    "                    ]\n",
    "print(pony_labelling_2d)\n",
    "print(pony_labelling_2d[0]) #Print first line from list\n",
    "print(pony_labelling_2d[1]) #Print second line from list"
   ]
  },
  {
   "cell_type": "markdown",
   "id": "21607eae-3a41-4a35-bc4a-f53a95caa97b",
   "metadata": {},
   "source": [
    "### Use {} for dictonary to store data"
   ]
  },
  {
   "cell_type": "code",
   "execution_count": 50,
   "id": "1a630368-aa75-4e17-af2b-40b358474b66",
   "metadata": {},
   "outputs": [
    {
     "name": "stdout",
     "output_type": "stream",
     "text": [
      "fast horse\n",
      "medium horse\n"
     ]
    }
   ],
   "source": [
    "pony_names = {\n",
    "    'benny' : 'fast horse', #benny is key, fast horse is value\n",
    "    'john' : 'medium horse',\n",
    "    'sammy' : 'slow horse'\n",
    "}\n",
    "print(pony_names['benny'])\n",
    "print(pony_names['john'])"
   ]
  },
  {
   "attachments": {},
   "cell_type": "markdown",
   "id": "25ef6d28",
   "metadata": {},
   "source": [
    "# 16 Giving Python superpowers with Packages"
   ]
  },
  {
   "attachments": {},
   "cell_type": "markdown",
   "id": "89952577",
   "metadata": {},
   "source": [
    "## 16.1 Some Context"
   ]
  },
  {
   "cell_type": "markdown",
   "id": "d1dbe975-6e54-405f-9065-96e9230cd03f",
   "metadata": {},
   "source": [
    "Basic Python is limited:"
   ]
  },
  {
   "cell_type": "code",
   "execution_count": 51,
   "id": "ce6aaba0-03f2-4585-af82-2b6e35d1c142",
   "metadata": {},
   "outputs": [
    {
     "data": {
      "text/plain": [
       "42"
      ]
     },
     "execution_count": 51,
     "metadata": {},
     "output_type": "execute_result"
    }
   ],
   "source": [
    "6*(5+2) #Basic Python can complete"
   ]
  },
  {
   "cell_type": "code",
   "execution_count": 53,
   "id": "534a648e-ed28-4221-98c6-b66acd78be74",
   "metadata": {},
   "outputs": [
    {
     "ename": "NameError",
     "evalue": "name 'sqrt' is not defined",
     "output_type": "error",
     "traceback": [
      "\u001b[1;31m---------------------------------------------------------------------------\u001b[0m",
      "\u001b[1;31mNameError\u001b[0m                                 Traceback (most recent call last)",
      "Cell \u001b[1;32mIn[53], line 1\u001b[0m\n\u001b[1;32m----> 1\u001b[0m \u001b[43msqrt\u001b[49m(\u001b[38;5;241m1\u001b[39m) \u001b[38;5;66;03m#Basic Python cannot complete\u001b[39;00m\n",
      "\u001b[1;31mNameError\u001b[0m: name 'sqrt' is not defined"
     ]
    }
   ],
   "source": [
    "sqrt(1) #Basic Python cannot complete"
   ]
  },
  {
   "attachments": {},
   "cell_type": "markdown",
   "id": "6a6b0112",
   "metadata": {},
   "source": [
    "## 16.2 Importing the math package"
   ]
  },
  {
   "cell_type": "markdown",
   "id": "86c169c0-f282-4094-804f-e03d730d2ce0",
   "metadata": {},
   "source": [
    "Need to import **math package** to get sqrt function"
   ]
  },
  {
   "cell_type": "code",
   "execution_count": 13,
   "id": "dbdef47a-b220-4725-bd65-66dca2119f3a",
   "metadata": {},
   "outputs": [
    {
     "data": {
      "text/plain": [
       "1.0"
      ]
     },
     "execution_count": 13,
     "metadata": {},
     "output_type": "execute_result"
    }
   ],
   "source": [
    "import math #import math package\n",
    "math.sqrt(1)"
   ]
  },
  {
   "attachments": {},
   "cell_type": "markdown",
   "id": "e993ed3c",
   "metadata": {},
   "source": [
    "## 16.3 Importing the numpy package"
   ]
  },
  {
   "cell_type": "code",
   "execution_count": 7,
   "id": "5a0eefcf-400b-4df9-aeff-78a4a2386d29",
   "metadata": {},
   "outputs": [
    {
     "data": {
      "text/plain": [
       "2.0"
      ]
     },
     "execution_count": 7,
     "metadata": {},
     "output_type": "execute_result"
    }
   ],
   "source": [
    "import numpy as nm #importing numpy package and giving alias of num\n",
    "nm.sqrt(4)"
   ]
  },
  {
   "attachments": {},
   "cell_type": "markdown",
   "id": "b7f642bf",
   "metadata": {},
   "source": [
    "## 16.4 Why so many packages?"
   ]
  },
  {
   "cell_type": "markdown",
   "id": "9283bdfe-02f8-4c71-b5b4-b54c3cf828bc",
   "metadata": {},
   "source": [
    "numpy can handle list of functions, different packages has different functions"
   ]
  },
  {
   "cell_type": "code",
   "execution_count": 9,
   "id": "ebdd842c-6a9a-4ff7-9a0c-2d13a16eeab7",
   "metadata": {},
   "outputs": [
    {
     "data": {
      "text/plain": [
       "array([ 4.,  9., 10.])"
      ]
     },
     "execution_count": 9,
     "metadata": {},
     "output_type": "execute_result"
    }
   ],
   "source": [
    "nm.sqrt([16, 81, 100])"
   ]
  },
  {
   "attachments": {},
   "cell_type": "markdown",
   "id": "ad8aef28",
   "metadata": {},
   "source": [
    "# 17 Remember"
   ]
  },
  {
   "cell_type": "markdown",
   "id": "2aa4aebf-f68c-4a21-b56f-bb52d98663d1",
   "metadata": {},
   "source": [
    "- only to import packages once\n",
    "- can import w/ or w/out alias\n",
    "- packages give python a new function"
   ]
  },
  {
   "attachments": {},
   "cell_type": "markdown",
   "id": "acf04529",
   "metadata": {},
   "source": [
    "# 18 The dot (.)"
   ]
  },
  {
   "cell_type": "markdown",
   "id": "56c4e162-c389-4d32-af0a-63999de5068e",
   "metadata": {},
   "source": [
    "\".\" indicates ownership"
   ]
  },
  {
   "cell_type": "code",
   "execution_count": 14,
   "id": "ded82171-e01f-4128-9358-80239db4b47d",
   "metadata": {},
   "outputs": [
    {
     "data": {
      "text/plain": [
       "10.0"
      ]
     },
     "execution_count": 14,
     "metadata": {},
     "output_type": "execute_result"
    }
   ],
   "source": [
    "math.sqrt(1) #Function belongs to math module\n",
    "nm.sqrt(100) #Function belongs to numpy module"
   ]
  },
  {
   "cell_type": "markdown",
   "id": "df879f69-9125-4632-a05b-2542cc6c901a",
   "metadata": {},
   "source": [
    "Different functions has different attributes, and thus different things that belong to them"
   ]
  },
  {
   "cell_type": "markdown",
   "id": "27a696a5-e25e-480b-86dc-370194dccb95",
   "metadata": {},
   "source": [
    "**Access them using the dot**"
   ]
  },
  {
   "cell_type": "code",
   "execution_count": 19,
   "id": "cb5b3fcd-74ad-4de4-a510-3f7e72412d43",
   "metadata": {},
   "outputs": [
    {
     "data": {
      "text/plain": [
       "['horses', 'like', 'grass']"
      ]
     },
     "execution_count": 19,
     "metadata": {},
     "output_type": "execute_result"
    }
   ],
   "source": [
    "\"horses like grass\".split() \n"
   ]
  },
  {
   "cell_type": "code",
   "execution_count": 20,
   "id": "19087da8-8591-4a69-89bd-97dbb6393040",
   "metadata": {},
   "outputs": [
    {
     "ename": "SyntaxError",
     "evalue": "invalid decimal literal (4169088293.py, line 1)",
     "output_type": "error",
     "traceback": [
      "\u001b[1;36m  Cell \u001b[1;32mIn[20], line 1\u001b[1;36m\u001b[0m\n\u001b[1;33m    4567.spilt() #does not work because its numbers\u001b[0m\n\u001b[1;37m        ^\u001b[0m\n\u001b[1;31mSyntaxError\u001b[0m\u001b[1;31m:\u001b[0m invalid decimal literal\n"
     ]
    }
   ],
   "source": [
    "4567.spilt() #does not work because its numbers"
   ]
  },
  {
   "cell_type": "code",
   "execution_count": 23,
   "id": "54879782-dd57-4790-9c39-952ae23e782f",
   "metadata": {},
   "outputs": [
    {
     "data": {
      "text/plain": [
       "5.0"
      ]
     },
     "execution_count": 23,
     "metadata": {},
     "output_type": "execute_result"
    }
   ],
   "source": [
    "x=2j+5 #j is complex number\n",
    "x.real #access real number to find the value"
   ]
  },
  {
   "cell_type": "code",
   "execution_count": 28,
   "id": "3ce7a734-0fa7-457b-b8ef-b331bdc4a5f7",
   "metadata": {},
   "outputs": [
    {
     "data": {
      "text/plain": [
       "2.0"
      ]
     },
     "execution_count": 28,
     "metadata": {},
     "output_type": "execute_result"
    }
   ],
   "source": [
    "x=2j+5\n",
    "x.imag #access an imaginary number to find the value"
   ]
  },
  {
   "attachments": {},
   "cell_type": "markdown",
   "id": "a73779f3",
   "metadata": {},
   "source": [
    "# 19 Remember"
   ]
  },
  {
   "cell_type": "markdown",
   "id": "27292309-a232-4660-93a7-d977e2629c97",
   "metadata": {},
   "source": [
    "- dot indicates ownership\n",
    "- what it can access depend on context (numbers, letters etc.)"
   ]
  },
  {
   "attachments": {},
   "cell_type": "markdown",
   "id": "cb0db209",
   "metadata": {},
   "source": [
    "## Footnotes"
   ]
  }
 ],
 "metadata": {
  "kernelspec": {
   "display_name": "Python 3 (ipykernel)",
   "language": "python",
   "name": "python3"
  },
  "language_info": {
   "codemirror_mode": {
    "name": "ipython",
    "version": 3
   },
   "file_extension": ".py",
   "mimetype": "text/x-python",
   "name": "python",
   "nbconvert_exporter": "python",
   "pygments_lexer": "ipython3",
   "version": "3.12.1"
  },
  "toc": {
   "base_numbering": 1,
   "nav_menu": {},
   "number_sections": true,
   "sideBar": true,
   "skip_h1_title": false,
   "title_cell": "Table of Contents",
   "title_sidebar": "Contents",
   "toc_cell": false,
   "toc_position": {},
   "toc_section_display": true,
   "toc_window_display": false
  },
  "vscode": {
   "interpreter": {
    "hash": "31f2aee4e71d21fbe5cf8b01ff0e069b9275f58929596ceb00d14d90e3e16cd6"
   }
  }
 },
 "nbformat": 4,
 "nbformat_minor": 5
}
