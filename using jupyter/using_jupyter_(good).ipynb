{
 "cells": [
  {
   "attachments": {},
   "cell_type": "markdown",
   "id": "123456",
   "metadata": {},
   "source": [
    "<div style=\"text-align:left;font-size:2em\"><span style=\"font-weight:bolder;font-size:1.25em\">SP2273 | Learning Portfolio</span><br><br><span style=\"font-weight:bold;color:darkred\">Using Jupyter (Good)</span></div>"
   ]
  },
  {
   "attachments": {},
   "cell_type": "markdown",
   "id": "22dc0f9b",
   "metadata": {},
   "source": [
    "# What to expect in this chapter"
   ]
  },
  {
   "cell_type": "markdown",
   "id": "be0bd233-85e9-4ced-8009-bade95ddc8ed",
   "metadata": {},
   "source": [
    "Optimise and more efficiently use jupyter notebook"
   ]
  },
  {
   "attachments": {},
   "cell_type": "markdown",
   "id": "94cbb593",
   "metadata": {},
   "source": [
    "# 1 Some tips and tricks"
   ]
  },
  {
   "attachments": {},
   "cell_type": "markdown",
   "id": "42444480",
   "metadata": {},
   "source": [
    "## 1.1 Keyboard Shortcuts"
   ]
  },
  {
   "cell_type": "markdown",
   "id": "b1a784b1-e06d-46b4-b443-ed366ac663ea",
   "metadata": {},
   "source": [
    "ESC puts Jupyter into command mode, ready for a command, not code or text."
   ]
  },
  {
   "cell_type": "markdown",
   "id": "1d9ab0f0-30b8-4087-a987-bbae77192508",
   "metadata": {},
   "source": [
    "| Action                        |             Shortcut            |\n",
    "|-------------------------------|:-------------------------------:|\n",
    "| Run cell                      |   CTRL + ENTER or CMD + ENTER   |\n",
    "| Run cell and move to the next |          SHIFT + ENTER          |\n",
    "| Convert cell to code cell     |             ESC + Y             |\n",
    "| Convert cell to Markdown cell |             ESC + M             |\n",
    "| Create new cell               | ESC + A (above) ESC + B (below) |\n",
    "| Copy cell(s)                  |             ESC + C             |\n",
    "| Paste cell(s)                 |             ESC + V             |\n",
    "| Merge cells                   |            SHIFT + M            |\n",
    "| Delete cell                   |           ESC + D + D           |\n",
    "| Show shortcuts                |             ESC + H             |"
   ]
  },
  {
   "attachments": {},
   "cell_type": "markdown",
   "id": "07c73a58",
   "metadata": {},
   "source": [
    "### Things to note"
   ]
  },
  {
   "cell_type": "markdown",
   "id": "9eb3cc48-bc22-4fb3-9de6-4b292df6ce0d",
   "metadata": {},
   "source": [
    "- select >1 cell using shift and up and down arrow keys\n",
    "- careful with delete shortcut (esc + D + D)\n",
    "- view shortcuts using esc + H"
   ]
  },
  {
   "attachments": {},
   "cell_type": "markdown",
   "id": "775d4fa3",
   "metadata": {},
   "source": [
    "## 1.2 Shell commands"
   ]
  },
  {
   "cell_type": "markdown",
   "id": "9ff24c45-ec88-4922-b866-37b07d08e546",
   "metadata": {},
   "source": [
    "Run ‘terminal’ commands (called shell commands) from Jupyter by adding ! in front of the command."
   ]
  },
  {
   "cell_type": "markdown",
   "id": "5aad046c-dca0-4bc1-869a-a43329dea421",
   "metadata": {},
   "source": [
    "Print working directory:"
   ]
  },
  {
   "cell_type": "code",
   "execution_count": 3,
   "id": "d970aa01-94bd-42e0-9888-ed743f1cd949",
   "metadata": {},
   "outputs": [
    {
     "name": "stdout",
     "output_type": "stream",
     "text": [
      "C:\\Users\\awyet\\OneDrive\\Documents\\NUS\\Y1S2\\SP2273\\learning-portfolio-Yeting2004\\using jupyter\n"
     ]
    }
   ],
   "source": [
    "!cd"
   ]
  },
  {
   "cell_type": "markdown",
   "id": "73071854-f05e-41fb-b494-06e084dd84ad",
   "metadata": {},
   "source": [
    "List of all files:"
   ]
  },
  {
   "cell_type": "code",
   "execution_count": 4,
   "id": "368d87d6-abe2-4fa8-90c7-5dd08303f56f",
   "metadata": {},
   "outputs": [
    {
     "name": "stdout",
     "output_type": "stream",
     "text": [
      " Volume in drive C is Windows\n",
      " Volume Serial Number is D2A9-83DA\n",
      "\n",
      " Directory of C:\\Users\\awyet\\OneDrive\\Documents\\NUS\\Y1S2\\SP2273\\learning-portfolio-Yeting2004\\using jupyter\n",
      "\n",
      "26/01/2024  08:25 PM    <DIR>          .\n",
      "26/01/2024  08:25 PM    <DIR>          ..\n",
      "26/01/2024  08:15 PM    <DIR>          .ipynb_checkpoints\n",
      "26/01/2024  08:25 PM             4,805 using_jupyter_(good).ipynb\n",
      "24/01/2024  09:04 AM            11,881 using_jupyter_(need).ipynb\n",
      "               2 File(s)         16,686 bytes\n",
      "               3 Dir(s)  676,001,452,032 bytes free\n"
     ]
    }
   ],
   "source": [
    "!dir"
   ]
  },
  {
   "attachments": {},
   "cell_type": "markdown",
   "id": "0703fe00",
   "metadata": {},
   "source": [
    "# 2 Jupyter Extensions"
   ]
  },
  {
   "attachments": {},
   "cell_type": "markdown",
   "id": "4c843be4",
   "metadata": {},
   "source": [
    "## 2.1 Installing the extensions"
   ]
  },
  {
   "attachments": {},
   "cell_type": "markdown",
   "id": "593aa90a",
   "metadata": {},
   "source": [
    "## 2.2 Enabling the extensions"
   ]
  },
  {
   "attachments": {},
   "cell_type": "markdown",
   "id": "e758665b",
   "metadata": {},
   "source": [
    "# 3 Shell Magic"
   ]
  },
  {
   "cell_type": "markdown",
   "id": "e5ba1c7d-08f1-4fc3-b7d2-cb6478e9b22e",
   "metadata": {},
   "source": [
    "**Measuring Execution time:**"
   ]
  },
  {
   "cell_type": "markdown",
   "id": "a3ed8054-6bc1-4793-b25a-6362615169e0",
   "metadata": {},
   "source": [
    "Line Magic (for single line):"
   ]
  },
  {
   "cell_type": "code",
   "execution_count": 5,
   "id": "76b3baaa-610a-46a3-a286-9388d58a5c47",
   "metadata": {},
   "outputs": [
    {
     "name": "stdout",
     "output_type": "stream",
     "text": [
      "35.2 ns ± 3.47 ns per loop (mean ± std. dev. of 7 runs, 10,000,000 loops each)\n"
     ]
    }
   ],
   "source": [
    "%timeit x=2"
   ]
  },
  {
   "cell_type": "markdown",
   "id": "b62a5b5d-0edb-46bc-b934-6bacb4af91cc",
   "metadata": {},
   "source": [
    "Cell Magic (for whole block):"
   ]
  },
  {
   "cell_type": "code",
   "execution_count": 6,
   "id": "e7ef06f2-6175-4442-a88c-1ea36520c116",
   "metadata": {},
   "outputs": [
    {
     "name": "stdout",
     "output_type": "stream",
     "text": [
      "68.5 ns ± 8.16 ns per loop (mean ± std. dev. of 7 runs, 10,000,000 loops each)\n"
     ]
    }
   ],
   "source": [
    "%%timeit \n",
    "x=1\n",
    "y=2\n",
    "z=3"
   ]
  },
  {
   "attachments": {},
   "cell_type": "markdown",
   "id": "3d250b19",
   "metadata": {},
   "source": [
    "# 4 The Kernel"
   ]
  },
  {
   "cell_type": "markdown",
   "id": "21836ceb-f4cf-4c19-acc2-2acc489073db",
   "metadata": {},
   "source": [
    "- Running a Jupyter Notebook by Kernel (sub routine).\r",
    "- I interrupt, restart, or shut down the kernel using the Kernel butt when python misbehaves.t."
   ]
  },
  {
   "attachments": {},
   "cell_type": "markdown",
   "id": "e4df057a",
   "metadata": {},
   "source": [
    "# 5 EX"
   ]
  }
 ],
 "metadata": {
  "kernelspec": {
   "display_name": "Python 3 (ipykernel)",
   "language": "python",
   "name": "python3"
  },
  "language_info": {
   "codemirror_mode": {
    "name": "ipython",
    "version": 3
   },
   "file_extension": ".py",
   "mimetype": "text/x-python",
   "name": "python",
   "nbconvert_exporter": "python",
   "pygments_lexer": "ipython3",
   "version": "3.12.1"
  },
  "toc": {
   "base_numbering": 1,
   "nav_menu": {},
   "number_sections": true,
   "sideBar": true,
   "skip_h1_title": false,
   "title_cell": "Table of Contents",
   "title_sidebar": "Contents",
   "toc_cell": false,
   "toc_position": {},
   "toc_section_display": true,
   "toc_window_display": false
  },
  "vscode": {
   "interpreter": {
    "hash": "31f2aee4e71d21fbe5cf8b01ff0e069b9275f58929596ceb00d14d90e3e16cd6"
   }
  }
 },
 "nbformat": 4,
 "nbformat_minor": 5
}
