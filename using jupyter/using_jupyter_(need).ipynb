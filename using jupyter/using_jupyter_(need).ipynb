{
 "cells": [
  {
   "attachments": {},
   "cell_type": "markdown",
   "id": "123456",
   "metadata": {},
   "source": [
    "<div style=\"text-align:left;font-size:2em\"><span style=\"font-weight:bolder;font-size:1.25em\">SP2273 | Learning Portfolio</span><br><br><span style=\"font-weight:bold;color:darkred\">Using Jupyter (Need)</span></div>"
   ]
  },
  {
   "attachments": {},
   "cell_type": "markdown",
   "id": "673345b0",
   "metadata": {},
   "source": [
    "# 1 What to expect in this chapter"
   ]
  },
  {
   "cell_type": "markdown",
   "id": "89261f48-a187-4bc8-b71d-5a82fb7f89c1",
   "metadata": {},
   "source": [
    "Learning how to use markdown"
   ]
  },
  {
   "attachments": {},
   "cell_type": "markdown",
   "id": "f74401b1",
   "metadata": {},
   "source": [
    "# 2 Getting ready"
   ]
  },
  {
   "cell_type": "markdown",
   "id": "77964aa6-be02-4f84-a38d-017a76c0df7e",
   "metadata": {},
   "source": [
    "Click new to create new notebook and rename file.\n",
    "Print ('input') and output will be input"
   ]
  },
  {
   "cell_type": "code",
   "execution_count": 1,
   "id": "91ca9cf6-615d-44c7-8b83-1382ceea7a74",
   "metadata": {},
   "outputs": [
    {
     "name": "stdout",
     "output_type": "stream",
     "text": [
      "Hello\n"
     ]
    }
   ],
   "source": [
    "print ('Hello')"
   ]
  },
  {
   "attachments": {},
   "cell_type": "markdown",
   "id": "06acbb0a",
   "metadata": {},
   "source": [
    "# 3 Getting started with Jupyter"
   ]
  },
  {
   "attachments": {},
   "cell_type": "markdown",
   "id": "6cb26c1b",
   "metadata": {},
   "source": [
    "## 3.1 It is all about running cells"
   ]
  },
  {
   "cell_type": "code",
   "execution_count": 1,
   "id": "dc8c01a8-1145-46ce-a3f2-73e87a93de6a",
   "metadata": {},
   "outputs": [
    {
     "name": "stdout",
     "output_type": "stream",
     "text": [
      "6\n"
     ]
    }
   ],
   "source": [
    "a=2\n",
    "b=3\n",
    "c=a*b\n",
    "print(c)"
   ]
  },
  {
   "cell_type": "markdown",
   "id": "28c9e2f7-1286-413c-8d53-eb0abd9f8115",
   "metadata": {},
   "source": [
    "press CMD + ENTER to run cell (shortcut)"
   ]
  },
  {
   "attachments": {},
   "cell_type": "markdown",
   "id": "c47ffabb",
   "metadata": {},
   "source": [
    "## 3.2 A traditional start"
   ]
  },
  {
   "cell_type": "markdown",
   "id": "d91a4cb3-c397-45ed-a88b-2f228e60d8fd",
   "metadata": {},
   "source": [
    "Use code cell:"
   ]
  },
  {
   "cell_type": "code",
   "execution_count": 1,
   "id": "73772579-fb73-4bb0-861b-0c0f346df962",
   "metadata": {},
   "outputs": [
    {
     "name": "stdout",
     "output_type": "stream",
     "text": [
      "Hello\n"
     ]
    }
   ],
   "source": [
    "print ('Hello')"
   ]
  },
  {
   "attachments": {},
   "cell_type": "markdown",
   "id": "e67702f7",
   "metadata": {},
   "source": [
    "# 4 All about Markdown"
   ]
  },
  {
   "cell_type": "markdown",
   "id": "6a066442-19ca-4689-b05a-266b50c1d256",
   "metadata": {},
   "source": [
    "Markdown helps to format writing"
   ]
  },
  {
   "attachments": {},
   "cell_type": "markdown",
   "id": "ed30df49",
   "metadata": {},
   "source": [
    "## 4.1 Rendering Markdown cells"
   ]
  },
  {
   "cell_type": "markdown",
   "id": "498649bb-457a-49f7-a747-11ed23755662",
   "metadata": {},
   "source": [
    "Press ESC + M as shortcut and input text and run cell:"
   ]
  },
  {
   "cell_type": "markdown",
   "id": "6550bd1f-812a-4c52-8e65-dcadd92190a5",
   "metadata": {},
   "source": [
    "The ships hung in the sky in much the same way that bricks don’t."
   ]
  },
  {
   "attachments": {},
   "cell_type": "markdown",
   "id": "5c48e79a",
   "metadata": {},
   "source": [
    "## 4.2 Some basic syntax"
   ]
  },
  {
   "cell_type": "markdown",
   "id": "9d582726-8b31-416b-a56b-cdf20a4a44b2",
   "metadata": {},
   "source": [
    "Bold: Add input between two * or _"
   ]
  },
  {
   "cell_type": "markdown",
   "id": "06cd1320-be6e-414d-bbdc-d577347ca42c",
   "metadata": {},
   "source": [
    "**bold** or __bold__"
   ]
  },
  {
   "cell_type": "markdown",
   "id": "7aefc568-bbcf-40b3-bb79-f1f4418916c4",
   "metadata": {},
   "source": [
    "Italic: Add input between 1 * or _"
   ]
  },
  {
   "cell_type": "markdown",
   "id": "1a9a02ed-e06c-4a38-8b62-c6d115fb0948",
   "metadata": {},
   "source": [
    "*italic* or _italic_"
   ]
  },
  {
   "cell_type": "markdown",
   "id": "03e654b2-f681-4e02-9b75-edce860b1105",
   "metadata": {},
   "source": [
    "Bold and Italic: Add input between 3 * or _"
   ]
  },
  {
   "cell_type": "markdown",
   "id": "917c65f4-9a27-4e63-9fe8-c86941aba8d1",
   "metadata": {},
   "source": [
    "___bold and italic___ or ***bold and italic***"
   ]
  },
  {
   "cell_type": "markdown",
   "id": "fd00f893-1a2b-4226-a503-51e5772112e4",
   "metadata": {},
   "source": [
    "<sub>subscript</sub>:"
   ]
  },
  {
   "cell_type": "markdown",
   "id": "8fcbe90b-a724-44cf-b66d-9d046c691e23",
   "metadata": {},
   "source": [
    "```python\n",
    "<sub>subscript</sub>\n",
    "```"
   ]
  },
  {
   "cell_type": "markdown",
   "id": "c5ee893c-cff2-4df5-b7e5-f2cf7f9b14fe",
   "metadata": {},
   "source": [
    "<sup>superscript</sup>:"
   ]
  },
  {
   "cell_type": "markdown",
   "id": "3d42fd7d-140a-4d45-9101-49a1badac902",
   "metadata": {},
   "source": [
    "```python\n",
    "<sup>superscript</sup>\n",
    "```"
   ]
  },
  {
   "attachments": {},
   "cell_type": "markdown",
   "id": "ddffe8db",
   "metadata": {},
   "source": [
    "## 4.3 Headings"
   ]
  },
  {
   "cell_type": "markdown",
   "id": "24f4e15a-5dfb-46c1-b158-102839a4ae29",
   "metadata": {},
   "source": [
    "- Add 1# for largest text\n",
    "- Add 2# for second largest text\n",
    "- Add 3# for third largest text\n",
    "- Add 4# for fourth largest text"
   ]
  },
  {
   "cell_type": "markdown",
   "id": "eba110ac-ebd8-450f-82e1-12048fe5edaf",
   "metadata": {},
   "source": [
    "# The largest heading\r\n",
    "\r\n",
    "## The second-largest heading\r\n",
    "\r\n",
    "### The third-largest heading\r\n",
    "\r\n",
    "#### The smallest heng Code"
   ]
  },
  {
   "attachments": {},
   "cell_type": "markdown",
   "id": "9bf9cacb",
   "metadata": {},
   "source": [
    "## 4.4 Displaying Code"
   ]
  },
  {
   "cell_type": "markdown",
   "id": "07c0c9c8-e899-46dd-9f65-2eecd34d97b0",
   "metadata": {},
   "source": [
    "To mention code inline, use two backticks:"
   ]
  },
  {
   "cell_type": "markdown",
   "id": "11a0ea52-339b-42b4-bf5c-c2ee2c654a31",
   "metadata": {},
   "source": [
    "`print('Hello World!')`"
   ]
  },
  {
   "cell_type": "markdown",
   "id": "d18d8e68-c6a1-490f-8c58-8984dba758e8",
   "metadata": {},
   "source": [
    "display code in block:"
   ]
  },
  {
   "cell_type": "markdown",
   "id": "a5d862ea-8a30-4247-a49d-865ad6a8acda",
   "metadata": {},
   "source": [
    "```python\n",
    "print('Hello World!')\n",
    "```"
   ]
  },
  {
   "attachments": {},
   "cell_type": "markdown",
   "id": "da4d24fb",
   "metadata": {},
   "source": [
    "## 4.5 Links"
   ]
  },
  {
   "cell_type": "markdown",
   "id": "fe017194-b8c8-4d41-8b8a-a31b432da1c8",
   "metadata": {},
   "source": [
    "[Website Name](Website Link)"
   ]
  },
  {
   "cell_type": "markdown",
   "id": "72ace548-86c8-4fb6-9197-963ae7cc1373",
   "metadata": {},
   "source": [
    "[SP2273 Website](https://sps.nus.edu.sg/sp2273)"
   ]
  },
  {
   "attachments": {},
   "cell_type": "markdown",
   "id": "9580bf1c",
   "metadata": {},
   "source": [
    "## 4.6 Images"
   ]
  },
  {
   "cell_type": "markdown",
   "id": "7837495a-263c-488a-b865-6c381b80e834",
   "metadata": {},
   "source": [
    "![](photo link)"
   ]
  },
  {
   "cell_type": "markdown",
   "id": "3a71a857-efd2-49e7-b5a9-b7c91ee5b34c",
   "metadata": {},
   "source": [
    "![](https://madbarn.com/wp-content/uploads/2022/01/How-to-Feed-your-Pony.jpg)"
   ]
  },
  {
   "attachments": {},
   "cell_type": "markdown",
   "id": "55744ab4",
   "metadata": {},
   "source": [
    "## 4.7 Tables"
   ]
  },
  {
   "cell_type": "markdown",
   "id": "c1b0d581-85b1-4af2-824b-e319effa8e36",
   "metadata": {},
   "source": [
    "Use this [link](https://www.tablesgenerator.com/) to create tables"
   ]
  },
  {
   "cell_type": "markdown",
   "id": "d529bb43-05c2-473e-b457-7d8b1f9977b6",
   "metadata": {},
   "source": [
    "| 1    |  2   |    3 |\n",
    "| :--- | :--: | ---: |\n",
    "| hi   |  hi  |   hi |\n",
    "| hi   |  hi  |   hi |\n",
    "| hi   |  hi  |   hi |"
   ]
  },
  {
   "attachments": {},
   "cell_type": "markdown",
   "id": "369626e5",
   "metadata": {},
   "source": [
    "## 4.8 Lists"
   ]
  },
  {
   "cell_type": "markdown",
   "id": "99482403-b9d1-4eba-b686-4aafa82b4559",
   "metadata": {},
   "source": [
    "Numbered"
   ]
  },
  {
   "cell_type": "markdown",
   "id": "7afc56cb-9726-4ee1-bd15-949ad2924cfc",
   "metadata": {},
   "source": [
    "1. one\n",
    "1. two \n",
    "1. three"
   ]
  },
  {
   "cell_type": "markdown",
   "id": "36137a63-fb4c-441d-bd07-a48d8fad253c",
   "metadata": {},
   "source": [
    "Unnumbered"
   ]
  },
  {
   "cell_type": "markdown",
   "id": "399cf90f-4a8b-4360-97d2-cf2eb4848b2e",
   "metadata": {},
   "source": [
    "- red\n",
    "- orange\n",
    "- yellow"
   ]
  },
  {
   "cell_type": "markdown",
   "id": "da261b3b-9e9d-4072-a42f-43ce6fd2723f",
   "metadata": {},
   "source": [
    "Numbered-Numbered"
   ]
  },
  {
   "cell_type": "markdown",
   "id": "0f86b401-c222-4d6a-8a7a-cb4666ad3dd3",
   "metadata": {},
   "source": [
    "1. one\n",
    "   1. one\n",
    "   1. two\n",
    "1. two\n",
    "   1. one\n",
    "   1. two\n",
    "1. one\n",
    "   1. one\n",
    "   1. two"
   ]
  },
  {
   "cell_type": "markdown",
   "id": "4fb23e3e-c7ba-47d0-b318-a1f5a601d18d",
   "metadata": {},
   "source": [
    "Numbered-Unnumbered"
   ]
  },
  {
   "cell_type": "markdown",
   "id": "605c4b96-99de-42e5-9351-9b349925738f",
   "metadata": {},
   "source": [
    "1. one\n",
    "   - red\n",
    "   - orange\n",
    "2. two\n",
    "   - red\n",
    "   - orange"
   ]
  },
  {
   "attachments": {},
   "cell_type": "markdown",
   "id": "d4758564",
   "metadata": {},
   "source": [
    "## 4.9 Equations"
   ]
  },
  {
   "cell_type": "markdown",
   "id": "fcb6ba62-45f3-4e27-82a5-261a0536d24a",
   "metadata": {},
   "source": [
    "inline equations: put text between $\n"
   ]
  },
  {
   "cell_type": "markdown",
   "id": "f5aae096-b9f8-4e85-be2a-a45f9f703cab",
   "metadata": {},
   "source": [
    "$\\sqrt{b^2-4ac}$"
   ]
  },
  {
   "attachments": {},
   "cell_type": "markdown",
   "id": "7ebc5f02-f073-4dda-b1f5-6f9ffe98e5e1",
   "metadata": {},
   "source": [
    "Math Block: put between 2$\n",
    "\n",
    "$$\n",
    "x = \\dfrac{-b \\pm \\sqrt{b^2-4ac}}{2a}\n",
    "$$"
   ]
  },
  {
   "attachments": {},
   "cell_type": "markdown",
   "id": "fe65674c",
   "metadata": {},
   "source": [
    "## Footnotes"
   ]
  },
  {
   "cell_type": "markdown",
   "id": "b46da62c-4ee8-4e07-9a8e-de05f676e466",
   "metadata": {},
   "source": [
    "Latex notations:"
   ]
  },
  {
   "cell_type": "markdown",
   "id": "1a358278-5391-4695-9c63-6605b902b811",
   "metadata": {},
   "source": [
    "- $\\bar a$\n",
    "- $\\tilde a$\n",
    "- $\\breve a$\n",
    "- $\\hat a$\n",
    "- $a^ \\prime$\n",
    "- $a^ \\dagger$\n",
    "- $a^ \\ast$\n",
    "- $a^ \\star$\n",
    "- $\\mathcal A$\n",
    "- $\\mathrm a$"
   ]
  }
 ],
 "metadata": {
  "kernelspec": {
   "display_name": "Python 3 (ipykernel)",
   "language": "python",
   "name": "python3"
  },
  "language_info": {
   "codemirror_mode": {
    "name": "ipython",
    "version": 3
   },
   "file_extension": ".py",
   "mimetype": "text/x-python",
   "name": "python",
   "nbconvert_exporter": "python",
   "pygments_lexer": "ipython3",
   "version": "3.12.1"
  },
  "toc": {
   "base_numbering": 1,
   "nav_menu": {},
   "number_sections": true,
   "sideBar": true,
   "skip_h1_title": false,
   "title_cell": "Table of Contents",
   "title_sidebar": "Contents",
   "toc_cell": false,
   "toc_position": {},
   "toc_section_display": true,
   "toc_window_display": false
  },
  "vscode": {
   "interpreter": {
    "hash": "31f2aee4e71d21fbe5cf8b01ff0e069b9275f58929596ceb00d14d90e3e16cd6"
   }
  }
 },
 "nbformat": 4,
 "nbformat_minor": 5
}
