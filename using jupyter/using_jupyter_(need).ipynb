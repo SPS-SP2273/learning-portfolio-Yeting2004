{
 "cells": [
  {
   "attachments": {},
   "cell_type": "markdown",
   "id": "123456",
   "metadata": {},
   "source": [
    "<div style=\"text-align:left;font-size:2em\"><span style=\"font-weight:bolder;font-size:1.25em\">SP2273 | Learning Portfolio</span><br><br><span style=\"font-weight:bold;color:darkred\">Using Jupyter (Need)</span></div>"
   ]
  },
  {
   "attachments": {},
   "cell_type": "markdown",
   "id": "673345b0",
   "metadata": {},
   "source": [
    "# 1 What to expect in this chapter"
   ]
  },
  {
   "cell_type": "code",
   "execution_count": null,
   "id": "32bca619-76a5-4493-abaa-4435846c97e4",
   "metadata": {},
   "outputs": [],
   "source": []
  },
  {
   "attachments": {},
   "cell_type": "markdown",
   "id": "f74401b1",
   "metadata": {},
   "source": [
    "# 2 Getting ready"
   ]
  },
  {
   "cell_type": "code",
   "execution_count": 1,
   "id": "91ca9cf6-615d-44c7-8b83-1382ceea7a74",
   "metadata": {},
   "outputs": [
    {
     "name": "stdout",
     "output_type": "stream",
     "text": [
      "Hello\n"
     ]
    }
   ],
   "source": [
    "print ('Hello')"
   ]
  },
  {
   "attachments": {},
   "cell_type": "markdown",
   "id": "06acbb0a",
   "metadata": {},
   "source": [
    "# 3 Getting started with Jupyter"
   ]
  },
  {
   "attachments": {},
   "cell_type": "markdown",
   "id": "6cb26c1b",
   "metadata": {},
   "source": [
    "## 3.1 It is all about running cells"
   ]
  },
  {
   "cell_type": "markdown",
   "id": "28c9e2f7-1286-413c-8d53-eb0abd9f8115",
   "metadata": {},
   "source": [
    "text"
   ]
  },
  {
   "attachments": {},
   "cell_type": "markdown",
   "id": "c47ffabb",
   "metadata": {},
   "source": [
    "## 3.2 A traditional start"
   ]
  },
  {
   "attachments": {},
   "cell_type": "markdown",
   "id": "e67702f7",
   "metadata": {},
   "source": [
    "# 4 All about Markdown"
   ]
  },
  {
   "attachments": {},
   "cell_type": "markdown",
   "id": "ed30df49",
   "metadata": {},
   "source": [
    "## 4.1 Rendering Markdown cells"
   ]
  },
  {
   "attachments": {},
   "cell_type": "markdown",
   "id": "5c48e79a",
   "metadata": {},
   "source": [
    "## 4.2 Some basic syntax"
   ]
  },
  {
   "attachments": {},
   "cell_type": "markdown",
   "id": "ddffe8db",
   "metadata": {},
   "source": [
    "## 4.3 Headings"
   ]
  },
  {
   "cell_type": "markdown",
   "id": "eba110ac-ebd8-450f-82e1-12048fe5edaf",
   "metadata": {},
   "source": [
    "The *ships hung in the sky* in much the same way that **bricks don’t**.<sup>1</sup>"
   ]
  },
  {
   "attachments": {},
   "cell_type": "markdown",
   "id": "9bf9cacb",
   "metadata": {},
   "source": [
    "## 4.4 Displaying Code"
   ]
  },
  {
   "cell_type": "markdown",
   "id": "a5d862ea-8a30-4247-a49d-865ad6a8acda",
   "metadata": {},
   "source": [
    "```python\n",
    "print('Hello World!')\n",
    "```"
   ]
  },
  {
   "attachments": {},
   "cell_type": "markdown",
   "id": "da4d24fb",
   "metadata": {},
   "source": [
    "## 4.5 Links"
   ]
  },
  {
   "cell_type": "markdown",
   "id": "72ace548-86c8-4fb6-9197-963ae7cc1373",
   "metadata": {},
   "source": [
    "[SP2273 Website](https://sps.nus.edu.sg/sp2273)"
   ]
  },
  {
   "attachments": {},
   "cell_type": "markdown",
   "id": "9580bf1c",
   "metadata": {},
   "source": [
    "## 4.6 Images"
   ]
  },
  {
   "cell_type": "markdown",
   "id": "3a71a857-efd2-49e7-b5a9-b7c91ee5b34c",
   "metadata": {},
   "source": [
    "![](https://nus.edu.sg/images/default-source/base/logo.png)"
   ]
  },
  {
   "attachments": {},
   "cell_type": "markdown",
   "id": "55744ab4",
   "metadata": {},
   "source": [
    "## 4.7 Tables"
   ]
  },
  {
   "cell_type": "markdown",
   "id": "d529bb43-05c2-473e-b457-7d8b1f9977b6",
   "metadata": {},
   "source": [
    "| A    |  B   |    C |\n",
    "| :--- | :--: | ---: |\n",
    "| a1   |  b1  |   c1 |\n",
    "| a2   |  b2  |   c2 |\n",
    "| a3   |  b3  |   c3 |"
   ]
  },
  {
   "attachments": {},
   "cell_type": "markdown",
   "id": "369626e5",
   "metadata": {},
   "source": [
    "## 4.8 Lists"
   ]
  },
  {
   "cell_type": "markdown",
   "id": "7afc56cb-9726-4ee1-bd15-949ad2924cfc",
   "metadata": {},
   "source": [
    "1. Master Yoda\n",
    "1. Luke Skywalker\n",
    "1. Anakin Skywalker"
   ]
  },
  {
   "cell_type": "markdown",
   "id": "36137a63-fb4c-441d-bd07-a48d8fad253c",
   "metadata": {},
   "source": [
    "Numbered^ Unnumbered"
   ]
  },
  {
   "cell_type": "markdown",
   "id": "daf8ff3c-cca0-4092-9869-75a891c6c090",
   "metadata": {},
   "source": [
    "- Master Yoda\r\n",
    "- Luke Skywalker\r\n",
    "- Anakin Skywalker"
   ]
  },
  {
   "cell_type": "markdown",
   "id": "0f86b401-c222-4d6a-8a7a-cb4666ad3dd3",
   "metadata": {},
   "source": [
    "1. Master Yoda\n",
    "   1. Was a Jedi\n",
    "   1. Was a bit green\n",
    "1. Luke Skywalker\n",
    "   1. Was a Jedi\n",
    "   1. Is Anakin's son.\n",
    "1. Anakin Skywalker\n",
    "   1. Was a Jedi then became a baddie\n",
    "   1. Is famous for saying 'Luke, I am your father'"
   ]
  },
  {
   "cell_type": "markdown",
   "id": "7fe1c504-1e32-431d-8916-e122a784051e",
   "metadata": {},
   "source": [
    "1. Master Yoda\r\n",
    "   - Was a Jedi\r\n",
    "   - Was a bit green\r\n",
    "1. Luke Skywalker\r\n",
    "   - Was a Jedi\r\n",
    "   - Is Anakin's son.\r\n",
    "1. Anakin Skywalker\r\n",
    "   - Was a Jedi then, became a baddie\r\n",
    "   - Is famous for saying, _'Luke, I am your father'_."
   ]
  },
  {
   "attachments": {},
   "cell_type": "markdown",
   "id": "d4758564",
   "metadata": {},
   "source": [
    "## 4.9 Equations"
   ]
  },
  {
   "cell_type": "markdown",
   "id": "f5aae096-b9f8-4e85-be2a-a45f9f703cab",
   "metadata": {},
   "source": [
    "$\\sqrt{b^2-4ac}$"
   ]
  },
  {
   "cell_type": "markdown",
   "id": "00e4cd0e-a18a-4116-9f37-f1f433785e82",
   "metadata": {},
   "source": [
    "$$\n",
    "x = \\dfrac{-b \\pm \\sqrt{b^2-4ac}}{2a}\n",
    "$$"
   ]
  },
  {
   "attachments": {},
   "cell_type": "markdown",
   "id": "fe65674c",
   "metadata": {},
   "source": [
    "## Footnotes"
   ]
  }
 ],
 "metadata": {
  "kernelspec": {
   "display_name": "Python 3 (ipykernel)",
   "language": "python",
   "name": "python3"
  },
  "language_info": {
   "codemirror_mode": {
    "name": "ipython",
    "version": 3
   },
   "file_extension": ".py",
   "mimetype": "text/x-python",
   "name": "python",
   "nbconvert_exporter": "python",
   "pygments_lexer": "ipython3",
   "version": "3.12.1"
  },
  "toc": {
   "base_numbering": 1,
   "nav_menu": {},
   "number_sections": true,
   "sideBar": true,
   "skip_h1_title": false,
   "title_cell": "Table of Contents",
   "title_sidebar": "Contents",
   "toc_cell": false,
   "toc_position": {},
   "toc_section_display": true,
   "toc_window_display": false
  },
  "vscode": {
   "interpreter": {
    "hash": "31f2aee4e71d21fbe5cf8b01ff0e069b9275f58929596ceb00d14d90e3e16cd6"
   }
  }
 },
 "nbformat": 4,
 "nbformat_minor": 5
}
