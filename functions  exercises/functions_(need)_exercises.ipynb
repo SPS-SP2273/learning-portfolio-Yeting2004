{
 "cells": [
  {
   "attachments": {},
   "cell_type": "markdown",
   "id": "123456",
   "metadata": {},
   "source": [
    "<div style=\"text-align:left;font-size:2em\"><span style=\"font-weight:bolder;font-size:1.25em\">SP2273 | Learning Portfolio</span><br><br><span style=\"font-weight:bold;color:darkred\">Functions (Need) Exercises</span></div>"
   ]
  },
  {
   "cell_type": "markdown",
   "id": "b9ec2fcd-33b6-442d-ac56-e819f0e7841c",
   "metadata": {},
   "source": [
    "## Exercise 1 (Do you know why?) "
   ]
  },
  {
   "cell_type": "code",
   "execution_count": 7,
   "id": "3c926bf8-9d4c-43b8-902c-6b51e8771261",
   "metadata": {},
   "outputs": [
    {
     "name": "stdout",
     "output_type": "stream",
     "text": [
      "Hello Batman! So, nice to meet you!\n",
      "Hello hello!\n"
     ]
    }
   ],
   "source": [
    "def greeting(name):\n",
    "    if name == 'Batman':\n",
    "        return 'Hello Batman! So, nice to meet you!'\n",
    "    return f'Hello {name}!'\n",
    "print(greeting(\"Batman\"))\n",
    "print(greeting(\"hello\"))"
   ]
  },
  {
   "cell_type": "markdown",
   "id": "b9cd5f92-0b44-456e-a7c7-492ebce1a4e7",
   "metadata": {},
   "source": [
    "It does not require else statement because if the if statement is not satisfied, it will automatically move on to the next return statement. The function will only stop once the return statement is reached. So, if name is batman, the function will return Hello Batman! So, nice to meet you!. If name is not batman, the function will return hello {name}."
   ]
  },
  {
   "cell_type": "markdown",
   "id": "ae86badb-3053-4e05-861a-55e76002dcfc",
   "metadata": {},
   "source": [
    "## Exercise 2 (Chubby or not) "
   ]
  },
  {
   "cell_type": "markdown",
   "id": "e74e4acf-4245-405d-bffb-ff06c40e62bc",
   "metadata": {},
   "source": [
    "input format: [weight(kg), height(m)]"
   ]
  },
  {
   "cell_type": "code",
   "execution_count": 12,
   "id": "70ea1f0c-f426-4a65-9119-b33322e2168b",
   "metadata": {},
   "outputs": [
    {
     "data": {
      "text/plain": [
       "'Normal Weight'"
      ]
     },
     "execution_count": 12,
     "metadata": {},
     "output_type": "execute_result"
    }
   ],
   "source": [
    "def calculate_bmi(input):\n",
    "    weight = input[0]\n",
    "    height = input[1]\n",
    "    bmi = weight / (height ** 2)\n",
    "    if bmi < 18.5:\n",
    "        return \"underweight\"\n",
    "    elif 18.5 <= bmi <= 24.9:\n",
    "        return \"Normal Weight\"\n",
    "    elif 25 <= bmi <= 29.9:\n",
    "        return \"Overweight\"\n",
    "    else:\n",
    "        return \"Obesity\"\n",
    "calculate_bmi([60,1.75]) #example"
   ]
  }
 ],
 "metadata": {
  "kernelspec": {
   "display_name": "Python 3 (ipykernel)",
   "language": "python",
   "name": "python3"
  },
  "language_info": {
   "codemirror_mode": {
    "name": "ipython",
    "version": 3
   },
   "file_extension": ".py",
   "mimetype": "text/x-python",
   "name": "python",
   "nbconvert_exporter": "python",
   "pygments_lexer": "ipython3",
   "version": "3.12.1"
  },
  "toc": {
   "base_numbering": 1,
   "nav_menu": {},
   "number_sections": true,
   "sideBar": true,
   "skip_h1_title": false,
   "title_cell": "Table of Contents",
   "title_sidebar": "Contents",
   "toc_cell": false,
   "toc_position": {},
   "toc_section_display": true,
   "toc_window_display": false
  },
  "vscode": {
   "interpreter": {
    "hash": "31f2aee4e71d21fbe5cf8b01ff0e069b9275f58929596ceb00d14d90e3e16cd6"
   }
  }
 },
 "nbformat": 4,
 "nbformat_minor": 5
}
