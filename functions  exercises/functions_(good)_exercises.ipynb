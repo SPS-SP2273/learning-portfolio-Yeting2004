{
 "cells": [
  {
   "attachments": {},
   "cell_type": "markdown",
   "id": "123456",
   "metadata": {},
   "source": [
    "<div style=\"text-align:left;font-size:2em\"><span style=\"font-weight:bolder;font-size:1.25em\">SP2273 | Learning Portfolio</span><br><br><span style=\"font-weight:bold;color:darkred\">Functions (Good) Exercises</span></div>"
   ]
  },
  {
   "cell_type": "markdown",
   "id": "dc709c8c-cf47-4c24-861c-a58c8139657a",
   "metadata": {},
   "source": [
    "## Exercise 1 (Celsius to Fahrenheit or Kelvin) "
   ]
  },
  {
   "cell_type": "code",
   "execution_count": 30,
   "id": "7c2d9dc0-56fa-4402-a1c7-54fb92cee2b3",
   "metadata": {},
   "outputs": [
    {
     "name": "stdout",
     "output_type": "stream",
     "text": [
      "323\n",
      "104.0\n"
     ]
    }
   ],
   "source": [
    "def fahrenheit(temperature_celsius):\n",
    "    fahrenheit_converted = (temperature_celsius*9/5)+32\n",
    "    return fahrenheit_converted\n",
    "    \n",
    "def kelvin(temperature_celsius):\n",
    "    kelvin_converted = temperature_celsius + 273\n",
    "    return kelvin_converted\n",
    "    \n",
    "def convert_celsius(temperature_celsius, target_scale=kelvin):\n",
    "    return target_scale(temperature_celsius)\n",
    "\n",
    "print(convert_celsius(50))\n",
    "print(convert_celsius(40, fahrenheit))"
   ]
  },
  {
   "cell_type": "markdown",
   "id": "2060095e-6dfd-49a0-8414-97ed76925814",
   "metadata": {},
   "source": [
    "## Exercise 2 (Fahrenheit to Celsius or Kelvin)"
   ]
  },
  {
   "cell_type": "code",
   "execution_count": 29,
   "id": "c3c366a0-cab3-4174-96c2-1ab69fa8a077",
   "metadata": {},
   "outputs": [
    {
     "name": "stdout",
     "output_type": "stream",
     "text": [
      "305.22\n",
      "32.22\n"
     ]
    }
   ],
   "source": [
    "def celsius(temperature_fahrenheit):\n",
    "    celsius_converted = (temperature_fahrenheit-32)*5/9\n",
    "    return f\"{celsius_converted:.2f}\" #float issue so converted to 2 decimal\n",
    "\n",
    "def kelvin(temperature_fahrenheit):\n",
    "    kelvin_converted = float(celsius(temperature_fahrenheit))+273 #need to convert back to float because the celsius got converted to string\n",
    "    return kelvin_converted\n",
    "\n",
    "def convert_fahrenheit(temperature_fahrenheit, target_scale=kelvin):\n",
    "    return target_scale(temperature_fahrenheit)\n",
    "\n",
    "print(convert_fahrenheit(90))\n",
    "print(convert_fahrenheit(90,celsius))"
   ]
  },
  {
   "cell_type": "markdown",
   "id": "278829d5-072d-4ba4-b99f-99adae9d2554",
   "metadata": {},
   "source": [
    "## Exercise 3 (General Temperature Conversion)"
   ]
  },
  {
   "cell_type": "code",
   "execution_count": 38,
   "id": "a89a425e-43b3-4342-a43a-f930e55d7bb1",
   "metadata": {},
   "outputs": [
    {
     "name": "stdout",
     "output_type": "stream",
     "text": [
      "303\n",
      "-297.4\n"
     ]
    }
   ],
   "source": [
    "def celsius_fahrenheit(temperature):\n",
    "    fahrenheit_converted = (temperature*9/5)+32\n",
    "    return fahrenheit_converted\n",
    "    \n",
    "def celsius_kelvin(temperature):\n",
    "    kelvin_converted = temperature + 273\n",
    "    return kelvin_converted\n",
    "\n",
    "def fahrenheit_celsius(temperature):\n",
    "    celsius_converted = (temperature-32)*5/9\n",
    "    return f\"{celsius_converted:.2f}\" #float issue so converted to 2 decimal\n",
    "\n",
    "def fahrenheit_kelvin(temperature):\n",
    "    kelvin_converted = float(fahrenheit_celsius(temperature))+273 #need to convert back to float because the celsius got converted to string\n",
    "    return kelvin_converted\n",
    "\n",
    "def kelvin_celsius(temperature):\n",
    "    celsius_converted = temperature - 273\n",
    "    return celsius_converted\n",
    "\n",
    "def kelvin_fahrenheit(temperature):\n",
    "    fahrenheit_converted = celsius_fahrenheit(kelvin_celsius(temperature))\n",
    "    return fahrenheit_converted\n",
    "\n",
    "dictionary = {(celsius, kelvin): celsius_kelvin,\n",
    "              (celsius, fahrenheit): celsius_fahrenheit,\n",
    "              (fahrenheit, celsius): fahrenheit_celsius,\n",
    "              (fahrenheit, kelvin): fahrenheit_kelvin,\n",
    "              (kelvin, celsius): kelvin_celsius,\n",
    "              (kelvin, fahrenheit): kelvin_fahrenheit}\n",
    "\n",
    "def convert_temperature(temperature, source_scale, target_scale): \n",
    "    key = (source_scale, target_scale)\n",
    "    conversion = dictionary[key]\n",
    "    return conversion(temperature)\n",
    "        \n",
    "print(convert_temperature(30, celsius, kelvin))\n",
    "print(convert_temperature(90, kelvin, fahrenheit))"
   ]
  }
 ],
 "metadata": {
  "kernelspec": {
   "display_name": "Python 3 (ipykernel)",
   "language": "python",
   "name": "python3"
  },
  "language_info": {
   "codemirror_mode": {
    "name": "ipython",
    "version": 3
   },
   "file_extension": ".py",
   "mimetype": "text/x-python",
   "name": "python",
   "nbconvert_exporter": "python",
   "pygments_lexer": "ipython3",
   "version": "3.12.1"
  },
  "toc": {
   "base_numbering": 1,
   "nav_menu": {},
   "number_sections": true,
   "sideBar": true,
   "skip_h1_title": false,
   "title_cell": "Table of Contents",
   "title_sidebar": "Contents",
   "toc_cell": false,
   "toc_position": {},
   "toc_section_display": true,
   "toc_window_display": false
  },
  "vscode": {
   "interpreter": {
    "hash": "31f2aee4e71d21fbe5cf8b01ff0e069b9275f58929596ceb00d14d90e3e16cd6"
   }
  }
 },
 "nbformat": 4,
 "nbformat_minor": 5
}
