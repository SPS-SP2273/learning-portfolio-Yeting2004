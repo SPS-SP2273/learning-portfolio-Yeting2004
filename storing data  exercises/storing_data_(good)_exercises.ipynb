{
 "cells": [
  {
   "attachments": {},
   "cell_type": "markdown",
   "id": "123456",
   "metadata": {},
   "source": [
    "<div style=\"text-align:left;font-size:2em\"><span style=\"font-weight:bolder;font-size:1.25em\">SP2273 | Learning Portfolio</span><br><br><span style=\"font-weight:bold;color:darkred\">Storing Data (Good) Exercises</span></div>"
   ]
  },
  {
   "cell_type": "markdown",
   "id": "0a2127d0-ae15-4fcc-bf8e-415ea1004861",
   "metadata": {},
   "source": [
    "## Exercise 1 (Total recall)"
   ]
  },
  {
   "cell_type": "markdown",
   "id": "a44866d8-1d50-4709-bce1-cb3667e42187",
   "metadata": {},
   "source": [
    "| Term       | Brief description                        |\n",
    "|------------|------------------------------------------|\n",
    "| Subsetting | Selecting, includes slicing and indexing |\n",
    "| Indexing   | Selecting only one element               |\n",
    "| Slicing    | Selecting more than one element (range)  |\n",
    "| Masking    | Only allows for true subset to be seen   |"
   ]
  },
  {
   "cell_type": "markdown",
   "id": "b4e5d59a-96a9-43c3-9eb9-235cea575fb7",
   "metadata": {},
   "source": [
    "## Exercise 2 (Show me the ‘odd’ letters) "
   ]
  },
  {
   "cell_type": "code",
   "execution_count": 32,
   "id": "fd94f9df-637f-4c81-afe9-96923c380467",
   "metadata": {},
   "outputs": [
    {
     "name": "stdout",
     "output_type": "stream",
     "text": [
      "[ 1  3  2  4  5  7  6  8 10  9]\n",
      "[1 1 0 0 1 1 0 0 0 1]\n",
      "[ True  True False False  True  True False False False  True]\n",
      "['A' 'C' 'E' 'G' 'I']\n"
     ]
    }
   ],
   "source": [
    "import numpy as np\n",
    "np_array_2d = np.array([[1, \"A\"], [3, \"C\"], [2, \"B\"], [4, \"D\"],\n",
    "                        [5, \"E\"], [7, \"G\"], [6, \"F\"], [8, \"H\"],\n",
    "                        [10, \"J\"], [9, \"I\"]])\n",
    "first_elements = np_array_2d[:,0]\n",
    "first_integers = first_elements.astype(int)\n",
    "print(first_integers)\n",
    "remainder = first_integers%2\n",
    "print(remainder)\n",
    "filtering = remainder > 0\n",
    "print(filtering)\n",
    "np_array_2d = np_array_2d[filtering == True, 1]\n",
    "print(np_array_2d)"
   ]
  }
 ],
 "metadata": {
  "kernelspec": {
   "display_name": "Python 3 (ipykernel)",
   "language": "python",
   "name": "python3"
  },
  "language_info": {
   "codemirror_mode": {
    "name": "ipython",
    "version": 3
   },
   "file_extension": ".py",
   "mimetype": "text/x-python",
   "name": "python",
   "nbconvert_exporter": "python",
   "pygments_lexer": "ipython3",
   "version": "3.12.1"
  },
  "toc": {
   "base_numbering": 1,
   "nav_menu": {},
   "number_sections": true,
   "sideBar": true,
   "skip_h1_title": false,
   "title_cell": "Table of Contents",
   "title_sidebar": "Contents",
   "toc_cell": false,
   "toc_position": {},
   "toc_section_display": true,
   "toc_window_display": false
  },
  "vscode": {
   "interpreter": {
    "hash": "31f2aee4e71d21fbe5cf8b01ff0e069b9275f58929596ceb00d14d90e3e16cd6"
   }
  }
 },
 "nbformat": 4,
 "nbformat_minor": 5
}
