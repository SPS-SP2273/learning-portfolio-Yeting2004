{
 "cells": [
  {
   "attachments": {},
   "cell_type": "markdown",
   "id": "123456",
   "metadata": {},
   "source": [
    "<div style=\"text-align:left;font-size:2em\"><span style=\"font-weight:bolder;font-size:1.25em\">SP2273 | Learning Portfolio</span><br><br><span style=\"font-weight:bold;color:darkred\">Storing Data (Need) Exercises</span></div>"
   ]
  },
  {
   "cell_type": "markdown",
   "id": "8433d4fc-a7c3-4712-8964-d511c0983867",
   "metadata": {},
   "source": [
    "## Exercise 1 (Total recall?)"
   ]
  },
  {
   "cell_type": "markdown",
   "id": "35049690-81a9-406b-932e-c5ec37d3eae7",
   "metadata": {},
   "source": [
    "Two similarities between lists and arrays.\n",
    "- They help us to store data\n",
    "- to find out length, they use the same function of len()"
   ]
  },
  {
   "cell_type": "markdown",
   "id": "f5452827-6278-42d2-8aaf-f694d6900be8",
   "metadata": {},
   "source": [
    "Two differences between lists and arrays.\n",
    "- Arrays can only store one data type\n",
    "- Arrays are much better for numerical computations (like addition, squaring and multiplication)"
   ]
  },
  {
   "cell_type": "markdown",
   "id": "698a0821-21a9-4f7b-a59f-3a70f11b08e1",
   "metadata": {},
   "source": [
    "What is a dictionary?\n",
    "- Dictionaries help to store key and and associate it with a value to store information."
   ]
  },
  {
   "cell_type": "markdown",
   "id": "d843bd0d-ffb1-4cac-9612-2a8fdbe25f8d",
   "metadata": {},
   "source": [
    "## Exercise 2 (Indexing)"
   ]
  },
  {
   "cell_type": "code",
   "execution_count": 2,
   "id": "de13201a-74ab-453d-abf1-aed65fd4cbe2",
   "metadata": {},
   "outputs": [
    {
     "name": "stdout",
     "output_type": "stream",
     "text": [
      "a1\n",
      "c3\n",
      "e5\n",
      "g7\n",
      "i9\n"
     ]
    }
   ],
   "source": [
    "py_list = [\"a1\", \"b2\", \"c3\", \"d4\", \"e5\", \"f6\", \"g7\", \"h8\", \"i9\", \"j10\"]\n",
    "print(py_list[0])                    # Prints 'a1'\n",
    "print(py_list[2])                    # Prints 'c3'\n",
    "print(py_list[4])                    # Prints 'e5'\n",
    "print(py_list[6])                    # Prints 'g7'\n",
    "print(py_list[8])   # Prints 'i9'"
   ]
  },
  {
   "cell_type": "markdown",
   "id": "7c8e8d04-62a4-41f2-8f0b-737d05f7fe1e",
   "metadata": {},
   "source": [
    "## Exercise 3 (Index again)"
   ]
  },
  {
   "cell_type": "code",
   "execution_count": 4,
   "id": "03bd7e9c-f933-449a-98ab-964bdafab4e5",
   "metadata": {},
   "outputs": [
    {
     "name": "stdout",
     "output_type": "stream",
     "text": [
      "Boron\n",
      "Boron\n"
     ]
    }
   ],
   "source": [
    "elements = ['Hydrogen',\n",
    "            'Helium', 'Lithium',\n",
    "            'Beryllium', 'Boron', 'Carbon',\n",
    "            'Nitrogen', 'Oxygen',\n",
    "            'Fluorine',\n",
    "            'Neon']\n",
    "print(elements[4]) #Forward Indexing\n",
    "print(elements[-6]) #Reverse Indexing"
   ]
  },
  {
   "cell_type": "markdown",
   "id": "e1c9c430-681f-4f14-bf21-84b7674a6bd0",
   "metadata": {},
   "source": [
    "## Exercise 4 (How many ones) "
   ]
  },
  {
   "cell_type": "code",
   "execution_count": 19,
   "id": "e3307ac5-d3f8-4fc6-b710-b5e5dc52a8c4",
   "metadata": {},
   "outputs": [
    {
     "name": "stdout",
     "output_type": "stream",
     "text": [
      "9\n"
     ]
    }
   ],
   "source": [
    "import numpy as np\n",
    "numbers=[45, 60, 1, 30, 96, 1, 96, 57, 16, 1,\n",
    "        99, 62, 86, 43, 42, 60, 59, 1, 1, 35,\n",
    "        83, 47, 34, 28, 68, 23, 22, 92, 1, 79,\n",
    "        1, 29, 94, 72, 46, 47, 1, 74, 32, 20,\n",
    "        8, 37, 35, 1, 89, 29, 86, 19, 43, 61]  \n",
    "array_numbers = np.array(numbers)\n",
    "length = len(array_numbers)\n",
    "ones = 0\n",
    "for index in range(0,length):\n",
    "    if array_numbers[index]==1:\n",
    "        ones = ones + 1\n",
    "    else:   \n",
    "        pass\n",
    "print(ones)"
   ]
  }
 ],
 "metadata": {
  "kernelspec": {
   "display_name": "Python 3 (ipykernel)",
   "language": "python",
   "name": "python3"
  },
  "language_info": {
   "codemirror_mode": {
    "name": "ipython",
    "version": 3
   },
   "file_extension": ".py",
   "mimetype": "text/x-python",
   "name": "python",
   "nbconvert_exporter": "python",
   "pygments_lexer": "ipython3",
   "version": "3.12.1"
  },
  "toc": {
   "base_numbering": 1,
   "nav_menu": {},
   "number_sections": true,
   "sideBar": true,
   "skip_h1_title": false,
   "title_cell": "Table of Contents",
   "title_sidebar": "Contents",
   "toc_cell": false,
   "toc_position": {},
   "toc_section_display": true,
   "toc_window_display": false
  },
  "vscode": {
   "interpreter": {
    "hash": "31f2aee4e71d21fbe5cf8b01ff0e069b9275f58929596ceb00d14d90e3e16cd6"
   }
  }
 },
 "nbformat": 4,
 "nbformat_minor": 5
}
