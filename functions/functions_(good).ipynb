{
 "cells": [
  {
   "attachments": {},
   "cell_type": "markdown",
   "id": "123456",
   "metadata": {},
   "source": [
    "<div style=\"text-align:left;font-size:2em\"><span style=\"font-weight:bolder;font-size:1.25em\">SP2273 | Learning Portfolio</span><br><br><span style=\"font-weight:bold;color:darkred\">Functions (Good)</span></div>"
   ]
  },
  {
   "attachments": {},
   "cell_type": "markdown",
   "id": "79b73950",
   "metadata": {},
   "source": [
    "# What to expect in this chapter"
   ]
  },
  {
   "cell_type": "markdown",
   "id": "88f5037b-4ce9-4bb8-8a40-1b9a993bc75a",
   "metadata": {},
   "source": [
    "arguments, docstrings, exception handling, positional, keyword, and default arguments of functions, checks and handles potential problems."
   ]
  },
  {
   "attachments": {},
   "cell_type": "markdown",
   "id": "31d2f86d",
   "metadata": {},
   "source": [
    "# 1 Checks, balances, and contingencies"
   ]
  },
  {
   "cell_type": "markdown",
   "id": "790543b8-37af-47a6-accd-3a89cb2a9503",
   "metadata": {},
   "source": [
    "Checks, balances, and contingencies in your code are a good idea to pre-empt problems. Two ways to incoperate checks\n",
    "- assert\n",
    "- try-except."
   ]
  },
  {
   "attachments": {},
   "cell_type": "markdown",
   "id": "c0167e84",
   "metadata": {},
   "source": [
    "## 1.1 assert"
   ]
  },
  {
   "cell_type": "markdown",
   "id": "8060ab2e-fb4f-4acc-9bb9-5a4a3f621b37",
   "metadata": {},
   "source": [
    "Assert that can check a condition and halt execution: assert condition-to-check, message\n",
    "- The program will run for as long as the condition is True. If it fails, then an Assertation Error is raised, and the program stops running"
   ]
  },
  {
   "cell_type": "code",
   "execution_count": 1,
   "id": "6e12036a-25c3-47ec-9db5-88934c66838e",
   "metadata": {},
   "outputs": [],
   "source": [
    "x = 0\n",
    "assert x>=0, \"x is negative!\""
   ]
  },
  {
   "cell_type": "code",
   "execution_count": 2,
   "id": "0c3b7b3f-d970-4eeb-8989-81e7153fb930",
   "metadata": {},
   "outputs": [
    {
     "ename": "AssertionError",
     "evalue": "x is negative!",
     "output_type": "error",
     "traceback": [
      "\u001b[1;31m---------------------------------------------------------------------------\u001b[0m",
      "\u001b[1;31mAssertionError\u001b[0m                            Traceback (most recent call last)",
      "Cell \u001b[1;32mIn[2], line 2\u001b[0m\n\u001b[0;32m      1\u001b[0m x\u001b[38;5;241m=\u001b[39m\u001b[38;5;241m-\u001b[39m\u001b[38;5;241m1\u001b[39m\n\u001b[1;32m----> 2\u001b[0m \u001b[38;5;28;01massert\u001b[39;00m x\u001b[38;5;241m>\u001b[39m\u001b[38;5;241m=\u001b[39m\u001b[38;5;241m0\u001b[39m, \u001b[38;5;124m\"\u001b[39m\u001b[38;5;124mx is negative!\u001b[39m\u001b[38;5;124m\"\u001b[39m\n",
      "\u001b[1;31mAssertionError\u001b[0m: x is negative!"
     ]
    }
   ],
   "source": [
    "x=-1\n",
    "assert x>=0, \"x is negative!\""
   ]
  },
  {
   "attachments": {},
   "cell_type": "markdown",
   "id": "30bfa13c",
   "metadata": {},
   "source": [
    "## 1.2 try-except"
   ]
  },
  {
   "cell_type": "markdown",
   "id": "5a8760f8-84a8-407a-bc95-510b10e9fe41",
   "metadata": {},
   "source": [
    "Things going wrong is exceptions\n",
    "- division by zero will raise a ZeroDivisionError\n",
    "- will halt the flow of the programme\n",
    "- try-except syntax can also ensure that your program can handle some situations beyond your control\n"
   ]
  },
  {
   "cell_type": "markdown",
   "id": "89dd39f0-93a8-4a4e-82a6-4f11fbc00c60",
   "metadata": {},
   "source": [
    "Enclose part of the code that we think can potentially lead to trouble in the try block. If something (anything) goes wrong, Python will ignore the error and run the code in the except block."
   ]
  },
  {
   "cell_type": "code",
   "execution_count": 10,
   "id": "f8b27485-4285-40e5-b2f5-b1f870253033",
   "metadata": {},
   "outputs": [
    {
     "name": "stdin",
     "output_type": "stream",
     "text": [
      "please input a number 60\n"
     ]
    },
    {
     "name": "stdout",
     "output_type": "stream",
     "text": [
      "3600\n"
     ]
    }
   ],
   "source": [
    "try:\n",
    "    number = input(\"please input a number\")\n",
    "    number = int(number)\n",
    "    number = number**2\n",
    "    print(number)\n",
    "\n",
    "except:\n",
    "    print(\"Sorry, please input a number\")"
   ]
  },
  {
   "attachments": {},
   "cell_type": "markdown",
   "id": "d5fd721b",
   "metadata": {},
   "source": [
    "## 1.3 A simple suggestion"
   ]
  },
  {
   "cell_type": "markdown",
   "id": "f7044449-77e4-4088-bc73-67278cee0b50",
   "metadata": {},
   "source": [
    "Include ‘print()’ statements here and there to let the outside world know what is happening"
   ]
  },
  {
   "attachments": {},
   "cell_type": "markdown",
   "id": "4b195c04",
   "metadata": {},
   "source": [
    "# 2 Some loose ends"
   ]
  },
  {
   "attachments": {},
   "cell_type": "markdown",
   "id": "6a2262ac",
   "metadata": {},
   "source": [
    "## 2.1 Positional, keyword and default arguments"
   ]
  },
  {
   "cell_type": "code",
   "execution_count": 15,
   "id": "461dac1c-b2cf-4cce-b162-26ac0a37397c",
   "metadata": {},
   "outputs": [
    {
     "name": "stdout",
     "output_type": "stream",
     "text": [
      "  1|  2|  3\n",
      "  2|  1|  3\n",
      "  1|  2|  5\n",
      "  2|  0|  4\n"
     ]
    }
   ],
   "source": [
    "def formatting(a, b, c=5):\n",
    "    return f'{a: 3d}|{b: 3d}|{c: 3d}' #3 decimal place\n",
    "print(formatting(1, 2, 3)) #assign 1, 2, 3 to a, b, c using the positional order of the arguments.\n",
    "print(formatting(c=3, b=1, a=2)) #assign the values to each of a, b, c. (order does not matter)\n",
    "print(formatting(1, b=2)) #don't need to specify c\n",
    "print(formatting(2 , c= 4, b=0))"
   ]
  },
  {
   "cell_type": "markdown",
   "id": "4e5d8eff-7237-437f-95b2-d1e0ec23364c",
   "metadata": {},
   "source": [
    "can combine these three styles except keyword followed by positional"
   ]
  },
  {
   "attachments": {},
   "cell_type": "markdown",
   "id": "a0c5b2ad",
   "metadata": {},
   "source": [
    "## 2.2 Docstrings"
   ]
  },
  {
   "cell_type": "markdown",
   "id": "b4670f94-fac0-416f-8f50-ff227b7e0a07",
   "metadata": {},
   "source": [
    "docstring feature that allows us to document what a function does inside the function\n",
    "- displayed when we ask Python to show us the help info using help()\n",
    "- sandwiched between a pair of ''' (or \"\"\")"
   ]
  },
  {
   "cell_type": "code",
   "execution_count": 17,
   "id": "7b934f79-56c9-4ce7-bb90-9a2bd15e55de",
   "metadata": {},
   "outputs": [
    {
     "name": "stdout",
     "output_type": "stream",
     "text": [
      "Help on function formatting in module __main__:\n",
      "\n",
      "formatting(a, b, c=5)\n",
      "    helps to format letters\n",
      "    great to use!\n",
      "\n"
     ]
    }
   ],
   "source": [
    "def formatting(a, b, c=5):\n",
    "    '''\n",
    "    helps to format letters\n",
    "    great to use!\n",
    "    '''\n",
    "    return f'{a: 3d}|{b: 3d}|{c: 3d}'\n",
    "help(formatting)"
   ]
  },
  {
   "attachments": {},
   "cell_type": "markdown",
   "id": "e1c92704",
   "metadata": {},
   "source": [
    "## 2.3 Function are first-class citizens"
   ]
  },
  {
   "cell_type": "markdown",
   "id": "f609ecee-1bc1-40e4-baa4-2cdda37f4a5e",
   "metadata": {},
   "source": [
    "Can pass a function as an argument to another function\n",
    "- **When we pass a function as an argument, we do not include the parenthesis**"
   ]
  },
  {
   "cell_type": "code",
   "execution_count": 32,
   "id": "fdd45bdc-2f37-414d-b346-83c4596650b9",
   "metadata": {},
   "outputs": [
    {
     "name": "stdout",
     "output_type": "stream",
     "text": [
      "20\n",
      "68\n"
     ]
    }
   ],
   "source": [
    "def calculate1(number):\n",
    "    return number**2\n",
    "def calculate2(number):\n",
    "    return number**3\n",
    "\n",
    "def calculatefinal(number, calculatetype):\n",
    "    return (calculatetype(number) + number)\n",
    "print(calculatefinal(4,calculate1))\n",
    "print(calculatefinal(4,calculate2))"
   ]
  },
  {
   "attachments": {},
   "cell_type": "markdown",
   "id": "11a4c57e",
   "metadata": {},
   "source": [
    "## 2.4 More about unpacking"
   ]
  },
  {
   "cell_type": "code",
   "execution_count": 33,
   "id": "92afc9bb-9915-488d-947a-ea2e2fb5891a",
   "metadata": {},
   "outputs": [
    {
     "data": {
      "text/plain": [
       "(10, 20, 30)"
      ]
     },
     "execution_count": 33,
     "metadata": {},
     "output_type": "execute_result"
    }
   ],
   "source": [
    "a, b, c = [10, 20, 30]\n",
    "a, b, c"
   ]
  },
  {
   "cell_type": "code",
   "execution_count": 37,
   "id": "24d0278d-6f16-43d2-806c-88a6da5be431",
   "metadata": {},
   "outputs": [
    {
     "data": {
      "text/plain": [
       "(10, 20, 30)"
      ]
     },
     "execution_count": 37,
     "metadata": {},
     "output_type": "execute_result"
    }
   ],
   "source": [
    "import numpy as np\n",
    "a, b, c = np.array([10,20,30])\n",
    "a, b, c"
   ]
  },
  {
   "cell_type": "code",
   "execution_count": 42,
   "id": "6729eec4-be83-447f-8f47-64a100597cbc",
   "metadata": {},
   "outputs": [
    {
     "data": {
      "text/plain": [
       "(10, 20, [30, 40, 50])"
      ]
     },
     "execution_count": 42,
     "metadata": {},
     "output_type": "execute_result"
    }
   ],
   "source": [
    "a, b, *c = np.array([10,20,30,40,50]) #collects all remaining elements into y\n",
    "a, b, c"
   ]
  },
  {
   "cell_type": "code",
   "execution_count": 47,
   "id": "2c46fcea-d402-4159-b29c-f925eb94f326",
   "metadata": {},
   "outputs": [
    {
     "data": {
      "text/plain": [
       "(10, 50)"
      ]
     },
     "execution_count": 47,
     "metadata": {},
     "output_type": "execute_result"
    }
   ],
   "source": [
    "a, *_, c = np.array([10, 20, 30, 40, 50]) #_ is throwaway variable\n",
    "a, c"
   ]
  }
 ],
 "metadata": {
  "kernelspec": {
   "display_name": "Python 3 (ipykernel)",
   "language": "python",
   "name": "python3"
  },
  "language_info": {
   "codemirror_mode": {
    "name": "ipython",
    "version": 3
   },
   "file_extension": ".py",
   "mimetype": "text/x-python",
   "name": "python",
   "nbconvert_exporter": "python",
   "pygments_lexer": "ipython3",
   "version": "3.12.1"
  },
  "toc": {
   "base_numbering": 1,
   "nav_menu": {},
   "number_sections": true,
   "sideBar": true,
   "skip_h1_title": false,
   "title_cell": "Table of Contents",
   "title_sidebar": "Contents",
   "toc_cell": false,
   "toc_position": {},
   "toc_section_display": true,
   "toc_window_display": false
  },
  "vscode": {
   "interpreter": {
    "hash": "31f2aee4e71d21fbe5cf8b01ff0e069b9275f58929596ceb00d14d90e3e16cd6"
   }
  }
 },
 "nbformat": 4,
 "nbformat_minor": 5
}
