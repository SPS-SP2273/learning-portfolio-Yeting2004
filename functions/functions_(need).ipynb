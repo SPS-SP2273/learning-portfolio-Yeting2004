{
 "cells": [
  {
   "attachments": {},
   "cell_type": "markdown",
   "id": "123456",
   "metadata": {},
   "source": [
    "<div style=\"text-align:left;font-size:2em\"><span style=\"font-weight:bolder;font-size:1.25em\">SP2273 | Learning Portfolio</span><br><br><span style=\"font-weight:bold;color:darkred\">Functions (Need)</span></div>"
   ]
  },
  {
   "attachments": {},
   "cell_type": "markdown",
   "id": "36ddf3f8",
   "metadata": {},
   "source": [
    "# What to expect in this chapter"
   ]
  },
  {
   "cell_type": "markdown",
   "id": "6cdef0a0-9f55-4988-b5c7-a45abfc8697f",
   "metadata": {},
   "source": [
    "create own functions"
   ]
  },
  {
   "attachments": {},
   "cell_type": "markdown",
   "id": "dc8b79c7",
   "metadata": {},
   "source": [
    "# 1 User-defined functions"
   ]
  },
  {
   "cell_type": "markdown",
   "id": "e21333af-9624-4bf2-8530-4b510f905419",
   "metadata": {},
   "source": [
    "print() is an internal function in Python. You can also create your own functions. There are two ways to do this: **named** and **anonymous**."
   ]
  },
  {
   "attachments": {},
   "cell_type": "markdown",
   "id": "7de94798",
   "metadata": {},
   "source": [
    "## 1.1 Named Functions"
   ]
  },
  {
   "attachments": {},
   "cell_type": "markdown",
   "id": "0e44b564",
   "metadata": {},
   "source": [
    "### Named functions that return"
   ]
  },
  {
   "cell_type": "markdown",
   "id": "4db48476-0890-48df-bea6-ee11322543fc",
   "metadata": {},
   "source": [
    "Define function using def"
   ]
  },
  {
   "cell_type": "code",
   "execution_count": 8,
   "id": "e6dc1374-9fdf-4934-bbc8-e18c725fce9d",
   "metadata": {},
   "outputs": [
    {
     "name": "stdout",
     "output_type": "stream",
     "text": [
      "Welcome back Pony!\n",
      "Welcome back Pony!\n",
      "You are not a pony!\n"
     ]
    }
   ],
   "source": [
    "def greeting(name):\n",
    "    if name == \"pony\":\n",
    "        return \"Welcome back Pony!\" #use return to get output\n",
    "    else:\n",
    "        return \"You are not a pony!\"\n",
    "print(greeting(\"pony\"))\n",
    "print(greeting(name=\"pony\"))\n",
    "print(greeting(\"horse\"))"
   ]
  },
  {
   "cell_type": "markdown",
   "id": "63cd561c-bc6c-47ff-8238-242a9648d115",
   "metadata": {},
   "source": [
    "to pick up return value:"
   ]
  },
  {
   "cell_type": "code",
   "execution_count": 10,
   "id": "d9d33fad-06a2-47d9-b3ce-33a3125cd7fa",
   "metadata": {},
   "outputs": [
    {
     "name": "stdout",
     "output_type": "stream",
     "text": [
      "Welcome back Pony!\n",
      "Welcome back Pony!\n",
      "You are not a pony!\n"
     ]
    }
   ],
   "source": [
    "correct_greet=greeting(\"pony\")\n",
    "print(correct_greet)\n",
    "print(greeting(\"pony\"))\n",
    "wrong_greet=greeting(\"horse\")\n",
    "print(wrong_greet)"
   ]
  },
  {
   "cell_type": "markdown",
   "id": "39ec2efd-270c-4076-855c-42e1c0f4a800",
   "metadata": {},
   "source": [
    "Can only use return in function"
   ]
  },
  {
   "cell_type": "code",
   "execution_count": 15,
   "id": "7550c170-39ac-4a0c-8518-80d9a0a5f89a",
   "metadata": {},
   "outputs": [
    {
     "name": "stdout",
     "output_type": "stream",
     "text": [
      "5\n",
      "1\n",
      "3.0\n",
      "(5, 1, 3.0)\n"
     ]
    }
   ],
   "source": [
    "import numpy as np\n",
    "def basic_stats(numbers):\n",
    "    np_numbers = np.array(numbers) #convert list to array\n",
    "    my_min = np_numbers.min() #take minimum value of array\n",
    "    my_max = np_numbers.max() #take maximum value of array\n",
    "    my_mean = np_numbers.mean() #take mean value of array\n",
    "    return my_max, my_min, my_mean #returns tupule\n",
    "list_min, list_max, list_mean = basic_stats([1, 2, 3, 4, 5])\n",
    "print(list_min)\n",
    "print(list_max)\n",
    "print(list_mean)\n",
    "print(basic_stats([1,2,3,4,5]))"
   ]
  },
  {
   "attachments": {},
   "cell_type": "markdown",
   "id": "09cf806d",
   "metadata": {},
   "source": [
    "### Named functions that don’t return"
   ]
  },
  {
   "cell_type": "markdown",
   "id": "db6395e7-8370-49a2-8706-403a6e2d15ef",
   "metadata": {},
   "source": [
    "A function does not have to return anything. For example, print(), which does something but does not return a value."
   ]
  },
  {
   "attachments": {},
   "cell_type": "markdown",
   "id": "a84f0b13",
   "metadata": {},
   "source": [
    "## 1.2 Anonymous functions"
   ]
  },
  {
   "cell_type": "markdown",
   "id": "a92b8d96-8e4e-4929-b8df-d61f6f0dc022",
   "metadata": {},
   "source": [
    "Anonymous or lambda functions suitable for short one-liners"
   ]
  },
  {
   "cell_type": "code",
   "execution_count": 21,
   "id": "8e69fb7e-9b42-4563-9b0b-63494d631486",
   "metadata": {},
   "outputs": [
    {
     "name": "stdout",
     "output_type": "stream",
     "text": [
      "I am andy!\n"
     ]
    }
   ],
   "source": [
    "greeting = lambda pony: f\"I am {pony}!\"\n",
    "print(greeting(\"andy\")) #will always return value of last statebment"
   ]
  },
  {
   "cell_type": "markdown",
   "id": "5681881b-6c5c-4ce8-94cb-5cf824b160d5",
   "metadata": {},
   "source": [
    "### sorted()"
   ]
  },
  {
   "cell_type": "code",
   "execution_count": 22,
   "id": "cc9bfea3-7e36-4e13-a4af-c604874acbcc",
   "metadata": {},
   "outputs": [
    {
     "data": {
      "text/plain": [
       "[[1, 2], [3, 4], [5, 6], [7, 8], [9, 10]]"
      ]
     },
     "execution_count": 22,
     "metadata": {},
     "output_type": "execute_result"
    }
   ],
   "source": [
    "numbers = [[1, 2], [3, 4], [5, 6], [7, 8], [9, 10]]\n",
    "sorted(numbers)"
   ]
  },
  {
   "cell_type": "code",
   "execution_count": 27,
   "id": "fd6e2411-f6d9-4ff4-a3fc-aa78bfc2d810",
   "metadata": {},
   "outputs": [
    {
     "data": {
      "text/plain": [
       "[[1, 2], [3, 4], [5, 6], [7, 8], [9, 10]]"
      ]
     },
     "execution_count": 27,
     "metadata": {},
     "output_type": "execute_result"
    }
   ],
   "source": [
    "sorted(numbers, key=lambda x: x[1]) #sort by second element\n",
    "#lambda function takes x and return value at index 1 of tupule"
   ]
  },
  {
   "cell_type": "code",
   "execution_count": 28,
   "id": "68ab3243-5db3-42e1-b143-1c502cf57997",
   "metadata": {},
   "outputs": [
    {
     "data": {
      "text/plain": [
       "[[1, 2], [3, 4], [5, 6], [7, 8], [9, 10]]"
      ]
     },
     "execution_count": 28,
     "metadata": {},
     "output_type": "execute_result"
    }
   ],
   "source": [
    "sorted(numbers, key=lambda x:sum(x)) #sort by sum"
   ]
  },
  {
   "attachments": {},
   "cell_type": "markdown",
   "id": "a0ca3954",
   "metadata": {},
   "source": [
    "## 1.3 Optional arguments"
   ]
  },
  {
   "cell_type": "markdown",
   "id": "0a11dabc-0671-4c63-8dbc-6ebf67796ab9",
   "metadata": {},
   "source": [
    "need to give the argument a default value so that it always has something to work with"
   ]
  },
  {
   "cell_type": "code",
   "execution_count": 30,
   "id": "de7dfc55-b06b-46b2-9eea-445fc1f8e242",
   "metadata": {},
   "outputs": [
    {
     "data": {
      "text/plain": [
       "'You are not a pony!'"
      ]
     },
     "execution_count": 30,
     "metadata": {},
     "output_type": "execute_result"
    }
   ],
   "source": [
    "def greeting(name = \"no entry\"): #no entry is default string\n",
    "    if name == \"pony\":\n",
    "        return 'Hello Pony!'\n",
    "    else:\n",
    "        return \"You are not a pony!\"\n",
    "greeting() #results to no entry"
   ]
  },
  {
   "cell_type": "code",
   "execution_count": 31,
   "id": "65da63d3-4d69-429e-8673-2b68d667e9fe",
   "metadata": {},
   "outputs": [
    {
     "data": {
      "text/plain": [
       "\u001b[1;31mSignature:\u001b[0m \u001b[0mprint\u001b[0m\u001b[1;33m(\u001b[0m\u001b[1;33m*\u001b[0m\u001b[0margs\u001b[0m\u001b[1;33m,\u001b[0m \u001b[0msep\u001b[0m\u001b[1;33m=\u001b[0m\u001b[1;34m' '\u001b[0m\u001b[1;33m,\u001b[0m \u001b[0mend\u001b[0m\u001b[1;33m=\u001b[0m\u001b[1;34m'\\n'\u001b[0m\u001b[1;33m,\u001b[0m \u001b[0mfile\u001b[0m\u001b[1;33m=\u001b[0m\u001b[1;32mNone\u001b[0m\u001b[1;33m,\u001b[0m \u001b[0mflush\u001b[0m\u001b[1;33m=\u001b[0m\u001b[1;32mFalse\u001b[0m\u001b[1;33m)\u001b[0m\u001b[1;33m\u001b[0m\u001b[1;33m\u001b[0m\u001b[0m\n",
       "\u001b[1;31mDocstring:\u001b[0m\n",
       "Prints the values to a stream, or to sys.stdout by default.\n",
       "\n",
       "sep\n",
       "  string inserted between values, default a space.\n",
       "end\n",
       "  string appended after the last value, default a newline.\n",
       "file\n",
       "  a file-like object (stream); defaults to the current sys.stdout.\n",
       "flush\n",
       "  whether to forcibly flush the stream.\n",
       "\u001b[1;31mType:\u001b[0m      builtin_function_or_method"
      ]
     },
     "metadata": {},
     "output_type": "display_data"
    }
   ],
   "source": [
    "?print"
   ]
  },
  {
   "cell_type": "markdown",
   "id": "53f6275a-6b2d-41d6-be33-ebc09922b9f2",
   "metadata": {},
   "source": [
    "print() can accept other arguments that are optional with default values. Can also specify them "
   ]
  },
  {
   "cell_type": "code",
   "execution_count": 32,
   "id": "599b4987-7a51-404f-aeb1-09fb3858d234",
   "metadata": {},
   "outputs": [
    {
     "name": "stdout",
     "output_type": "stream",
     "text": [
      "Hello pony\n"
     ]
    }
   ],
   "source": [
    "print(\"Hello\", \"pony\") #default values\n",
    "# By default, the print function separates the arguments with a space"
   ]
  },
  {
   "cell_type": "code",
   "execution_count": 34,
   "id": "1b4f840d-cef4-4cb4-9778-75d7ce31e4c7",
   "metadata": {},
   "outputs": [
    {
     "name": "stdout",
     "output_type": "stream",
     "text": [
      "Hello-----pony\n"
     ]
    }
   ],
   "source": [
    "print(\"Hello\", \"pony\", sep=\"-----\") #specifiying separator"
   ]
  },
  {
   "attachments": {},
   "cell_type": "markdown",
   "id": "65fcea5c",
   "metadata": {},
   "source": [
    "## 1.4 The importance of functions?"
   ]
  },
  {
   "attachments": {},
   "cell_type": "markdown",
   "id": "6b0b2e7d",
   "metadata": {},
   "source": [
    "### An argument for functions"
   ]
  },
  {
   "cell_type": "markdown",
   "id": "28820c92-c3ac-4791-a6a4-1ff23170fe6f",
   "metadata": {},
   "source": [
    "**Abstraction of details** \n",
    "break up a complicated solution into modular chunks (i.e., functions), becomes easier to think about it and easier to focus on your overall solution because not distracted by unnecessary information.\n",
    "\n",
    "**Reusability of code**\n",
    "straightforward to reuse it instead of copying and pasting at different places. code will be shorter and more compact.\n",
    "\n",
    "**Maintainability of code** \n",
    "easier to change and maintain because you need only make changes in one place, at the function definition."
   ]
  },
  {
   "attachments": {},
   "cell_type": "markdown",
   "id": "61694096",
   "metadata": {},
   "source": [
    "### A word of caution"
   ]
  },
  {
   "cell_type": "markdown",
   "id": "571e1388-0be5-4120-9e21-7998e9653cdd",
   "metadata": {},
   "source": [
    "- don't abuse function (trying to do too many things/arguments)\n",
    "- overused to hard to read"
   ]
  }
 ],
 "metadata": {
  "kernelspec": {
   "display_name": "Python 3 (ipykernel)",
   "language": "python",
   "name": "python3"
  },
  "language_info": {
   "codemirror_mode": {
    "name": "ipython",
    "version": 3
   },
   "file_extension": ".py",
   "mimetype": "text/x-python",
   "name": "python",
   "nbconvert_exporter": "python",
   "pygments_lexer": "ipython3",
   "version": "3.12.1"
  },
  "toc": {
   "base_numbering": 1,
   "nav_menu": {},
   "number_sections": true,
   "sideBar": true,
   "skip_h1_title": false,
   "title_cell": "Table of Contents",
   "title_sidebar": "Contents",
   "toc_cell": false,
   "toc_position": {},
   "toc_section_display": true,
   "toc_window_display": false
  },
  "vscode": {
   "interpreter": {
    "hash": "31f2aee4e71d21fbe5cf8b01ff0e069b9275f58929596ceb00d14d90e3e16cd6"
   }
  }
 },
 "nbformat": 4,
 "nbformat_minor": 5
}
